{
  "cells": [
    {
      "cell_type": "markdown",
      "metadata": {
        "id": "y7-WfNUDaHII"
      },
      "source": [
        "# Large scale text analysis with deep learning"
      ]
    },
    {
      "cell_type": "markdown",
      "metadata": {
        "id": "fg6cGSdbaHIN"
      },
      "source": [
        "In this assignment, you will develop a deep learning model to predict salaries based on resumes (credits to to [Oleg Vasilev](https://github.com/Omrigan/)). While we will begin this project during our seminar class, it will require additional effort on your part to finalize and submit it as homework.\n",
        "\n",
        "Following this, there is a supplementary task in another notebook titled homework_part2.ipynb. In this task, you are expected to conduct a more extensive study. This will involve testing various architectures to optimize prediction accuracy.\n",
        "\n",
        "To secure full marks for this assignment, ensure a consistent training process with an **MSE loss falling below 0.10**. If necessary, feel free to experiment with different parameters and model architectures. If you achieve the desired results in the homework_part2.ipynb, you can either replicate your solution here or reference it explicitly in the comments when you submit."
      ]
    },
    {
      "cell_type": "code",
      "execution_count": null,
      "metadata": {
        "id": "LzbUpjzXaHIO"
      },
      "outputs": [],
      "source": [
        "import numpy as np\n",
        "import pandas as pd\n",
        "import matplotlib.pyplot as plt\n",
        "%matplotlib inline"
      ]
    },
    {
      "cell_type": "markdown",
      "metadata": {
        "id": "YiYgDeySaHIP"
      },
      "source": [
        "### About the challenge\n",
        "For starters, let's download and unpack the data from [here].\n",
        "\n",
        "You can also get it from [yadisk url](https://yadi.sk/d/vVEOWPFY3NruT7) the competition [page](https://www.kaggle.com/c/job-salary-prediction/data) (pick `Train_rev1.*`)."
      ]
    },
    {
      "cell_type": "markdown",
      "metadata": {
        "id": "hD2CWI2xRkKE"
      },
      "source": [
        "### **Downloading**"
      ]
    },
    {
      "cell_type": "code",
      "execution_count": null,
      "metadata": {
        "id": "u6uygGdkRWEd"
      },
      "outputs": [],
      "source": [
        "import requests\n",
        "from urllib.parse import urlencode"
      ]
    },
    {
      "cell_type": "code",
      "execution_count": null,
      "metadata": {
        "id": "9yj233ZTRRTj"
      },
      "outputs": [],
      "source": [
        "base_url = 'https://cloud-api.yandex.net/v1/disk/public/resources/download?'\n",
        "public_key = 'https://disk.yandex.ru/d/vVEOWPFY3NruT7'\n",
        "\n",
        "final_url = base_url + urlencode(dict(public_key=public_key))\n",
        "response = requests.get(final_url)\n",
        "download_url = response.json()['href']\n",
        "\n",
        "download_response = requests.get(download_url)\n",
        "with open('Train_rev1.zip', 'wb') as f:\n",
        "    f.write(download_response.content)"
      ]
    },
    {
      "cell_type": "markdown",
      "metadata": {
        "id": "MKHdp4rkRp_o"
      },
      "source": [
        "### **Unpacking!**"
      ]
    },
    {
      "cell_type": "code",
      "execution_count": null,
      "metadata": {
        "colab": {
          "base_uri": "https://localhost:8080/"
        },
        "id": "YOhbyyocaHIQ",
        "outputId": "7369d84b-d523-4f0a-ac00-d387578c292f"
      },
      "outputs": [
        {
          "data": {
            "text/plain": [
              "(244768, 12)"
            ]
          },
          "execution_count": 8,
          "metadata": {},
          "output_type": "execute_result"
        }
      ],
      "source": [
        "data = pd.read_csv(\"./Train_rev1.zip\", compression='zip', index_col=None)\n",
        "data.shape"
      ]
    },
    {
      "cell_type": "code",
      "execution_count": null,
      "metadata": {
        "colab": {
          "base_uri": "https://localhost:8080/",
          "height": 503
        },
        "id": "0wqeZiMtaHIQ",
        "outputId": "b1ecffa3-762c-497a-e8a5-9206c7443276"
      },
      "outputs": [
        {
          "data": {
            "application/vnd.google.colaboratory.intrinsic+json": {
              "type": "dataframe",
              "variable_name": "data"
            },
            "text/html": [
              "\n",
              "  <div id=\"df-6077a25b-e498-4aed-800a-23a913fd2c6d\" class=\"colab-df-container\">\n",
              "    <div>\n",
              "<style scoped>\n",
              "    .dataframe tbody tr th:only-of-type {\n",
              "        vertical-align: middle;\n",
              "    }\n",
              "\n",
              "    .dataframe tbody tr th {\n",
              "        vertical-align: top;\n",
              "    }\n",
              "\n",
              "    .dataframe thead th {\n",
              "        text-align: right;\n",
              "    }\n",
              "</style>\n",
              "<table border=\"1\" class=\"dataframe\">\n",
              "  <thead>\n",
              "    <tr style=\"text-align: right;\">\n",
              "      <th></th>\n",
              "      <th>Id</th>\n",
              "      <th>Title</th>\n",
              "      <th>FullDescription</th>\n",
              "      <th>LocationRaw</th>\n",
              "      <th>LocationNormalized</th>\n",
              "      <th>ContractType</th>\n",
              "      <th>ContractTime</th>\n",
              "      <th>Company</th>\n",
              "      <th>Category</th>\n",
              "      <th>SalaryRaw</th>\n",
              "      <th>SalaryNormalized</th>\n",
              "      <th>SourceName</th>\n",
              "    </tr>\n",
              "  </thead>\n",
              "  <tbody>\n",
              "    <tr>\n",
              "      <th>0</th>\n",
              "      <td>12612628</td>\n",
              "      <td>Engineering Systems Analyst</td>\n",
              "      <td>Engineering Systems Analyst Dorking Surrey Sal...</td>\n",
              "      <td>Dorking, Surrey, Surrey</td>\n",
              "      <td>Dorking</td>\n",
              "      <td>NaN</td>\n",
              "      <td>permanent</td>\n",
              "      <td>Gregory Martin International</td>\n",
              "      <td>Engineering Jobs</td>\n",
              "      <td>20000 - 30000/annum 20-30K</td>\n",
              "      <td>25000</td>\n",
              "      <td>cv-library.co.uk</td>\n",
              "    </tr>\n",
              "    <tr>\n",
              "      <th>1</th>\n",
              "      <td>12612830</td>\n",
              "      <td>Stress Engineer Glasgow</td>\n",
              "      <td>Stress Engineer Glasgow Salary **** to **** We...</td>\n",
              "      <td>Glasgow, Scotland, Scotland</td>\n",
              "      <td>Glasgow</td>\n",
              "      <td>NaN</td>\n",
              "      <td>permanent</td>\n",
              "      <td>Gregory Martin International</td>\n",
              "      <td>Engineering Jobs</td>\n",
              "      <td>25000 - 35000/annum 25-35K</td>\n",
              "      <td>30000</td>\n",
              "      <td>cv-library.co.uk</td>\n",
              "    </tr>\n",
              "    <tr>\n",
              "      <th>2</th>\n",
              "      <td>12612844</td>\n",
              "      <td>Modelling and simulation analyst</td>\n",
              "      <td>Mathematical Modeller / Simulation Analyst / O...</td>\n",
              "      <td>Hampshire, South East, South East</td>\n",
              "      <td>Hampshire</td>\n",
              "      <td>NaN</td>\n",
              "      <td>permanent</td>\n",
              "      <td>Gregory Martin International</td>\n",
              "      <td>Engineering Jobs</td>\n",
              "      <td>20000 - 40000/annum 20-40K</td>\n",
              "      <td>30000</td>\n",
              "      <td>cv-library.co.uk</td>\n",
              "    </tr>\n",
              "    <tr>\n",
              "      <th>3</th>\n",
              "      <td>12613049</td>\n",
              "      <td>Engineering Systems Analyst / Mathematical Mod...</td>\n",
              "      <td>Engineering Systems Analyst / Mathematical Mod...</td>\n",
              "      <td>Surrey, South East, South East</td>\n",
              "      <td>Surrey</td>\n",
              "      <td>NaN</td>\n",
              "      <td>permanent</td>\n",
              "      <td>Gregory Martin International</td>\n",
              "      <td>Engineering Jobs</td>\n",
              "      <td>25000 - 30000/annum 25K-30K negotiable</td>\n",
              "      <td>27500</td>\n",
              "      <td>cv-library.co.uk</td>\n",
              "    </tr>\n",
              "    <tr>\n",
              "      <th>4</th>\n",
              "      <td>12613647</td>\n",
              "      <td>Pioneer, Miser Engineering Systems Analyst</td>\n",
              "      <td>Pioneer, Miser  Engineering Systems Analyst Do...</td>\n",
              "      <td>Surrey, South East, South East</td>\n",
              "      <td>Surrey</td>\n",
              "      <td>NaN</td>\n",
              "      <td>permanent</td>\n",
              "      <td>Gregory Martin International</td>\n",
              "      <td>Engineering Jobs</td>\n",
              "      <td>20000 - 30000/annum 20-30K</td>\n",
              "      <td>25000</td>\n",
              "      <td>cv-library.co.uk</td>\n",
              "    </tr>\n",
              "  </tbody>\n",
              "</table>\n",
              "</div>\n",
              "    <div class=\"colab-df-buttons\">\n",
              "\n",
              "  <div class=\"colab-df-container\">\n",
              "    <button class=\"colab-df-convert\" onclick=\"convertToInteractive('df-6077a25b-e498-4aed-800a-23a913fd2c6d')\"\n",
              "            title=\"Convert this dataframe to an interactive table.\"\n",
              "            style=\"display:none;\">\n",
              "\n",
              "  <svg xmlns=\"http://www.w3.org/2000/svg\" height=\"24px\" viewBox=\"0 -960 960 960\">\n",
              "    <path d=\"M120-120v-720h720v720H120Zm60-500h600v-160H180v160Zm220 220h160v-160H400v160Zm0 220h160v-160H400v160ZM180-400h160v-160H180v160Zm440 0h160v-160H620v160ZM180-180h160v-160H180v160Zm440 0h160v-160H620v160Z\"/>\n",
              "  </svg>\n",
              "    </button>\n",
              "\n",
              "  <style>\n",
              "    .colab-df-container {\n",
              "      display:flex;\n",
              "      gap: 12px;\n",
              "    }\n",
              "\n",
              "    .colab-df-convert {\n",
              "      background-color: #E8F0FE;\n",
              "      border: none;\n",
              "      border-radius: 50%;\n",
              "      cursor: pointer;\n",
              "      display: none;\n",
              "      fill: #1967D2;\n",
              "      height: 32px;\n",
              "      padding: 0 0 0 0;\n",
              "      width: 32px;\n",
              "    }\n",
              "\n",
              "    .colab-df-convert:hover {\n",
              "      background-color: #E2EBFA;\n",
              "      box-shadow: 0px 1px 2px rgba(60, 64, 67, 0.3), 0px 1px 3px 1px rgba(60, 64, 67, 0.15);\n",
              "      fill: #174EA6;\n",
              "    }\n",
              "\n",
              "    .colab-df-buttons div {\n",
              "      margin-bottom: 4px;\n",
              "    }\n",
              "\n",
              "    [theme=dark] .colab-df-convert {\n",
              "      background-color: #3B4455;\n",
              "      fill: #D2E3FC;\n",
              "    }\n",
              "\n",
              "    [theme=dark] .colab-df-convert:hover {\n",
              "      background-color: #434B5C;\n",
              "      box-shadow: 0px 1px 3px 1px rgba(0, 0, 0, 0.15);\n",
              "      filter: drop-shadow(0px 1px 2px rgba(0, 0, 0, 0.3));\n",
              "      fill: #FFFFFF;\n",
              "    }\n",
              "  </style>\n",
              "\n",
              "    <script>\n",
              "      const buttonEl =\n",
              "        document.querySelector('#df-6077a25b-e498-4aed-800a-23a913fd2c6d button.colab-df-convert');\n",
              "      buttonEl.style.display =\n",
              "        google.colab.kernel.accessAllowed ? 'block' : 'none';\n",
              "\n",
              "      async function convertToInteractive(key) {\n",
              "        const element = document.querySelector('#df-6077a25b-e498-4aed-800a-23a913fd2c6d');\n",
              "        const dataTable =\n",
              "          await google.colab.kernel.invokeFunction('convertToInteractive',\n",
              "                                                    [key], {});\n",
              "        if (!dataTable) return;\n",
              "\n",
              "        const docLinkHtml = 'Like what you see? Visit the ' +\n",
              "          '<a target=\"_blank\" href=https://colab.research.google.com/notebooks/data_table.ipynb>data table notebook</a>'\n",
              "          + ' to learn more about interactive tables.';\n",
              "        element.innerHTML = '';\n",
              "        dataTable['output_type'] = 'display_data';\n",
              "        await google.colab.output.renderOutput(dataTable, element);\n",
              "        const docLink = document.createElement('div');\n",
              "        docLink.innerHTML = docLinkHtml;\n",
              "        element.appendChild(docLink);\n",
              "      }\n",
              "    </script>\n",
              "  </div>\n",
              "\n",
              "\n",
              "<div id=\"df-44ef76ec-bd9d-4b50-ba3f-d24c5ecefe3c\">\n",
              "  <button class=\"colab-df-quickchart\" onclick=\"quickchart('df-44ef76ec-bd9d-4b50-ba3f-d24c5ecefe3c')\"\n",
              "            title=\"Suggest charts\"\n",
              "            style=\"display:none;\">\n",
              "\n",
              "<svg xmlns=\"http://www.w3.org/2000/svg\" height=\"24px\"viewBox=\"0 0 24 24\"\n",
              "     width=\"24px\">\n",
              "    <g>\n",
              "        <path d=\"M19 3H5c-1.1 0-2 .9-2 2v14c0 1.1.9 2 2 2h14c1.1 0 2-.9 2-2V5c0-1.1-.9-2-2-2zM9 17H7v-7h2v7zm4 0h-2V7h2v10zm4 0h-2v-4h2v4z\"/>\n",
              "    </g>\n",
              "</svg>\n",
              "  </button>\n",
              "\n",
              "<style>\n",
              "  .colab-df-quickchart {\n",
              "      --bg-color: #E8F0FE;\n",
              "      --fill-color: #1967D2;\n",
              "      --hover-bg-color: #E2EBFA;\n",
              "      --hover-fill-color: #174EA6;\n",
              "      --disabled-fill-color: #AAA;\n",
              "      --disabled-bg-color: #DDD;\n",
              "  }\n",
              "\n",
              "  [theme=dark] .colab-df-quickchart {\n",
              "      --bg-color: #3B4455;\n",
              "      --fill-color: #D2E3FC;\n",
              "      --hover-bg-color: #434B5C;\n",
              "      --hover-fill-color: #FFFFFF;\n",
              "      --disabled-bg-color: #3B4455;\n",
              "      --disabled-fill-color: #666;\n",
              "  }\n",
              "\n",
              "  .colab-df-quickchart {\n",
              "    background-color: var(--bg-color);\n",
              "    border: none;\n",
              "    border-radius: 50%;\n",
              "    cursor: pointer;\n",
              "    display: none;\n",
              "    fill: var(--fill-color);\n",
              "    height: 32px;\n",
              "    padding: 0;\n",
              "    width: 32px;\n",
              "  }\n",
              "\n",
              "  .colab-df-quickchart:hover {\n",
              "    background-color: var(--hover-bg-color);\n",
              "    box-shadow: 0 1px 2px rgba(60, 64, 67, 0.3), 0 1px 3px 1px rgba(60, 64, 67, 0.15);\n",
              "    fill: var(--button-hover-fill-color);\n",
              "  }\n",
              "\n",
              "  .colab-df-quickchart-complete:disabled,\n",
              "  .colab-df-quickchart-complete:disabled:hover {\n",
              "    background-color: var(--disabled-bg-color);\n",
              "    fill: var(--disabled-fill-color);\n",
              "    box-shadow: none;\n",
              "  }\n",
              "\n",
              "  .colab-df-spinner {\n",
              "    border: 2px solid var(--fill-color);\n",
              "    border-color: transparent;\n",
              "    border-bottom-color: var(--fill-color);\n",
              "    animation:\n",
              "      spin 1s steps(1) infinite;\n",
              "  }\n",
              "\n",
              "  @keyframes spin {\n",
              "    0% {\n",
              "      border-color: transparent;\n",
              "      border-bottom-color: var(--fill-color);\n",
              "      border-left-color: var(--fill-color);\n",
              "    }\n",
              "    20% {\n",
              "      border-color: transparent;\n",
              "      border-left-color: var(--fill-color);\n",
              "      border-top-color: var(--fill-color);\n",
              "    }\n",
              "    30% {\n",
              "      border-color: transparent;\n",
              "      border-left-color: var(--fill-color);\n",
              "      border-top-color: var(--fill-color);\n",
              "      border-right-color: var(--fill-color);\n",
              "    }\n",
              "    40% {\n",
              "      border-color: transparent;\n",
              "      border-right-color: var(--fill-color);\n",
              "      border-top-color: var(--fill-color);\n",
              "    }\n",
              "    60% {\n",
              "      border-color: transparent;\n",
              "      border-right-color: var(--fill-color);\n",
              "    }\n",
              "    80% {\n",
              "      border-color: transparent;\n",
              "      border-right-color: var(--fill-color);\n",
              "      border-bottom-color: var(--fill-color);\n",
              "    }\n",
              "    90% {\n",
              "      border-color: transparent;\n",
              "      border-bottom-color: var(--fill-color);\n",
              "    }\n",
              "  }\n",
              "</style>\n",
              "\n",
              "  <script>\n",
              "    async function quickchart(key) {\n",
              "      const quickchartButtonEl =\n",
              "        document.querySelector('#' + key + ' button');\n",
              "      quickchartButtonEl.disabled = true;  // To prevent multiple clicks.\n",
              "      quickchartButtonEl.classList.add('colab-df-spinner');\n",
              "      try {\n",
              "        const charts = await google.colab.kernel.invokeFunction(\n",
              "            'suggestCharts', [key], {});\n",
              "      } catch (error) {\n",
              "        console.error('Error during call to suggestCharts:', error);\n",
              "      }\n",
              "      quickchartButtonEl.classList.remove('colab-df-spinner');\n",
              "      quickchartButtonEl.classList.add('colab-df-quickchart-complete');\n",
              "    }\n",
              "    (() => {\n",
              "      let quickchartButtonEl =\n",
              "        document.querySelector('#df-44ef76ec-bd9d-4b50-ba3f-d24c5ecefe3c button');\n",
              "      quickchartButtonEl.style.display =\n",
              "        google.colab.kernel.accessAllowed ? 'block' : 'none';\n",
              "    })();\n",
              "  </script>\n",
              "</div>\n",
              "    </div>\n",
              "  </div>\n"
            ],
            "text/plain": [
              "         Id                                              Title  \\\n",
              "0  12612628                        Engineering Systems Analyst   \n",
              "1  12612830                            Stress Engineer Glasgow   \n",
              "2  12612844                   Modelling and simulation analyst   \n",
              "3  12613049  Engineering Systems Analyst / Mathematical Mod...   \n",
              "4  12613647         Pioneer, Miser Engineering Systems Analyst   \n",
              "\n",
              "                                     FullDescription  \\\n",
              "0  Engineering Systems Analyst Dorking Surrey Sal...   \n",
              "1  Stress Engineer Glasgow Salary **** to **** We...   \n",
              "2  Mathematical Modeller / Simulation Analyst / O...   \n",
              "3  Engineering Systems Analyst / Mathematical Mod...   \n",
              "4  Pioneer, Miser  Engineering Systems Analyst Do...   \n",
              "\n",
              "                         LocationRaw LocationNormalized ContractType  \\\n",
              "0            Dorking, Surrey, Surrey            Dorking          NaN   \n",
              "1        Glasgow, Scotland, Scotland            Glasgow          NaN   \n",
              "2  Hampshire, South East, South East          Hampshire          NaN   \n",
              "3     Surrey, South East, South East             Surrey          NaN   \n",
              "4     Surrey, South East, South East             Surrey          NaN   \n",
              "\n",
              "  ContractTime                       Company          Category  \\\n",
              "0    permanent  Gregory Martin International  Engineering Jobs   \n",
              "1    permanent  Gregory Martin International  Engineering Jobs   \n",
              "2    permanent  Gregory Martin International  Engineering Jobs   \n",
              "3    permanent  Gregory Martin International  Engineering Jobs   \n",
              "4    permanent  Gregory Martin International  Engineering Jobs   \n",
              "\n",
              "                                SalaryRaw  SalaryNormalized        SourceName  \n",
              "0              20000 - 30000/annum 20-30K             25000  cv-library.co.uk  \n",
              "1              25000 - 35000/annum 25-35K             30000  cv-library.co.uk  \n",
              "2              20000 - 40000/annum 20-40K             30000  cv-library.co.uk  \n",
              "3  25000 - 30000/annum 25K-30K negotiable             27500  cv-library.co.uk  \n",
              "4              20000 - 30000/annum 20-30K             25000  cv-library.co.uk  "
            ]
          },
          "execution_count": 9,
          "metadata": {},
          "output_type": "execute_result"
        }
      ],
      "source": [
        "data.head()"
      ]
    },
    {
      "cell_type": "markdown",
      "metadata": {
        "id": "1M87jomXaHIR"
      },
      "source": [
        "One problem with salary prediction is that it's oddly distributed: there are many people who are paid standard salaries and a few that get tons of money. The distribution is fat-tailed on the right side, which is inconvenient for MSE minimization.\n",
        "\n",
        "There are several techniques to combat this: using a different loss function, predicting log-target instead of raw target or even replacing targets with their percentiles among all salaries in the training set. We gonna use logarithm for now.\n",
        "\n",
        "_You can read more [in the official description](https://www.kaggle.com/c/job-salary-prediction#description)._"
      ]
    },
    {
      "cell_type": "code",
      "execution_count": null,
      "metadata": {
        "colab": {
          "base_uri": "https://localhost:8080/",
          "height": 368
        },
        "id": "gorNEiI3aHIR",
        "outputId": "853327fb-b03e-4bd4-f04c-e436e065a77d"
      },
      "outputs": [
        {
          "data": {
            "image/png": "[encoded data removed]",
            "text/plain": [
              "<Figure size 800x400 with 2 Axes>"
            ]
          },
          "metadata": {},
          "output_type": "display_data"
        }
      ],
      "source": [
        "data['Log1pSalary'] = np.log1p(data['SalaryNormalized']).astype('float32')\n",
        "\n",
        "plt.figure(figsize=[8, 4])\n",
        "plt.subplot(1, 2, 1)\n",
        "plt.hist(data[\"SalaryNormalized\"], bins=20);\n",
        "\n",
        "plt.subplot(1, 2, 2)\n",
        "plt.hist(data['Log1pSalary'], bins=20);"
      ]
    },
    {
      "cell_type": "markdown",
      "metadata": {
        "id": "UrBG82d2aHIR"
      },
      "source": [
        "Our task is to predict one number, __Log1pSalary__.\n",
        "\n",
        "<br>\n",
        "\n",
        "To do so, our model can access a ***number of features***:\n",
        "* Free text: __`Title`__ and  __`FullDescription`__\n",
        "* Categorical: __`Category`__, __`Company`__, __`LocationNormalized`__, __`ContractType`__, and __`ContractTime`__."
      ]
    },
    {
      "cell_type": "code",
      "execution_count": null,
      "metadata": {
        "colab": {
          "base_uri": "https://localhost:8080/",
          "height": 337
        },
        "id": "yWW-AnXKaHIS",
        "outputId": "f786faf5-8329-487d-a2e4-21bbbc5174e1"
      },
      "outputs": [
        {
          "data": {
            "application/vnd.google.colaboratory.intrinsic+json": {
              "summary": "{\n  \"name\": \"data\",\n  \"rows\": 3,\n  \"fields\": [\n    {\n      \"column\": \"Id\",\n      \"properties\": {\n        \"dtype\": \"number\",\n        \"std\": 548517,\n        \"min\": 70783131,\n        \"max\": 71849158,\n        \"num_unique_values\": 3,\n        \"samples\": [\n          70783131,\n          71091859,\n          71849158\n        ],\n        \"semantic_type\": \"\",\n        \"description\": \"\"\n      }\n    },\n    {\n      \"column\": \"Title\",\n      \"properties\": {\n        \"dtype\": \"string\",\n        \"num_unique_values\": 3,\n        \"samples\": [\n          \"Dynamics NAV Technical Consultant \\u2013 Birmingham \\u2013Microsoft Gold Partner\",\n          \"RGN  Colwyn Bay\",\n          \"Store Manager Designate\"\n        ],\n        \"semantic_type\": \"\",\n        \"description\": \"\"\n      }\n    },\n    {\n      \"column\": \"FullDescription\",\n      \"properties\": {\n        \"dtype\": \"string\",\n        \"num_unique_values\": 3,\n        \"samples\": [\n          \"Dynamics NAV Technical Consultant \\u2013 Birmingham \\u2013 Microsoft Gold Partner The Role: Microsoft Gold Partner requires a Technical Consultant based in Birmingham. The role will require you to design and develop bespoke NAV solutions, lead projects and integrate Dynamics NAV into new and existing projects. The Company: My Client has more than 30 years\\u2019 experience in providing solutions to the manufacturing and wholesale distribution industries, helping companies to deploy ERP and Logistics solutions to meet the changing needs of their business Key Skills:  Proven high level capability using Dynamics NAV, C/SIDE and C/AL  Excellent communication Liaison skills  Experience with .NET or C Beneficial Skills:  Experience of supporting and training EndUsers  SQL Reports and/or SQL Server knowledge Opportunity: This exciting role offers a confident, outgoing Technical Consultant the chance to take ownership of small individual projects, design and develop bespoke NAV solutions. This is accompanied by promising career progression. Key Words: NAV/ Microsoft Dynamics NAV/ Navision/ Dynamics NAV/ Birmingham/ Midlands/ Northampton/ Nottingham This job was originally posted as www.cwjobs.co.uk/JobSeeking/DynamicsNAVTechnicalConsultantBirminghamMicrosoftGoldPartner_job****\",\n          \"GREAT OPPORTUNITIES FOR REGISTERED NURSES Are you an RGN looking for new opportunities?? Due to an increased demand Jane Lewis Nursing Agency are recruiting a Registered Nurse to work at a variety of nursing homes and residential homes around the North Wales area. We are looking for an enthusiastic and motivated RGN who is dedicated to delivering high standards of care. You MUST have a valid NMC pin number and have completed a preceptorship. Jane Lewis offer: Competitive rates of pay Flexible hours (part time/full time/early/late/night) A wide variety of homes Holiday pay on every shift Free mandatory training To apply please ring Jane Lewis Nursing Agency **** ****\",\n          \"Store Manager Designate  25K  ****K Basic, Plus Bonus, Excellent OTE Opps This is a designate role covering the West Yorkshire area. As a Store Manager Designate you will initially be responsible for supporting current Store Managers in the daytoday running of the store in order to achieve and exceed commercial and financial targets, within your given area. You will also be responsible for managing, coaching, motivating and developing your team. Store teams consist of an Assistant Manager, Account Managers, Sales Consultants, Cashiers and Customer Service Representatives. It is essential that you have experience of working within a sales and/or collections environment. You must be able to demonstrate that you can: Maximise sales and/or collections by communicating, motivating and developing yourself and your team to achieve Company objectives and Key Performance Indicators. Maximise profitability by utilising all profit and loss reporting tools available. Successfully manage the performance of all grades within your team, ensuring under performance is addressed timely and effectively. Develop the reputation and brand of the company by consistently delivering the highest quality of customer service. Prioritise and organise tasks effectively, ensuring flexibility to meet the day to day demands of the business. You will be given a great deal of empowerment to ensure your business grows whilst maintaining store standards and developing your team. You must be able to demonstrate the enthusiasm and desire to achieve and exceed set targets. Excellent training will be provided. The types of benefits you can expect are: Excellent OTE opportunities Company car (after a qualifying period) No Sunday trading 25 Days Holiday Entitlement Stakeholder Pension (including employer contribution) Childcare Vouchers Scheme Discounted staff purchases (after a qualifying period) This job was originally posted as www.totaljobs.com/JobSeeking/StoreManagerDesignate_job****\"\n        ],\n        \"semantic_type\": \"\",\n        \"description\": \"\"\n      }\n    },\n    {\n      \"column\": \"LocationRaw\",\n      \"properties\": {\n        \"dtype\": \"string\",\n        \"num_unique_values\": 3,\n        \"samples\": [\n          \"Birmingham West Midlands (County) West Midlands\",\n          \"Colwyn Bay\",\n          \"Leeds West Yorkshire Yorkshire\"\n        ],\n        \"semantic_type\": \"\",\n        \"description\": \"\"\n      }\n    },\n    {\n      \"column\": \"LocationNormalized\",\n      \"properties\": {\n        \"dtype\": \"string\",\n        \"num_unique_values\": 3,\n        \"samples\": [\n          \"UK\",\n          \"Colwyn Bay\",\n          \"Leeds\"\n        ],\n        \"semantic_type\": \"\",\n        \"description\": \"\"\n      }\n    },\n    {\n      \"column\": \"ContractType\",\n      \"properties\": {\n        \"dtype\": \"string\",\n        \"num_unique_values\": 2,\n        \"samples\": [\n          \"full_time\",\n          \"NaN\"\n        ],\n        \"semantic_type\": \"\",\n        \"description\": \"\"\n      }\n    },\n    {\n      \"column\": \"ContractTime\",\n      \"properties\": {\n        \"dtype\": \"string\",\n        \"num_unique_values\": 2,\n        \"samples\": [\n          \"NaN\",\n          \"permanent\"\n        ],\n        \"semantic_type\": \"\",\n        \"description\": \"\"\n      }\n    },\n    {\n      \"column\": \"Company\",\n      \"properties\": {\n        \"dtype\": \"string\",\n        \"num_unique_values\": 3,\n        \"samples\": [\n          \"Conspicuous\",\n          \"Jane Lewis Health & Social Care\"\n        ],\n        \"semantic_type\": \"\",\n        \"description\": \"\"\n      }\n    },\n    {\n      \"column\": \"Category\",\n      \"properties\": {\n        \"dtype\": \"string\",\n        \"num_unique_values\": 3,\n        \"samples\": [\n          \"IT Jobs\",\n          \"Healthcare & Nursing Jobs\"\n        ],\n        \"semantic_type\": \"\",\n        \"description\": \"\"\n      }\n    },\n    {\n      \"column\": \"SalaryRaw\",\n      \"properties\": {\n        \"dtype\": \"string\",\n        \"num_unique_values\": 3,\n        \"samples\": [\n          \"Up to 55,000 per annum\",\n          \"13.00 - 26.00/Hour\"\n        ],\n        \"semantic_type\": \"\",\n        \"description\": \"\"\n      }\n    },\n    {\n      \"column\": \"SalaryNormalized\",\n      \"properties\": {\n        \"dtype\": \"number\",\n        \"std\": 12836,\n        \"min\": 30000,\n        \"max\": 55000,\n        \"num_unique_values\": 3,\n        \"samples\": [\n          55000,\n          37440\n        ],\n        \"semantic_type\": \"\",\n        \"description\": \"\"\n      }\n    },\n    {\n      \"column\": \"SourceName\",\n      \"properties\": {\n        \"dtype\": \"string\",\n        \"num_unique_values\": 3,\n        \"samples\": [\n          \"cwjobs.co.uk\",\n          \"staffnurse.com\"\n        ],\n        \"semantic_type\": \"\",\n        \"description\": \"\"\n      }\n    },\n    {\n      \"column\": \"Log1pSalary\",\n      \"properties\": {\n        \"dtype\": \"float32\",\n        \"num_unique_values\": 3,\n        \"samples\": [\n          10.915106773376465,\n          10.530521392822266\n        ],\n        \"semantic_type\": \"\",\n        \"description\": \"\"\n      }\n    }\n  ]\n}",
              "type": "dataframe"
            },
            "text/html": [
              "\n",
              "  <div id=\"df-bf380e90-2690-4ee8-a320-3359787369ae\" class=\"colab-df-container\">\n",
              "    <div>\n",
              "<style scoped>\n",
              "    .dataframe tbody tr th:only-of-type {\n",
              "        vertical-align: middle;\n",
              "    }\n",
              "\n",
              "    .dataframe tbody tr th {\n",
              "        vertical-align: top;\n",
              "    }\n",
              "\n",
              "    .dataframe thead th {\n",
              "        text-align: right;\n",
              "    }\n",
              "</style>\n",
              "<table border=\"1\" class=\"dataframe\">\n",
              "  <thead>\n",
              "    <tr style=\"text-align: right;\">\n",
              "      <th></th>\n",
              "      <th>Id</th>\n",
              "      <th>Title</th>\n",
              "      <th>FullDescription</th>\n",
              "      <th>LocationRaw</th>\n",
              "      <th>LocationNormalized</th>\n",
              "      <th>ContractType</th>\n",
              "      <th>ContractTime</th>\n",
              "      <th>Company</th>\n",
              "      <th>Category</th>\n",
              "      <th>SalaryRaw</th>\n",
              "      <th>SalaryNormalized</th>\n",
              "      <th>SourceName</th>\n",
              "      <th>Log1pSalary</th>\n",
              "    </tr>\n",
              "  </thead>\n",
              "  <tbody>\n",
              "    <tr>\n",
              "      <th>153256</th>\n",
              "      <td>70783131</td>\n",
              "      <td>Dynamics NAV Technical Consultant – Birmingham...</td>\n",
              "      <td>Dynamics NAV Technical Consultant – Birmingham...</td>\n",
              "      <td>Birmingham West Midlands (County) West Midlands</td>\n",
              "      <td>UK</td>\n",
              "      <td>NaN</td>\n",
              "      <td>permanent</td>\n",
              "      <td>Conspicuous</td>\n",
              "      <td>IT Jobs</td>\n",
              "      <td>Up to 55,000 per annum</td>\n",
              "      <td>55000</td>\n",
              "      <td>cwjobs.co.uk</td>\n",
              "      <td>10.915107</td>\n",
              "    </tr>\n",
              "    <tr>\n",
              "      <th>156357</th>\n",
              "      <td>71091859</td>\n",
              "      <td>RGN  Colwyn Bay</td>\n",
              "      <td>GREAT OPPORTUNITIES FOR REGISTERED NURSES Are ...</td>\n",
              "      <td>Colwyn Bay</td>\n",
              "      <td>Colwyn Bay</td>\n",
              "      <td>full_time</td>\n",
              "      <td>NaN</td>\n",
              "      <td>Jane Lewis Health &amp; Social Care</td>\n",
              "      <td>Healthcare &amp; Nursing Jobs</td>\n",
              "      <td>13.00 - 26.00/Hour</td>\n",
              "      <td>37440</td>\n",
              "      <td>staffnurse.com</td>\n",
              "      <td>10.530521</td>\n",
              "    </tr>\n",
              "    <tr>\n",
              "      <th>198837</th>\n",
              "      <td>71849158</td>\n",
              "      <td>Store Manager Designate</td>\n",
              "      <td>Store Manager Designate  25K  ****K Basic, Plu...</td>\n",
              "      <td>Leeds West Yorkshire Yorkshire</td>\n",
              "      <td>Leeds</td>\n",
              "      <td>NaN</td>\n",
              "      <td>permanent</td>\n",
              "      <td>PerfectHome</td>\n",
              "      <td>Accounting &amp; Finance Jobs</td>\n",
              "      <td>25k - 35k per year</td>\n",
              "      <td>30000</td>\n",
              "      <td>totaljobs.com</td>\n",
              "      <td>10.308986</td>\n",
              "    </tr>\n",
              "  </tbody>\n",
              "</table>\n",
              "</div>\n",
              "    <div class=\"colab-df-buttons\">\n",
              "\n",
              "  <div class=\"colab-df-container\">\n",
              "    <button class=\"colab-df-convert\" onclick=\"convertToInteractive('df-bf380e90-2690-4ee8-a320-3359787369ae')\"\n",
              "            title=\"Convert this dataframe to an interactive table.\"\n",
              "            style=\"display:none;\">\n",
              "\n",
              "  <svg xmlns=\"http://www.w3.org/2000/svg\" height=\"24px\" viewBox=\"0 -960 960 960\">\n",
              "    <path d=\"M120-120v-720h720v720H120Zm60-500h600v-160H180v160Zm220 220h160v-160H400v160Zm0 220h160v-160H400v160ZM180-400h160v-160H180v160Zm440 0h160v-160H620v160ZM180-180h160v-160H180v160Zm440 0h160v-160H620v160Z\"/>\n",
              "  </svg>\n",
              "    </button>\n",
              "\n",
              "  <style>\n",
              "    .colab-df-container {\n",
              "      display:flex;\n",
              "      gap: 12px;\n",
              "    }\n",
              "\n",
              "    .colab-df-convert {\n",
              "      background-color: #E8F0FE;\n",
              "      border: none;\n",
              "      border-radius: 50%;\n",
              "      cursor: pointer;\n",
              "      display: none;\n",
              "      fill: #1967D2;\n",
              "      height: 32px;\n",
              "      padding: 0 0 0 0;\n",
              "      width: 32px;\n",
              "    }\n",
              "\n",
              "    .colab-df-convert:hover {\n",
              "      background-color: #E2EBFA;\n",
              "      box-shadow: 0px 1px 2px rgba(60, 64, 67, 0.3), 0px 1px 3px 1px rgba(60, 64, 67, 0.15);\n",
              "      fill: #174EA6;\n",
              "    }\n",
              "\n",
              "    .colab-df-buttons div {\n",
              "      margin-bottom: 4px;\n",
              "    }\n",
              "\n",
              "    [theme=dark] .colab-df-convert {\n",
              "      background-color: #3B4455;\n",
              "      fill: #D2E3FC;\n",
              "    }\n",
              "\n",
              "    [theme=dark] .colab-df-convert:hover {\n",
              "      background-color: #434B5C;\n",
              "      box-shadow: 0px 1px 3px 1px rgba(0, 0, 0, 0.15);\n",
              "      filter: drop-shadow(0px 1px 2px rgba(0, 0, 0, 0.3));\n",
              "      fill: #FFFFFF;\n",
              "    }\n",
              "  </style>\n",
              "\n",
              "    <script>\n",
              "      const buttonEl =\n",
              "        document.querySelector('#df-bf380e90-2690-4ee8-a320-3359787369ae button.colab-df-convert');\n",
              "      buttonEl.style.display =\n",
              "        google.colab.kernel.accessAllowed ? 'block' : 'none';\n",
              "\n",
              "      async function convertToInteractive(key) {\n",
              "        const element = document.querySelector('#df-bf380e90-2690-4ee8-a320-3359787369ae');\n",
              "        const dataTable =\n",
              "          await google.colab.kernel.invokeFunction('convertToInteractive',\n",
              "                                                    [key], {});\n",
              "        if (!dataTable) return;\n",
              "\n",
              "        const docLinkHtml = 'Like what you see? Visit the ' +\n",
              "          '<a target=\"_blank\" href=https://colab.research.google.com/notebooks/data_table.ipynb>data table notebook</a>'\n",
              "          + ' to learn more about interactive tables.';\n",
              "        element.innerHTML = '';\n",
              "        dataTable['output_type'] = 'display_data';\n",
              "        await google.colab.output.renderOutput(dataTable, element);\n",
              "        const docLink = document.createElement('div');\n",
              "        docLink.innerHTML = docLinkHtml;\n",
              "        element.appendChild(docLink);\n",
              "      }\n",
              "    </script>\n",
              "  </div>\n",
              "\n",
              "\n",
              "<div id=\"df-f2a8c471-ad08-4bf1-ad17-5ccad7aedaae\">\n",
              "  <button class=\"colab-df-quickchart\" onclick=\"quickchart('df-f2a8c471-ad08-4bf1-ad17-5ccad7aedaae')\"\n",
              "            title=\"Suggest charts\"\n",
              "            style=\"display:none;\">\n",
              "\n",
              "<svg xmlns=\"http://www.w3.org/2000/svg\" height=\"24px\"viewBox=\"0 0 24 24\"\n",
              "     width=\"24px\">\n",
              "    <g>\n",
              "        <path d=\"M19 3H5c-1.1 0-2 .9-2 2v14c0 1.1.9 2 2 2h14c1.1 0 2-.9 2-2V5c0-1.1-.9-2-2-2zM9 17H7v-7h2v7zm4 0h-2V7h2v10zm4 0h-2v-4h2v4z\"/>\n",
              "    </g>\n",
              "</svg>\n",
              "  </button>\n",
              "\n",
              "<style>\n",
              "  .colab-df-quickchart {\n",
              "      --bg-color: #E8F0FE;\n",
              "      --fill-color: #1967D2;\n",
              "      --hover-bg-color: #E2EBFA;\n",
              "      --hover-fill-color: #174EA6;\n",
              "      --disabled-fill-color: #AAA;\n",
              "      --disabled-bg-color: #DDD;\n",
              "  }\n",
              "\n",
              "  [theme=dark] .colab-df-quickchart {\n",
              "      --bg-color: #3B4455;\n",
              "      --fill-color: #D2E3FC;\n",
              "      --hover-bg-color: #434B5C;\n",
              "      --hover-fill-color: #FFFFFF;\n",
              "      --disabled-bg-color: #3B4455;\n",
              "      --disabled-fill-color: #666;\n",
              "  }\n",
              "\n",
              "  .colab-df-quickchart {\n",
              "    background-color: var(--bg-color);\n",
              "    border: none;\n",
              "    border-radius: 50%;\n",
              "    cursor: pointer;\n",
              "    display: none;\n",
              "    fill: var(--fill-color);\n",
              "    height: 32px;\n",
              "    padding: 0;\n",
              "    width: 32px;\n",
              "  }\n",
              "\n",
              "  .colab-df-quickchart:hover {\n",
              "    background-color: var(--hover-bg-color);\n",
              "    box-shadow: 0 1px 2px rgba(60, 64, 67, 0.3), 0 1px 3px 1px rgba(60, 64, 67, 0.15);\n",
              "    fill: var(--button-hover-fill-color);\n",
              "  }\n",
              "\n",
              "  .colab-df-quickchart-complete:disabled,\n",
              "  .colab-df-quickchart-complete:disabled:hover {\n",
              "    background-color: var(--disabled-bg-color);\n",
              "    fill: var(--disabled-fill-color);\n",
              "    box-shadow: none;\n",
              "  }\n",
              "\n",
              "  .colab-df-spinner {\n",
              "    border: 2px solid var(--fill-color);\n",
              "    border-color: transparent;\n",
              "    border-bottom-color: var(--fill-color);\n",
              "    animation:\n",
              "      spin 1s steps(1) infinite;\n",
              "  }\n",
              "\n",
              "  @keyframes spin {\n",
              "    0% {\n",
              "      border-color: transparent;\n",
              "      border-bottom-color: var(--fill-color);\n",
              "      border-left-color: var(--fill-color);\n",
              "    }\n",
              "    20% {\n",
              "      border-color: transparent;\n",
              "      border-left-color: var(--fill-color);\n",
              "      border-top-color: var(--fill-color);\n",
              "    }\n",
              "    30% {\n",
              "      border-color: transparent;\n",
              "      border-left-color: var(--fill-color);\n",
              "      border-top-color: var(--fill-color);\n",
              "      border-right-color: var(--fill-color);\n",
              "    }\n",
              "    40% {\n",
              "      border-color: transparent;\n",
              "      border-right-color: var(--fill-color);\n",
              "      border-top-color: var(--fill-color);\n",
              "    }\n",
              "    60% {\n",
              "      border-color: transparent;\n",
              "      border-right-color: var(--fill-color);\n",
              "    }\n",
              "    80% {\n",
              "      border-color: transparent;\n",
              "      border-right-color: var(--fill-color);\n",
              "      border-bottom-color: var(--fill-color);\n",
              "    }\n",
              "    90% {\n",
              "      border-color: transparent;\n",
              "      border-bottom-color: var(--fill-color);\n",
              "    }\n",
              "  }\n",
              "</style>\n",
              "\n",
              "  <script>\n",
              "    async function quickchart(key) {\n",
              "      const quickchartButtonEl =\n",
              "        document.querySelector('#' + key + ' button');\n",
              "      quickchartButtonEl.disabled = true;  // To prevent multiple clicks.\n",
              "      quickchartButtonEl.classList.add('colab-df-spinner');\n",
              "      try {\n",
              "        const charts = await google.colab.kernel.invokeFunction(\n",
              "            'suggestCharts', [key], {});\n",
              "      } catch (error) {\n",
              "        console.error('Error during call to suggestCharts:', error);\n",
              "      }\n",
              "      quickchartButtonEl.classList.remove('colab-df-spinner');\n",
              "      quickchartButtonEl.classList.add('colab-df-quickchart-complete');\n",
              "    }\n",
              "    (() => {\n",
              "      let quickchartButtonEl =\n",
              "        document.querySelector('#df-f2a8c471-ad08-4bf1-ad17-5ccad7aedaae button');\n",
              "      quickchartButtonEl.style.display =\n",
              "        google.colab.kernel.accessAllowed ? 'block' : 'none';\n",
              "    })();\n",
              "  </script>\n",
              "</div>\n",
              "    </div>\n",
              "  </div>\n"
            ],
            "text/plain": [
              "              Id                                              Title  \\\n",
              "153256  70783131  Dynamics NAV Technical Consultant – Birmingham...   \n",
              "156357  71091859                                    RGN  Colwyn Bay   \n",
              "198837  71849158                            Store Manager Designate   \n",
              "\n",
              "                                          FullDescription  \\\n",
              "153256  Dynamics NAV Technical Consultant – Birmingham...   \n",
              "156357  GREAT OPPORTUNITIES FOR REGISTERED NURSES Are ...   \n",
              "198837  Store Manager Designate  25K  ****K Basic, Plu...   \n",
              "\n",
              "                                            LocationRaw LocationNormalized  \\\n",
              "153256  Birmingham West Midlands (County) West Midlands                 UK   \n",
              "156357                                       Colwyn Bay         Colwyn Bay   \n",
              "198837                   Leeds West Yorkshire Yorkshire              Leeds   \n",
              "\n",
              "       ContractType ContractTime                          Company  \\\n",
              "153256          NaN    permanent                      Conspicuous   \n",
              "156357    full_time          NaN  Jane Lewis Health & Social Care   \n",
              "198837          NaN    permanent                      PerfectHome   \n",
              "\n",
              "                         Category               SalaryRaw  SalaryNormalized  \\\n",
              "153256                    IT Jobs  Up to 55,000 per annum             55000   \n",
              "156357  Healthcare & Nursing Jobs      13.00 - 26.00/Hour             37440   \n",
              "198837  Accounting & Finance Jobs      25k - 35k per year             30000   \n",
              "\n",
              "            SourceName  Log1pSalary  \n",
              "153256    cwjobs.co.uk    10.915107  \n",
              "156357  staffnurse.com    10.530521  \n",
              "198837   totaljobs.com    10.308986  "
            ]
          },
          "execution_count": 11,
          "metadata": {},
          "output_type": "execute_result"
        }
      ],
      "source": [
        "text_columns = [\"Title\", \"FullDescription\"]\n",
        "categorical_columns = [\"Category\", \"Company\", \"LocationNormalized\", \"ContractType\", \"ContractTime\"]\n",
        "TARGET_COLUMN = \"Log1pSalary\"\n",
        "\n",
        "data[categorical_columns] = data[categorical_columns].fillna('NaN') # cast missing values to string \"NaN\"\n",
        "\n",
        "data.sample(3)"
      ]
    },
    {
      "cell_type": "markdown",
      "metadata": {
        "id": "rSoprF9ZaHIS"
      },
      "source": [
        "### Preprocessing text data\n",
        "\n",
        "Just like last week, applying NLP to a problem begins from tokenization: splitting raw text into sequences of tokens (words, punctuation, etc).\n",
        "\n",
        "__Your task__ is to lowercase and tokenize all texts under `Title` and `FullDescription` columns. Store the tokenized data as a __space-separated__ string of tokens for performance reasons.\n",
        "\n",
        "It's okay to use nltk tokenizers. Assertions were designed for WordPunctTokenizer, slight deviations are okay."
      ]
    },
    {
      "cell_type": "code",
      "execution_count": null,
      "metadata": {
        "colab": {
          "base_uri": "https://localhost:8080/"
        },
        "id": "ngePRM2-aHIS",
        "outputId": "472d495c-00ad-4bda-9add-42e57b6b7f7f",
        "scrolled": true
      },
      "outputs": [
        {
          "name": "stdout",
          "output_type": "stream",
          "text": [
            "Raw text:\n",
            "2         Mathematical Modeller / Simulation Analyst / O...\n",
            "100002    A successful and high achieving specialist sch...\n",
            "200002    Web Designer  HTML, CSS, JavaScript, Photoshop...\n",
            "Name: FullDescription, dtype: object\n"
          ]
        }
      ],
      "source": [
        "print(\"Raw text:\")\n",
        "print(data[\"FullDescription\"][2::100000])"
      ]
    },
    {
      "cell_type": "code",
      "execution_count": null,
      "metadata": {
        "colab": {
          "base_uri": "https://localhost:8080/",
          "height": 206
        },
        "id": "wlA2BjvSX1UU",
        "outputId": "34574dd0-b35d-4d2b-bfaf-86a26cfe89bb"
      },
      "outputs": [
        {
          "data": {
            "application/vnd.google.colaboratory.intrinsic+json": {
              "summary": "{\n  \"name\": \"data[text_columns]\",\n  \"rows\": 5,\n  \"fields\": [\n    {\n      \"column\": \"Title\",\n      \"properties\": {\n        \"dtype\": \"string\",\n        \"num_unique_values\": 5,\n        \"samples\": [\n          \"Stress Engineer Glasgow\",\n          \"Pioneer, Miser Engineering Systems Analyst\",\n          \"Modelling and simulation analyst\"\n        ],\n        \"semantic_type\": \"\",\n        \"description\": \"\"\n      }\n    },\n    {\n      \"column\": \"FullDescription\",\n      \"properties\": {\n        \"dtype\": \"string\",\n        \"num_unique_values\": 5,\n        \"samples\": [\n          \"Stress Engineer Glasgow Salary **** to **** We re currently looking for talented engineers to join our growing Glasgow team at a variety of levels. The roles are ideally suited to high calibre engineering graduates with any level of appropriate experience, so that we can give you the opportunity to use your technical skills to provide high quality input to our aerospace projects, spanning both aerostructures and aeroengines. In return, you can expect good career opportunities and the chance for advancement and personal and professional development, support while you gain Chartership and some opportunities to possibly travel or work in other offices, in or outside of the UK. The Requirements You will need to have a good engineering degree that includes structural analysis (such as aeronautical, mechanical, automotive, civil) with some experience in a professional engineering environment relevant to (but not limited to) the aerospace sector. You will need to demonstrate experience in at least one or more of the following areas: Structural/stress analysis Composite stress analysis (any industry) Linear and nonlinear finite element analysis Fatigue and damage tolerance Structural dynamics Thermal analysis Aerostructures experience You will also be expected to demonstrate the following qualities: A strong desire to progress quickly to a position of leadership Professional approach Strong communication skills, written and verbal Commercial awareness Team working, being comfortable working in international teams and self managing PLEASE NOTE SECURITY CLEARANCE IS REQUIRED FOR THIS ROLE Stress Engineer Glasgow Salary **** to ****\",\n          \"Pioneer, Miser  Engineering Systems Analyst Dorking  Surrey Salary ****K Located in Surrey, our client provides specialist software development Pioneer, Miser  Engineering Systems Analyst Dorking  Surrey Salary ****K\",\n          \"Mathematical Modeller / Simulation Analyst / Operational Analyst Basingstoke, Hampshire Up to ****K AAE pension contribution, private medical and dental The opportunity Our client is an independent consultancy firm which has an opportunity for a Data Analyst with 35 years experience. The role will require the successful candidate to demonstrate their ability to analyse a problem and arrive at a solution, with varying levels of data being available. Essential skills Thorough knowledge of Excel and proven ability to utilise this to create powerful decision support models Experience in Modelling and Simulation Techniques, Experience of techniques such as Discrete Event Simulation and/or SD modelling Mathematical/scientific background  minimum degree qualified Proven analytical and problem solving skills Self Starter Ability to develop solid working relationships In addition to formal qualifications and experience, the successful candidate will require excellent written and verbal communication skills, be energetic, enterprising and have a determination to succeed. They will be required to build solid working relationships, both internally with colleagues and, most importantly, externally with our clients. They must be comfortable working independently to deliver against challenging client demands. The offices are located in Basingstoke, Hampshire, but our client work for clients worldwide. The successful candidate must therefore be prepared to undertake work at client sites for short periods of time. Physics, Mathematics, Modelling, Simulation, Analytical, Operational Research, Mathematical Modelling Mathematical Modeller / Simulation Analyst / Operational Analyst Basingstoke, Hampshire ****K AAE pension contribution, private medical and dental\"\n        ],\n        \"semantic_type\": \"\",\n        \"description\": \"\"\n      }\n    }\n  ]\n}",
              "type": "dataframe"
            },
            "text/html": [
              "\n",
              "  <div id=\"df-e25e5815-5f2c-402f-a15a-0bb2883dd00a\" class=\"colab-df-container\">\n",
              "    <div>\n",
              "<style scoped>\n",
              "    .dataframe tbody tr th:only-of-type {\n",
              "        vertical-align: middle;\n",
              "    }\n",
              "\n",
              "    .dataframe tbody tr th {\n",
              "        vertical-align: top;\n",
              "    }\n",
              "\n",
              "    .dataframe thead th {\n",
              "        text-align: right;\n",
              "    }\n",
              "</style>\n",
              "<table border=\"1\" class=\"dataframe\">\n",
              "  <thead>\n",
              "    <tr style=\"text-align: right;\">\n",
              "      <th></th>\n",
              "      <th>Title</th>\n",
              "      <th>FullDescription</th>\n",
              "    </tr>\n",
              "  </thead>\n",
              "  <tbody>\n",
              "    <tr>\n",
              "      <th>0</th>\n",
              "      <td>Engineering Systems Analyst</td>\n",
              "      <td>Engineering Systems Analyst Dorking Surrey Sal...</td>\n",
              "    </tr>\n",
              "    <tr>\n",
              "      <th>1</th>\n",
              "      <td>Stress Engineer Glasgow</td>\n",
              "      <td>Stress Engineer Glasgow Salary **** to **** We...</td>\n",
              "    </tr>\n",
              "    <tr>\n",
              "      <th>2</th>\n",
              "      <td>Modelling and simulation analyst</td>\n",
              "      <td>Mathematical Modeller / Simulation Analyst / O...</td>\n",
              "    </tr>\n",
              "    <tr>\n",
              "      <th>3</th>\n",
              "      <td>Engineering Systems Analyst / Mathematical Mod...</td>\n",
              "      <td>Engineering Systems Analyst / Mathematical Mod...</td>\n",
              "    </tr>\n",
              "    <tr>\n",
              "      <th>4</th>\n",
              "      <td>Pioneer, Miser Engineering Systems Analyst</td>\n",
              "      <td>Pioneer, Miser  Engineering Systems Analyst Do...</td>\n",
              "    </tr>\n",
              "  </tbody>\n",
              "</table>\n",
              "</div>\n",
              "    <div class=\"colab-df-buttons\">\n",
              "\n",
              "  <div class=\"colab-df-container\">\n",
              "    <button class=\"colab-df-convert\" onclick=\"convertToInteractive('df-e25e5815-5f2c-402f-a15a-0bb2883dd00a')\"\n",
              "            title=\"Convert this dataframe to an interactive table.\"\n",
              "            style=\"display:none;\">\n",
              "\n",
              "  <svg xmlns=\"http://www.w3.org/2000/svg\" height=\"24px\" viewBox=\"0 -960 960 960\">\n",
              "    <path d=\"M120-120v-720h720v720H120Zm60-500h600v-160H180v160Zm220 220h160v-160H400v160Zm0 220h160v-160H400v160ZM180-400h160v-160H180v160Zm440 0h160v-160H620v160ZM180-180h160v-160H180v160Zm440 0h160v-160H620v160Z\"/>\n",
              "  </svg>\n",
              "    </button>\n",
              "\n",
              "  <style>\n",
              "    .colab-df-container {\n",
              "      display:flex;\n",
              "      gap: 12px;\n",
              "    }\n",
              "\n",
              "    .colab-df-convert {\n",
              "      background-color: #E8F0FE;\n",
              "      border: none;\n",
              "      border-radius: 50%;\n",
              "      cursor: pointer;\n",
              "      display: none;\n",
              "      fill: #1967D2;\n",
              "      height: 32px;\n",
              "      padding: 0 0 0 0;\n",
              "      width: 32px;\n",
              "    }\n",
              "\n",
              "    .colab-df-convert:hover {\n",
              "      background-color: #E2EBFA;\n",
              "      box-shadow: 0px 1px 2px rgba(60, 64, 67, 0.3), 0px 1px 3px 1px rgba(60, 64, 67, 0.15);\n",
              "      fill: #174EA6;\n",
              "    }\n",
              "\n",
              "    .colab-df-buttons div {\n",
              "      margin-bottom: 4px;\n",
              "    }\n",
              "\n",
              "    [theme=dark] .colab-df-convert {\n",
              "      background-color: #3B4455;\n",
              "      fill: #D2E3FC;\n",
              "    }\n",
              "\n",
              "    [theme=dark] .colab-df-convert:hover {\n",
              "      background-color: #434B5C;\n",
              "      box-shadow: 0px 1px 3px 1px rgba(0, 0, 0, 0.15);\n",
              "      filter: drop-shadow(0px 1px 2px rgba(0, 0, 0, 0.3));\n",
              "      fill: #FFFFFF;\n",
              "    }\n",
              "  </style>\n",
              "\n",
              "    <script>\n",
              "      const buttonEl =\n",
              "        document.querySelector('#df-e25e5815-5f2c-402f-a15a-0bb2883dd00a button.colab-df-convert');\n",
              "      buttonEl.style.display =\n",
              "        google.colab.kernel.accessAllowed ? 'block' : 'none';\n",
              "\n",
              "      async function convertToInteractive(key) {\n",
              "        const element = document.querySelector('#df-e25e5815-5f2c-402f-a15a-0bb2883dd00a');\n",
              "        const dataTable =\n",
              "          await google.colab.kernel.invokeFunction('convertToInteractive',\n",
              "                                                    [key], {});\n",
              "        if (!dataTable) return;\n",
              "\n",
              "        const docLinkHtml = 'Like what you see? Visit the ' +\n",
              "          '<a target=\"_blank\" href=https://colab.research.google.com/notebooks/data_table.ipynb>data table notebook</a>'\n",
              "          + ' to learn more about interactive tables.';\n",
              "        element.innerHTML = '';\n",
              "        dataTable['output_type'] = 'display_data';\n",
              "        await google.colab.output.renderOutput(dataTable, element);\n",
              "        const docLink = document.createElement('div');\n",
              "        docLink.innerHTML = docLinkHtml;\n",
              "        element.appendChild(docLink);\n",
              "      }\n",
              "    </script>\n",
              "  </div>\n",
              "\n",
              "\n",
              "<div id=\"df-d38885e7-45e9-4124-9b5a-6e24aed08fbd\">\n",
              "  <button class=\"colab-df-quickchart\" onclick=\"quickchart('df-d38885e7-45e9-4124-9b5a-6e24aed08fbd')\"\n",
              "            title=\"Suggest charts\"\n",
              "            style=\"display:none;\">\n",
              "\n",
              "<svg xmlns=\"http://www.w3.org/2000/svg\" height=\"24px\"viewBox=\"0 0 24 24\"\n",
              "     width=\"24px\">\n",
              "    <g>\n",
              "        <path d=\"M19 3H5c-1.1 0-2 .9-2 2v14c0 1.1.9 2 2 2h14c1.1 0 2-.9 2-2V5c0-1.1-.9-2-2-2zM9 17H7v-7h2v7zm4 0h-2V7h2v10zm4 0h-2v-4h2v4z\"/>\n",
              "    </g>\n",
              "</svg>\n",
              "  </button>\n",
              "\n",
              "<style>\n",
              "  .colab-df-quickchart {\n",
              "      --bg-color: #E8F0FE;\n",
              "      --fill-color: #1967D2;\n",
              "      --hover-bg-color: #E2EBFA;\n",
              "      --hover-fill-color: #174EA6;\n",
              "      --disabled-fill-color: #AAA;\n",
              "      --disabled-bg-color: #DDD;\n",
              "  }\n",
              "\n",
              "  [theme=dark] .colab-df-quickchart {\n",
              "      --bg-color: #3B4455;\n",
              "      --fill-color: #D2E3FC;\n",
              "      --hover-bg-color: #434B5C;\n",
              "      --hover-fill-color: #FFFFFF;\n",
              "      --disabled-bg-color: #3B4455;\n",
              "      --disabled-fill-color: #666;\n",
              "  }\n",
              "\n",
              "  .colab-df-quickchart {\n",
              "    background-color: var(--bg-color);\n",
              "    border: none;\n",
              "    border-radius: 50%;\n",
              "    cursor: pointer;\n",
              "    display: none;\n",
              "    fill: var(--fill-color);\n",
              "    height: 32px;\n",
              "    padding: 0;\n",
              "    width: 32px;\n",
              "  }\n",
              "\n",
              "  .colab-df-quickchart:hover {\n",
              "    background-color: var(--hover-bg-color);\n",
              "    box-shadow: 0 1px 2px rgba(60, 64, 67, 0.3), 0 1px 3px 1px rgba(60, 64, 67, 0.15);\n",
              "    fill: var(--button-hover-fill-color);\n",
              "  }\n",
              "\n",
              "  .colab-df-quickchart-complete:disabled,\n",
              "  .colab-df-quickchart-complete:disabled:hover {\n",
              "    background-color: var(--disabled-bg-color);\n",
              "    fill: var(--disabled-fill-color);\n",
              "    box-shadow: none;\n",
              "  }\n",
              "\n",
              "  .colab-df-spinner {\n",
              "    border: 2px solid var(--fill-color);\n",
              "    border-color: transparent;\n",
              "    border-bottom-color: var(--fill-color);\n",
              "    animation:\n",
              "      spin 1s steps(1) infinite;\n",
              "  }\n",
              "\n",
              "  @keyframes spin {\n",
              "    0% {\n",
              "      border-color: transparent;\n",
              "      border-bottom-color: var(--fill-color);\n",
              "      border-left-color: var(--fill-color);\n",
              "    }\n",
              "    20% {\n",
              "      border-color: transparent;\n",
              "      border-left-color: var(--fill-color);\n",
              "      border-top-color: var(--fill-color);\n",
              "    }\n",
              "    30% {\n",
              "      border-color: transparent;\n",
              "      border-left-color: var(--fill-color);\n",
              "      border-top-color: var(--fill-color);\n",
              "      border-right-color: var(--fill-color);\n",
              "    }\n",
              "    40% {\n",
              "      border-color: transparent;\n",
              "      border-right-color: var(--fill-color);\n",
              "      border-top-color: var(--fill-color);\n",
              "    }\n",
              "    60% {\n",
              "      border-color: transparent;\n",
              "      border-right-color: var(--fill-color);\n",
              "    }\n",
              "    80% {\n",
              "      border-color: transparent;\n",
              "      border-right-color: var(--fill-color);\n",
              "      border-bottom-color: var(--fill-color);\n",
              "    }\n",
              "    90% {\n",
              "      border-color: transparent;\n",
              "      border-bottom-color: var(--fill-color);\n",
              "    }\n",
              "  }\n",
              "</style>\n",
              "\n",
              "  <script>\n",
              "    async function quickchart(key) {\n",
              "      const quickchartButtonEl =\n",
              "        document.querySelector('#' + key + ' button');\n",
              "      quickchartButtonEl.disabled = true;  // To prevent multiple clicks.\n",
              "      quickchartButtonEl.classList.add('colab-df-spinner');\n",
              "      try {\n",
              "        const charts = await google.colab.kernel.invokeFunction(\n",
              "            'suggestCharts', [key], {});\n",
              "      } catch (error) {\n",
              "        console.error('Error during call to suggestCharts:', error);\n",
              "      }\n",
              "      quickchartButtonEl.classList.remove('colab-df-spinner');\n",
              "      quickchartButtonEl.classList.add('colab-df-quickchart-complete');\n",
              "    }\n",
              "    (() => {\n",
              "      let quickchartButtonEl =\n",
              "        document.querySelector('#df-d38885e7-45e9-4124-9b5a-6e24aed08fbd button');\n",
              "      quickchartButtonEl.style.display =\n",
              "        google.colab.kernel.accessAllowed ? 'block' : 'none';\n",
              "    })();\n",
              "  </script>\n",
              "</div>\n",
              "    </div>\n",
              "  </div>\n"
            ],
            "text/plain": [
              "                                               Title  \\\n",
              "0                        Engineering Systems Analyst   \n",
              "1                            Stress Engineer Glasgow   \n",
              "2                   Modelling and simulation analyst   \n",
              "3  Engineering Systems Analyst / Mathematical Mod...   \n",
              "4         Pioneer, Miser Engineering Systems Analyst   \n",
              "\n",
              "                                     FullDescription  \n",
              "0  Engineering Systems Analyst Dorking Surrey Sal...  \n",
              "1  Stress Engineer Glasgow Salary **** to **** We...  \n",
              "2  Mathematical Modeller / Simulation Analyst / O...  \n",
              "3  Engineering Systems Analyst / Mathematical Mod...  \n",
              "4  Pioneer, Miser  Engineering Systems Analyst Do...  "
            ]
          },
          "execution_count": 13,
          "metadata": {},
          "output_type": "execute_result"
        }
      ],
      "source": [
        "data[text_columns].head()"
      ]
    },
    {
      "cell_type": "code",
      "execution_count": null,
      "metadata": {
        "id": "oycmpQdDaHIT"
      },
      "outputs": [],
      "source": [
        "import nltk\n",
        "from nltk.tokenize import WordPunctTokenizer\n",
        "\n",
        "tokenizer = WordPunctTokenizer()\n",
        "\n",
        "for column in text_columns:\n",
        "    data[column] = data[column].apply(lambda x: ' '.join(tokenizer.tokenize(str(x).lower())))"
      ]
    },
    {
      "cell_type": "code",
      "execution_count": null,
      "metadata": {
        "colab": {
          "base_uri": "https://localhost:8080/",
          "height": 206
        },
        "id": "5OZoCEDfYKY3",
        "outputId": "ebdc6358-9a5d-402f-ba1b-fc3224cf6cbd"
      },
      "outputs": [
        {
          "data": {
            "application/vnd.google.colaboratory.intrinsic+json": {
              "summary": "{\n  \"name\": \"data[text_columns]\",\n  \"rows\": 5,\n  \"fields\": [\n    {\n      \"column\": \"Title\",\n      \"properties\": {\n        \"dtype\": \"string\",\n        \"num_unique_values\": 5,\n        \"samples\": [\n          \"stress engineer glasgow\",\n          \"pioneer , miser engineering systems analyst\",\n          \"modelling and simulation analyst\"\n        ],\n        \"semantic_type\": \"\",\n        \"description\": \"\"\n      }\n    },\n    {\n      \"column\": \"FullDescription\",\n      \"properties\": {\n        \"dtype\": \"string\",\n        \"num_unique_values\": 5,\n        \"samples\": [\n          \"stress engineer glasgow salary **** to **** we re currently looking for talented engineers to join our growing glasgow team at a variety of levels . the roles are ideally suited to high calibre engineering graduates with any level of appropriate experience , so that we can give you the opportunity to use your technical skills to provide high quality input to our aerospace projects , spanning both aerostructures and aeroengines . in return , you can expect good career opportunities and the chance for advancement and personal and professional development , support while you gain chartership and some opportunities to possibly travel or work in other offices , in or outside of the uk . the requirements you will need to have a good engineering degree that includes structural analysis ( such as aeronautical , mechanical , automotive , civil ) with some experience in a professional engineering environment relevant to ( but not limited to ) the aerospace sector . you will need to demonstrate experience in at least one or more of the following areas : structural / stress analysis composite stress analysis ( any industry ) linear and nonlinear finite element analysis fatigue and damage tolerance structural dynamics thermal analysis aerostructures experience you will also be expected to demonstrate the following qualities : a strong desire to progress quickly to a position of leadership professional approach strong communication skills , written and verbal commercial awareness team working , being comfortable working in international teams and self managing please note security clearance is required for this role stress engineer glasgow salary **** to ****\",\n          \"pioneer , miser engineering systems analyst dorking surrey salary **** k located in surrey , our client provides specialist software development pioneer , miser engineering systems analyst dorking surrey salary **** k\",\n          \"mathematical modeller / simulation analyst / operational analyst basingstoke , hampshire up to **** k aae pension contribution , private medical and dental the opportunity our client is an independent consultancy firm which has an opportunity for a data analyst with 35 years experience . the role will require the successful candidate to demonstrate their ability to analyse a problem and arrive at a solution , with varying levels of data being available . essential skills thorough knowledge of excel and proven ability to utilise this to create powerful decision support models experience in modelling and simulation techniques , experience of techniques such as discrete event simulation and / or sd modelling mathematical / scientific background minimum degree qualified proven analytical and problem solving skills self starter ability to develop solid working relationships in addition to formal qualifications and experience , the successful candidate will require excellent written and verbal communication skills , be energetic , enterprising and have a determination to succeed . they will be required to build solid working relationships , both internally with colleagues and , most importantly , externally with our clients . they must be comfortable working independently to deliver against challenging client demands . the offices are located in basingstoke , hampshire , but our client work for clients worldwide . the successful candidate must therefore be prepared to undertake work at client sites for short periods of time . physics , mathematics , modelling , simulation , analytical , operational research , mathematical modelling mathematical modeller / simulation analyst / operational analyst basingstoke , hampshire **** k aae pension contribution , private medical and dental\"\n        ],\n        \"semantic_type\": \"\",\n        \"description\": \"\"\n      }\n    }\n  ]\n}",
              "type": "dataframe"
            },
            "text/html": [
              "\n",
              "  <div id=\"df-c84f94d8-6b18-44fe-a6d0-27064c2b5971\" class=\"colab-df-container\">\n",
              "    <div>\n",
              "<style scoped>\n",
              "    .dataframe tbody tr th:only-of-type {\n",
              "        vertical-align: middle;\n",
              "    }\n",
              "\n",
              "    .dataframe tbody tr th {\n",
              "        vertical-align: top;\n",
              "    }\n",
              "\n",
              "    .dataframe thead th {\n",
              "        text-align: right;\n",
              "    }\n",
              "</style>\n",
              "<table border=\"1\" class=\"dataframe\">\n",
              "  <thead>\n",
              "    <tr style=\"text-align: right;\">\n",
              "      <th></th>\n",
              "      <th>Title</th>\n",
              "      <th>FullDescription</th>\n",
              "    </tr>\n",
              "  </thead>\n",
              "  <tbody>\n",
              "    <tr>\n",
              "      <th>0</th>\n",
              "      <td>engineering systems analyst</td>\n",
              "      <td>engineering systems analyst dorking surrey sal...</td>\n",
              "    </tr>\n",
              "    <tr>\n",
              "      <th>1</th>\n",
              "      <td>stress engineer glasgow</td>\n",
              "      <td>stress engineer glasgow salary **** to **** we...</td>\n",
              "    </tr>\n",
              "    <tr>\n",
              "      <th>2</th>\n",
              "      <td>modelling and simulation analyst</td>\n",
              "      <td>mathematical modeller / simulation analyst / o...</td>\n",
              "    </tr>\n",
              "    <tr>\n",
              "      <th>3</th>\n",
              "      <td>engineering systems analyst / mathematical mod...</td>\n",
              "      <td>engineering systems analyst / mathematical mod...</td>\n",
              "    </tr>\n",
              "    <tr>\n",
              "      <th>4</th>\n",
              "      <td>pioneer , miser engineering systems analyst</td>\n",
              "      <td>pioneer , miser engineering systems analyst do...</td>\n",
              "    </tr>\n",
              "  </tbody>\n",
              "</table>\n",
              "</div>\n",
              "    <div class=\"colab-df-buttons\">\n",
              "\n",
              "  <div class=\"colab-df-container\">\n",
              "    <button class=\"colab-df-convert\" onclick=\"convertToInteractive('df-c84f94d8-6b18-44fe-a6d0-27064c2b5971')\"\n",
              "            title=\"Convert this dataframe to an interactive table.\"\n",
              "            style=\"display:none;\">\n",
              "\n",
              "  <svg xmlns=\"http://www.w3.org/2000/svg\" height=\"24px\" viewBox=\"0 -960 960 960\">\n",
              "    <path d=\"M120-120v-720h720v720H120Zm60-500h600v-160H180v160Zm220 220h160v-160H400v160Zm0 220h160v-160H400v160ZM180-400h160v-160H180v160Zm440 0h160v-160H620v160ZM180-180h160v-160H180v160Zm440 0h160v-160H620v160Z\"/>\n",
              "  </svg>\n",
              "    </button>\n",
              "\n",
              "  <style>\n",
              "    .colab-df-container {\n",
              "      display:flex;\n",
              "      gap: 12px;\n",
              "    }\n",
              "\n",
              "    .colab-df-convert {\n",
              "      background-color: #E8F0FE;\n",
              "      border: none;\n",
              "      border-radius: 50%;\n",
              "      cursor: pointer;\n",
              "      display: none;\n",
              "      fill: #1967D2;\n",
              "      height: 32px;\n",
              "      padding: 0 0 0 0;\n",
              "      width: 32px;\n",
              "    }\n",
              "\n",
              "    .colab-df-convert:hover {\n",
              "      background-color: #E2EBFA;\n",
              "      box-shadow: 0px 1px 2px rgba(60, 64, 67, 0.3), 0px 1px 3px 1px rgba(60, 64, 67, 0.15);\n",
              "      fill: #174EA6;\n",
              "    }\n",
              "\n",
              "    .colab-df-buttons div {\n",
              "      margin-bottom: 4px;\n",
              "    }\n",
              "\n",
              "    [theme=dark] .colab-df-convert {\n",
              "      background-color: #3B4455;\n",
              "      fill: #D2E3FC;\n",
              "    }\n",
              "\n",
              "    [theme=dark] .colab-df-convert:hover {\n",
              "      background-color: #434B5C;\n",
              "      box-shadow: 0px 1px 3px 1px rgba(0, 0, 0, 0.15);\n",
              "      filter: drop-shadow(0px 1px 2px rgba(0, 0, 0, 0.3));\n",
              "      fill: #FFFFFF;\n",
              "    }\n",
              "  </style>\n",
              "\n",
              "    <script>\n",
              "      const buttonEl =\n",
              "        document.querySelector('#df-c84f94d8-6b18-44fe-a6d0-27064c2b5971 button.colab-df-convert');\n",
              "      buttonEl.style.display =\n",
              "        google.colab.kernel.accessAllowed ? 'block' : 'none';\n",
              "\n",
              "      async function convertToInteractive(key) {\n",
              "        const element = document.querySelector('#df-c84f94d8-6b18-44fe-a6d0-27064c2b5971');\n",
              "        const dataTable =\n",
              "          await google.colab.kernel.invokeFunction('convertToInteractive',\n",
              "                                                    [key], {});\n",
              "        if (!dataTable) return;\n",
              "\n",
              "        const docLinkHtml = 'Like what you see? Visit the ' +\n",
              "          '<a target=\"_blank\" href=https://colab.research.google.com/notebooks/data_table.ipynb>data table notebook</a>'\n",
              "          + ' to learn more about interactive tables.';\n",
              "        element.innerHTML = '';\n",
              "        dataTable['output_type'] = 'display_data';\n",
              "        await google.colab.output.renderOutput(dataTable, element);\n",
              "        const docLink = document.createElement('div');\n",
              "        docLink.innerHTML = docLinkHtml;\n",
              "        element.appendChild(docLink);\n",
              "      }\n",
              "    </script>\n",
              "  </div>\n",
              "\n",
              "\n",
              "<div id=\"df-6e3b0f7f-be74-416d-a363-cf5a60bf840e\">\n",
              "  <button class=\"colab-df-quickchart\" onclick=\"quickchart('df-6e3b0f7f-be74-416d-a363-cf5a60bf840e')\"\n",
              "            title=\"Suggest charts\"\n",
              "            style=\"display:none;\">\n",
              "\n",
              "<svg xmlns=\"http://www.w3.org/2000/svg\" height=\"24px\"viewBox=\"0 0 24 24\"\n",
              "     width=\"24px\">\n",
              "    <g>\n",
              "        <path d=\"M19 3H5c-1.1 0-2 .9-2 2v14c0 1.1.9 2 2 2h14c1.1 0 2-.9 2-2V5c0-1.1-.9-2-2-2zM9 17H7v-7h2v7zm4 0h-2V7h2v10zm4 0h-2v-4h2v4z\"/>\n",
              "    </g>\n",
              "</svg>\n",
              "  </button>\n",
              "\n",
              "<style>\n",
              "  .colab-df-quickchart {\n",
              "      --bg-color: #E8F0FE;\n",
              "      --fill-color: #1967D2;\n",
              "      --hover-bg-color: #E2EBFA;\n",
              "      --hover-fill-color: #174EA6;\n",
              "      --disabled-fill-color: #AAA;\n",
              "      --disabled-bg-color: #DDD;\n",
              "  }\n",
              "\n",
              "  [theme=dark] .colab-df-quickchart {\n",
              "      --bg-color: #3B4455;\n",
              "      --fill-color: #D2E3FC;\n",
              "      --hover-bg-color: #434B5C;\n",
              "      --hover-fill-color: #FFFFFF;\n",
              "      --disabled-bg-color: #3B4455;\n",
              "      --disabled-fill-color: #666;\n",
              "  }\n",
              "\n",
              "  .colab-df-quickchart {\n",
              "    background-color: var(--bg-color);\n",
              "    border: none;\n",
              "    border-radius: 50%;\n",
              "    cursor: pointer;\n",
              "    display: none;\n",
              "    fill: var(--fill-color);\n",
              "    height: 32px;\n",
              "    padding: 0;\n",
              "    width: 32px;\n",
              "  }\n",
              "\n",
              "  .colab-df-quickchart:hover {\n",
              "    background-color: var(--hover-bg-color);\n",
              "    box-shadow: 0 1px 2px rgba(60, 64, 67, 0.3), 0 1px 3px 1px rgba(60, 64, 67, 0.15);\n",
              "    fill: var(--button-hover-fill-color);\n",
              "  }\n",
              "\n",
              "  .colab-df-quickchart-complete:disabled,\n",
              "  .colab-df-quickchart-complete:disabled:hover {\n",
              "    background-color: var(--disabled-bg-color);\n",
              "    fill: var(--disabled-fill-color);\n",
              "    box-shadow: none;\n",
              "  }\n",
              "\n",
              "  .colab-df-spinner {\n",
              "    border: 2px solid var(--fill-color);\n",
              "    border-color: transparent;\n",
              "    border-bottom-color: var(--fill-color);\n",
              "    animation:\n",
              "      spin 1s steps(1) infinite;\n",
              "  }\n",
              "\n",
              "  @keyframes spin {\n",
              "    0% {\n",
              "      border-color: transparent;\n",
              "      border-bottom-color: var(--fill-color);\n",
              "      border-left-color: var(--fill-color);\n",
              "    }\n",
              "    20% {\n",
              "      border-color: transparent;\n",
              "      border-left-color: var(--fill-color);\n",
              "      border-top-color: var(--fill-color);\n",
              "    }\n",
              "    30% {\n",
              "      border-color: transparent;\n",
              "      border-left-color: var(--fill-color);\n",
              "      border-top-color: var(--fill-color);\n",
              "      border-right-color: var(--fill-color);\n",
              "    }\n",
              "    40% {\n",
              "      border-color: transparent;\n",
              "      border-right-color: var(--fill-color);\n",
              "      border-top-color: var(--fill-color);\n",
              "    }\n",
              "    60% {\n",
              "      border-color: transparent;\n",
              "      border-right-color: var(--fill-color);\n",
              "    }\n",
              "    80% {\n",
              "      border-color: transparent;\n",
              "      border-right-color: var(--fill-color);\n",
              "      border-bottom-color: var(--fill-color);\n",
              "    }\n",
              "    90% {\n",
              "      border-color: transparent;\n",
              "      border-bottom-color: var(--fill-color);\n",
              "    }\n",
              "  }\n",
              "</style>\n",
              "\n",
              "  <script>\n",
              "    async function quickchart(key) {\n",
              "      const quickchartButtonEl =\n",
              "        document.querySelector('#' + key + ' button');\n",
              "      quickchartButtonEl.disabled = true;  // To prevent multiple clicks.\n",
              "      quickchartButtonEl.classList.add('colab-df-spinner');\n",
              "      try {\n",
              "        const charts = await google.colab.kernel.invokeFunction(\n",
              "            'suggestCharts', [key], {});\n",
              "      } catch (error) {\n",
              "        console.error('Error during call to suggestCharts:', error);\n",
              "      }\n",
              "      quickchartButtonEl.classList.remove('colab-df-spinner');\n",
              "      quickchartButtonEl.classList.add('colab-df-quickchart-complete');\n",
              "    }\n",
              "    (() => {\n",
              "      let quickchartButtonEl =\n",
              "        document.querySelector('#df-6e3b0f7f-be74-416d-a363-cf5a60bf840e button');\n",
              "      quickchartButtonEl.style.display =\n",
              "        google.colab.kernel.accessAllowed ? 'block' : 'none';\n",
              "    })();\n",
              "  </script>\n",
              "</div>\n",
              "    </div>\n",
              "  </div>\n"
            ],
            "text/plain": [
              "                                               Title  \\\n",
              "0                        engineering systems analyst   \n",
              "1                            stress engineer glasgow   \n",
              "2                   modelling and simulation analyst   \n",
              "3  engineering systems analyst / mathematical mod...   \n",
              "4        pioneer , miser engineering systems analyst   \n",
              "\n",
              "                                     FullDescription  \n",
              "0  engineering systems analyst dorking surrey sal...  \n",
              "1  stress engineer glasgow salary **** to **** we...  \n",
              "2  mathematical modeller / simulation analyst / o...  \n",
              "3  engineering systems analyst / mathematical mod...  \n",
              "4  pioneer , miser engineering systems analyst do...  "
            ]
          },
          "execution_count": 15,
          "metadata": {},
          "output_type": "execute_result"
        }
      ],
      "source": [
        "data[text_columns].head()"
      ]
    },
    {
      "cell_type": "markdown",
      "metadata": {
        "id": "erXTOokfaHIT"
      },
      "source": [
        "Now we can assume that our text is a space-separated list of tokens:"
      ]
    },
    {
      "cell_type": "code",
      "execution_count": null,
      "metadata": {
        "colab": {
          "base_uri": "https://localhost:8080/"
        },
        "id": "rzgvjaGNaHIT",
        "outputId": "b562c6fb-f0e9-4ef5-c66d-17dcb8f15344"
      },
      "outputs": [
        {
          "name": "stdout",
          "output_type": "stream",
          "text": [
            "Tokenized:\n",
            "2         mathematical modeller / simulation analyst / o...\n",
            "100002    a successful and high achieving specialist sch...\n",
            "200002    web designer html , css , javascript , photosh...\n",
            "Name: FullDescription, dtype: object\n"
          ]
        }
      ],
      "source": [
        "print(\"Tokenized:\")\n",
        "print(data[\"FullDescription\"][2::100000])\n",
        "assert data[\"FullDescription\"][2][:50] == 'mathematical modeller / simulation analyst / opera'\n",
        "assert data[\"Title\"][54321] == 'international digital account manager ( german )'"
      ]
    },
    {
      "cell_type": "markdown",
      "metadata": {
        "id": "WF83EH2RaHIT"
      },
      "source": [
        "Not all words are equally useful. Some of them are typos or rare words that are only present a few times.\n",
        "\n",
        "Let's count how many times is each word present in the data so that we can build a \"white list\" of known words."
      ]
    },
    {
      "cell_type": "code",
      "execution_count": null,
      "metadata": {
        "colab": {
          "base_uri": "https://localhost:8080/"
        },
        "id": "F4OBTCS0bUZT",
        "outputId": "2e8974ae-1abb-4fba-ff16-58e2cfb02771"
      },
      "outputs": [
        {
          "data": {
            "text/plain": [
              "0                               engineering systems analyst\n",
              "1                                   stress engineer glasgow\n",
              "2                          modelling and simulation analyst\n",
              "3         engineering systems analyst / mathematical mod...\n",
              "4               pioneer , miser engineering systems analyst\n",
              "                                ...                        \n",
              "244763                                   teacher of science\n",
              "244764                  teacher of business studies and ict\n",
              "244765                                      english teacher\n",
              "244766                                      supply teachers\n",
              "244767                                           accountant\n",
              "Name: Title, Length: 244768, dtype: object"
            ]
          },
          "execution_count": 17,
          "metadata": {},
          "output_type": "execute_result"
        }
      ],
      "source": [
        "data['Title']"
      ]
    },
    {
      "cell_type": "code",
      "execution_count": null,
      "metadata": {
        "id": "4vRFj7dJaHIU"
      },
      "outputs": [],
      "source": [
        "from collections import Counter\n",
        "token_counts = Counter()\n",
        "\n",
        "for column in text_columns:\n",
        "    data[column].apply(lambda x: token_counts.update(tokenizer.tokenize(x)))"
      ]
    },
    {
      "cell_type": "code",
      "execution_count": null,
      "metadata": {
        "colab": {
          "base_uri": "https://localhost:8080/"
        },
        "id": "J-8r0kcpaHIU",
        "outputId": "a5551dd2-c19a-440e-887a-f715e2e54481"
      },
      "outputs": [
        {
          "name": "stdout",
          "output_type": "stream",
          "text": [
            "Total unique tokens : 202704\n",
            "('and', 2657388)\n",
            "('.', 2523216)\n",
            "(',', 2318606)\n",
            "('the', 2080994)\n",
            "('to', 2019884)\n",
            "...\n",
            "('stephanietraveltraderecruitmnt', 1)\n",
            "('ruabon', 1)\n",
            "('lowehays', 1)\n",
            "Correct!\n"
          ]
        }
      ],
      "source": [
        "print(\"Total unique tokens :\", len(token_counts))\n",
        "print('\\n'.join(map(str, token_counts.most_common(n=5))))\n",
        "print('...')\n",
        "print('\\n'.join(map(str, token_counts.most_common()[-3:])))\n",
        "\n",
        "assert token_counts.most_common(1)[0][1] in  range(2600000, 2700000)\n",
        "assert len(token_counts) in range(200000, 210000)\n",
        "print('Correct!')"
      ]
    },
    {
      "cell_type": "code",
      "execution_count": null,
      "metadata": {
        "colab": {
          "base_uri": "https://localhost:8080/",
          "height": 449
        },
        "id": "TQDqgqW7aHIU",
        "outputId": "64ee4ecb-9cf7-4c96-8605-0832ecb597d6"
      },
      "outputs": [
        {
          "data": {
            "image/png": "[encoded data removed]",
            "text/plain": [
              "<Figure size 640x480 with 1 Axes>"
            ]
          },
          "metadata": {},
          "output_type": "display_data"
        }
      ],
      "source": [
        "# Let's see how many words are there for each count\n",
        "plt.hist(list(token_counts.values()), range=[0, 10**4], bins=50, log=True, alpha=0.8)\n",
        "plt.xlabel(\"Count value\");\n",
        "plt.ylabel(\"Words with this count value\");"
      ]
    },
    {
      "cell_type": "markdown",
      "metadata": {
        "id": "vEW6875waHIU"
      },
      "source": [
        "__Task 1.1__ Get a list of all tokens that occur at least 10 times."
      ]
    },
    {
      "cell_type": "code",
      "execution_count": null,
      "metadata": {
        "colab": {
          "base_uri": "https://localhost:8080/"
        },
        "id": "wGagUUIzaHIU",
        "outputId": "9b454dfa-6d05-498d-81ae-bd9ab75ac054"
      },
      "outputs": [
        {
          "data": {
            "text/plain": [
              "['PAD', 'dunblane', 'mnes', 'suzanne']"
            ]
          },
          "execution_count": 21,
          "metadata": {},
          "output_type": "execute_result"
        }
      ],
      "source": [
        "min_count = 10\n",
        "\n",
        "# tokens from token_counts keys that had at least min_count occurrences throughout the dataset\n",
        "tokens = sorted(t for t, c in token_counts.items() if c >= min_count)\n",
        "\n",
        "# Add a special tokens for unknown and empty words\n",
        "# PAD token is used to pad sequences to a fixed length\n",
        "UNK, PAD = \"UNK\", \"PAD\"\n",
        "tokens = [UNK, PAD] + tokens\n",
        "tokens[1::10000]"
      ]
    },
    {
      "cell_type": "code",
      "execution_count": null,
      "metadata": {
        "colab": {
          "base_uri": "https://localhost:8080/"
        },
        "id": "sxTcOZpKaHIU",
        "outputId": "60c96f57-76a6-4617-cd32-230ca13dc890"
      },
      "outputs": [
        {
          "name": "stdout",
          "output_type": "stream",
          "text": [
            "Vocabulary size: 34158\n",
            "Correct!\n"
          ]
        }
      ],
      "source": [
        "print(\"Vocabulary size:\", len(tokens))\n",
        "assert type(tokens) == list\n",
        "assert len(tokens) in range(32000, 35000)\n",
        "assert 'me' in tokens\n",
        "assert UNK in tokens\n",
        "print(\"Correct!\")"
      ]
    },
    {
      "cell_type": "markdown",
      "metadata": {
        "id": "tn2tv1QSaHIU"
      },
      "source": [
        "__Task 1.2__ Build an inverse token index: a dictionary from token (string) to it's index in `tokens` (int)"
      ]
    },
    {
      "cell_type": "code",
      "execution_count": null,
      "metadata": {
        "id": "Zs_0BLBqaHIU"
      },
      "outputs": [],
      "source": [
        "token_to_id = dict(zip(tokens, [i for i in range(len(tokens))]))"
      ]
    },
    {
      "cell_type": "code",
      "execution_count": null,
      "metadata": {
        "colab": {
          "base_uri": "https://localhost:8080/"
        },
        "id": "C7v2FNaJaHIU",
        "outputId": "5cb2da02-5154-4671-f36a-1bbef77ed3b5"
      },
      "outputs": [
        {
          "name": "stdout",
          "output_type": "stream",
          "text": [
            "Correct!\n"
          ]
        }
      ],
      "source": [
        "assert isinstance(token_to_id, dict)\n",
        "assert len(token_to_id) == len(tokens)\n",
        "for tok in tokens:\n",
        "    assert tokens[token_to_id[tok]] == tok\n",
        "\n",
        "print(\"Correct!\")"
      ]
    },
    {
      "cell_type": "markdown",
      "metadata": {
        "id": "rClwhuI-aHIV"
      },
      "source": [
        "And finally, let's use the vocabulary you've built to map text lines into neural network-digestible matrices."
      ]
    },
    {
      "cell_type": "markdown",
      "metadata": {
        "id": "Dmt8o82fmlom"
      },
      "source": [
        "**Text columns** will be encoded using `as_matrix` function (preliminary step so that it would be easier to train NN further)"
      ]
    },
    {
      "cell_type": "code",
      "execution_count": null,
      "metadata": {
        "id": "GapRJg6baHIV"
      },
      "outputs": [],
      "source": [
        "UNK_IX, PAD_IX = map(token_to_id.get, [UNK, PAD])\n",
        "\n",
        "def as_matrix(sequences, max_len=None):\n",
        "    \"\"\" Convert a list of tokens into a matrix with padding \"\"\"\n",
        "    if isinstance(sequences[0], str):   # checks if the first element of the sequences list is of type str. If it is, it assumes that all elements in the list are strings\n",
        "        sequences = list(map(str.split, sequences))\n",
        "\n",
        "    max_len = min(max(map(len, sequences)), max_len or float('inf'))\n",
        "\n",
        "    matrix = np.full((len(sequences), max_len), np.int32(PAD_IX))\n",
        "    for i, seq in enumerate(sequences):\n",
        "        row_ix = [token_to_id.get(word, UNK_IX) for word in seq[:max_len]]\n",
        "        matrix[i, :len(row_ix)] = row_ix\n",
        "\n",
        "    return matrix"
      ]
    },
    {
      "cell_type": "code",
      "execution_count": null,
      "metadata": {
        "colab": {
          "base_uri": "https://localhost:8080/"
        },
        "id": "fwZ0grrIaHIV",
        "outputId": "601402cf-3ee0-4613-c328-aaee485d4327"
      },
      "outputs": [
        {
          "name": "stdout",
          "output_type": "stream",
          "text": [
            "Lines:\n",
            "engineering systems analyst\n",
            "hr assistant\n",
            "senior ec & i engineer\n",
            "\n",
            "Matrix:\n",
            "[[10807 30161  2166     1     1]\n",
            " [15020  2844     1     1     1]\n",
            " [27645 10201    16 15215 10804]]\n"
          ]
        }
      ],
      "source": [
        "print(\"Lines:\")\n",
        "print('\\n'.join(data[\"Title\"][::100000].values), end='\\n\\n')\n",
        "print(\"Matrix:\")\n",
        "print(as_matrix(data[\"Title\"][::100000]))"
      ]
    },
    {
      "cell_type": "markdown",
      "metadata": {
        "id": "eXYtzZFaaHIV"
      },
      "source": [
        "Now let's  encode the categirical data we have.\n",
        "\n",
        "As usual, we shall use one-hot encoding for simplicity. Kudos if you implement more advanced encodings: tf-idf, pseudo-time-series, etc."
      ]
    },
    {
      "cell_type": "code",
      "execution_count": null,
      "metadata": {
        "colab": {
          "base_uri": "https://localhost:8080/"
        },
        "id": "7KchD7JqjYSk",
        "outputId": "ef9009e6-89c7-45b0-ef98-4bbe8de0e8c1"
      },
      "outputs": [
        {
          "data": {
            "text/plain": [
              "['Category', 'Company', 'LocationNormalized', 'ContractType', 'ContractTime']"
            ]
          },
          "execution_count": 27,
          "metadata": {},
          "output_type": "execute_result"
        }
      ],
      "source": [
        "categorical_columns"
      ]
    },
    {
      "cell_type": "markdown",
      "metadata": {
        "id": "UzmXOGmvmvlr"
      },
      "source": [
        "**Categorical columns** will be encoded using `categorical_vectorizer`"
      ]
    },
    {
      "cell_type": "code",
      "execution_count": null,
      "metadata": {
        "colab": {
          "base_uri": "https://localhost:8080/",
          "height": 206
        },
        "id": "fYWejk0KHB5l",
        "outputId": "fa561b41-0776-4faa-99d7-e6763312a385"
      },
      "outputs": [
        {
          "data": {
            "application/vnd.google.colaboratory.intrinsic+json": {
              "summary": "{\n  \"name\": \"data[categorical_columns]\",\n  \"rows\": 5,\n  \"fields\": [\n    {\n      \"column\": \"Category\",\n      \"properties\": {\n        \"dtype\": \"category\",\n        \"num_unique_values\": 1,\n        \"samples\": [\n          \"Engineering Jobs\"\n        ],\n        \"semantic_type\": \"\",\n        \"description\": \"\"\n      }\n    },\n    {\n      \"column\": \"Company\",\n      \"properties\": {\n        \"dtype\": \"category\",\n        \"num_unique_values\": 1,\n        \"samples\": [\n          \"Gregory Martin International\"\n        ],\n        \"semantic_type\": \"\",\n        \"description\": \"\"\n      }\n    },\n    {\n      \"column\": \"LocationNormalized\",\n      \"properties\": {\n        \"dtype\": \"string\",\n        \"num_unique_values\": 4,\n        \"samples\": [\n          \"Glasgow\"\n        ],\n        \"semantic_type\": \"\",\n        \"description\": \"\"\n      }\n    },\n    {\n      \"column\": \"ContractType\",\n      \"properties\": {\n        \"dtype\": \"object\",\n        \"num_unique_values\": 1,\n        \"samples\": [\n          \"NaN\"\n        ],\n        \"semantic_type\": \"\",\n        \"description\": \"\"\n      }\n    },\n    {\n      \"column\": \"ContractTime\",\n      \"properties\": {\n        \"dtype\": \"category\",\n        \"num_unique_values\": 1,\n        \"samples\": [\n          \"permanent\"\n        ],\n        \"semantic_type\": \"\",\n        \"description\": \"\"\n      }\n    }\n  ]\n}",
              "type": "dataframe"
            },
            "text/html": [
              "\n",
              "  <div id=\"df-ff9b087e-78a5-42be-be18-cd3febeb5579\" class=\"colab-df-container\">\n",
              "    <div>\n",
              "<style scoped>\n",
              "    .dataframe tbody tr th:only-of-type {\n",
              "        vertical-align: middle;\n",
              "    }\n",
              "\n",
              "    .dataframe tbody tr th {\n",
              "        vertical-align: top;\n",
              "    }\n",
              "\n",
              "    .dataframe thead th {\n",
              "        text-align: right;\n",
              "    }\n",
              "</style>\n",
              "<table border=\"1\" class=\"dataframe\">\n",
              "  <thead>\n",
              "    <tr style=\"text-align: right;\">\n",
              "      <th></th>\n",
              "      <th>Category</th>\n",
              "      <th>Company</th>\n",
              "      <th>LocationNormalized</th>\n",
              "      <th>ContractType</th>\n",
              "      <th>ContractTime</th>\n",
              "    </tr>\n",
              "  </thead>\n",
              "  <tbody>\n",
              "    <tr>\n",
              "      <th>0</th>\n",
              "      <td>Engineering Jobs</td>\n",
              "      <td>Gregory Martin International</td>\n",
              "      <td>Dorking</td>\n",
              "      <td>NaN</td>\n",
              "      <td>permanent</td>\n",
              "    </tr>\n",
              "    <tr>\n",
              "      <th>1</th>\n",
              "      <td>Engineering Jobs</td>\n",
              "      <td>Gregory Martin International</td>\n",
              "      <td>Glasgow</td>\n",
              "      <td>NaN</td>\n",
              "      <td>permanent</td>\n",
              "    </tr>\n",
              "    <tr>\n",
              "      <th>2</th>\n",
              "      <td>Engineering Jobs</td>\n",
              "      <td>Gregory Martin International</td>\n",
              "      <td>Hampshire</td>\n",
              "      <td>NaN</td>\n",
              "      <td>permanent</td>\n",
              "    </tr>\n",
              "    <tr>\n",
              "      <th>3</th>\n",
              "      <td>Engineering Jobs</td>\n",
              "      <td>Gregory Martin International</td>\n",
              "      <td>Surrey</td>\n",
              "      <td>NaN</td>\n",
              "      <td>permanent</td>\n",
              "    </tr>\n",
              "    <tr>\n",
              "      <th>4</th>\n",
              "      <td>Engineering Jobs</td>\n",
              "      <td>Gregory Martin International</td>\n",
              "      <td>Surrey</td>\n",
              "      <td>NaN</td>\n",
              "      <td>permanent</td>\n",
              "    </tr>\n",
              "  </tbody>\n",
              "</table>\n",
              "</div>\n",
              "    <div class=\"colab-df-buttons\">\n",
              "\n",
              "  <div class=\"colab-df-container\">\n",
              "    <button class=\"colab-df-convert\" onclick=\"convertToInteractive('df-ff9b087e-78a5-42be-be18-cd3febeb5579')\"\n",
              "            title=\"Convert this dataframe to an interactive table.\"\n",
              "            style=\"display:none;\">\n",
              "\n",
              "  <svg xmlns=\"http://www.w3.org/2000/svg\" height=\"24px\" viewBox=\"0 -960 960 960\">\n",
              "    <path d=\"M120-120v-720h720v720H120Zm60-500h600v-160H180v160Zm220 220h160v-160H400v160Zm0 220h160v-160H400v160ZM180-400h160v-160H180v160Zm440 0h160v-160H620v160ZM180-180h160v-160H180v160Zm440 0h160v-160H620v160Z\"/>\n",
              "  </svg>\n",
              "    </button>\n",
              "\n",
              "  <style>\n",
              "    .colab-df-container {\n",
              "      display:flex;\n",
              "      gap: 12px;\n",
              "    }\n",
              "\n",
              "    .colab-df-convert {\n",
              "      background-color: #E8F0FE;\n",
              "      border: none;\n",
              "      border-radius: 50%;\n",
              "      cursor: pointer;\n",
              "      display: none;\n",
              "      fill: #1967D2;\n",
              "      height: 32px;\n",
              "      padding: 0 0 0 0;\n",
              "      width: 32px;\n",
              "    }\n",
              "\n",
              "    .colab-df-convert:hover {\n",
              "      background-color: #E2EBFA;\n",
              "      box-shadow: 0px 1px 2px rgba(60, 64, 67, 0.3), 0px 1px 3px 1px rgba(60, 64, 67, 0.15);\n",
              "      fill: #174EA6;\n",
              "    }\n",
              "\n",
              "    .colab-df-buttons div {\n",
              "      margin-bottom: 4px;\n",
              "    }\n",
              "\n",
              "    [theme=dark] .colab-df-convert {\n",
              "      background-color: #3B4455;\n",
              "      fill: #D2E3FC;\n",
              "    }\n",
              "\n",
              "    [theme=dark] .colab-df-convert:hover {\n",
              "      background-color: #434B5C;\n",
              "      box-shadow: 0px 1px 3px 1px rgba(0, 0, 0, 0.15);\n",
              "      filter: drop-shadow(0px 1px 2px rgba(0, 0, 0, 0.3));\n",
              "      fill: #FFFFFF;\n",
              "    }\n",
              "  </style>\n",
              "\n",
              "    <script>\n",
              "      const buttonEl =\n",
              "        document.querySelector('#df-ff9b087e-78a5-42be-be18-cd3febeb5579 button.colab-df-convert');\n",
              "      buttonEl.style.display =\n",
              "        google.colab.kernel.accessAllowed ? 'block' : 'none';\n",
              "\n",
              "      async function convertToInteractive(key) {\n",
              "        const element = document.querySelector('#df-ff9b087e-78a5-42be-be18-cd3febeb5579');\n",
              "        const dataTable =\n",
              "          await google.colab.kernel.invokeFunction('convertToInteractive',\n",
              "                                                    [key], {});\n",
              "        if (!dataTable) return;\n",
              "\n",
              "        const docLinkHtml = 'Like what you see? Visit the ' +\n",
              "          '<a target=\"_blank\" href=https://colab.research.google.com/notebooks/data_table.ipynb>data table notebook</a>'\n",
              "          + ' to learn more about interactive tables.';\n",
              "        element.innerHTML = '';\n",
              "        dataTable['output_type'] = 'display_data';\n",
              "        await google.colab.output.renderOutput(dataTable, element);\n",
              "        const docLink = document.createElement('div');\n",
              "        docLink.innerHTML = docLinkHtml;\n",
              "        element.appendChild(docLink);\n",
              "      }\n",
              "    </script>\n",
              "  </div>\n",
              "\n",
              "\n",
              "<div id=\"df-e820342a-d6ac-49fc-a6d8-44dd13a2cc74\">\n",
              "  <button class=\"colab-df-quickchart\" onclick=\"quickchart('df-e820342a-d6ac-49fc-a6d8-44dd13a2cc74')\"\n",
              "            title=\"Suggest charts\"\n",
              "            style=\"display:none;\">\n",
              "\n",
              "<svg xmlns=\"http://www.w3.org/2000/svg\" height=\"24px\"viewBox=\"0 0 24 24\"\n",
              "     width=\"24px\">\n",
              "    <g>\n",
              "        <path d=\"M19 3H5c-1.1 0-2 .9-2 2v14c0 1.1.9 2 2 2h14c1.1 0 2-.9 2-2V5c0-1.1-.9-2-2-2zM9 17H7v-7h2v7zm4 0h-2V7h2v10zm4 0h-2v-4h2v4z\"/>\n",
              "    </g>\n",
              "</svg>\n",
              "  </button>\n",
              "\n",
              "<style>\n",
              "  .colab-df-quickchart {\n",
              "      --bg-color: #E8F0FE;\n",
              "      --fill-color: #1967D2;\n",
              "      --hover-bg-color: #E2EBFA;\n",
              "      --hover-fill-color: #174EA6;\n",
              "      --disabled-fill-color: #AAA;\n",
              "      --disabled-bg-color: #DDD;\n",
              "  }\n",
              "\n",
              "  [theme=dark] .colab-df-quickchart {\n",
              "      --bg-color: #3B4455;\n",
              "      --fill-color: #D2E3FC;\n",
              "      --hover-bg-color: #434B5C;\n",
              "      --hover-fill-color: #FFFFFF;\n",
              "      --disabled-bg-color: #3B4455;\n",
              "      --disabled-fill-color: #666;\n",
              "  }\n",
              "\n",
              "  .colab-df-quickchart {\n",
              "    background-color: var(--bg-color);\n",
              "    border: none;\n",
              "    border-radius: 50%;\n",
              "    cursor: pointer;\n",
              "    display: none;\n",
              "    fill: var(--fill-color);\n",
              "    height: 32px;\n",
              "    padding: 0;\n",
              "    width: 32px;\n",
              "  }\n",
              "\n",
              "  .colab-df-quickchart:hover {\n",
              "    background-color: var(--hover-bg-color);\n",
              "    box-shadow: 0 1px 2px rgba(60, 64, 67, 0.3), 0 1px 3px 1px rgba(60, 64, 67, 0.15);\n",
              "    fill: var(--button-hover-fill-color);\n",
              "  }\n",
              "\n",
              "  .colab-df-quickchart-complete:disabled,\n",
              "  .colab-df-quickchart-complete:disabled:hover {\n",
              "    background-color: var(--disabled-bg-color);\n",
              "    fill: var(--disabled-fill-color);\n",
              "    box-shadow: none;\n",
              "  }\n",
              "\n",
              "  .colab-df-spinner {\n",
              "    border: 2px solid var(--fill-color);\n",
              "    border-color: transparent;\n",
              "    border-bottom-color: var(--fill-color);\n",
              "    animation:\n",
              "      spin 1s steps(1) infinite;\n",
              "  }\n",
              "\n",
              "  @keyframes spin {\n",
              "    0% {\n",
              "      border-color: transparent;\n",
              "      border-bottom-color: var(--fill-color);\n",
              "      border-left-color: var(--fill-color);\n",
              "    }\n",
              "    20% {\n",
              "      border-color: transparent;\n",
              "      border-left-color: var(--fill-color);\n",
              "      border-top-color: var(--fill-color);\n",
              "    }\n",
              "    30% {\n",
              "      border-color: transparent;\n",
              "      border-left-color: var(--fill-color);\n",
              "      border-top-color: var(--fill-color);\n",
              "      border-right-color: var(--fill-color);\n",
              "    }\n",
              "    40% {\n",
              "      border-color: transparent;\n",
              "      border-right-color: var(--fill-color);\n",
              "      border-top-color: var(--fill-color);\n",
              "    }\n",
              "    60% {\n",
              "      border-color: transparent;\n",
              "      border-right-color: var(--fill-color);\n",
              "    }\n",
              "    80% {\n",
              "      border-color: transparent;\n",
              "      border-right-color: var(--fill-color);\n",
              "      border-bottom-color: var(--fill-color);\n",
              "    }\n",
              "    90% {\n",
              "      border-color: transparent;\n",
              "      border-bottom-color: var(--fill-color);\n",
              "    }\n",
              "  }\n",
              "</style>\n",
              "\n",
              "  <script>\n",
              "    async function quickchart(key) {\n",
              "      const quickchartButtonEl =\n",
              "        document.querySelector('#' + key + ' button');\n",
              "      quickchartButtonEl.disabled = true;  // To prevent multiple clicks.\n",
              "      quickchartButtonEl.classList.add('colab-df-spinner');\n",
              "      try {\n",
              "        const charts = await google.colab.kernel.invokeFunction(\n",
              "            'suggestCharts', [key], {});\n",
              "      } catch (error) {\n",
              "        console.error('Error during call to suggestCharts:', error);\n",
              "      }\n",
              "      quickchartButtonEl.classList.remove('colab-df-spinner');\n",
              "      quickchartButtonEl.classList.add('colab-df-quickchart-complete');\n",
              "    }\n",
              "    (() => {\n",
              "      let quickchartButtonEl =\n",
              "        document.querySelector('#df-e820342a-d6ac-49fc-a6d8-44dd13a2cc74 button');\n",
              "      quickchartButtonEl.style.display =\n",
              "        google.colab.kernel.accessAllowed ? 'block' : 'none';\n",
              "    })();\n",
              "  </script>\n",
              "</div>\n",
              "    </div>\n",
              "  </div>\n"
            ],
            "text/plain": [
              "           Category                       Company LocationNormalized  \\\n",
              "0  Engineering Jobs  Gregory Martin International            Dorking   \n",
              "1  Engineering Jobs  Gregory Martin International            Glasgow   \n",
              "2  Engineering Jobs  Gregory Martin International          Hampshire   \n",
              "3  Engineering Jobs  Gregory Martin International             Surrey   \n",
              "4  Engineering Jobs  Gregory Martin International             Surrey   \n",
              "\n",
              "  ContractType ContractTime  \n",
              "0          NaN    permanent  \n",
              "1          NaN    permanent  \n",
              "2          NaN    permanent  \n",
              "3          NaN    permanent  \n",
              "4          NaN    permanent  "
            ]
          },
          "execution_count": 28,
          "metadata": {},
          "output_type": "execute_result"
        }
      ],
      "source": [
        "data[categorical_columns].head()"
      ]
    },
    {
      "cell_type": "code",
      "execution_count": null,
      "metadata": {
        "colab": {
          "base_uri": "https://localhost:8080/",
          "height": 74
        },
        "id": "LmeCGjFlaHIV",
        "outputId": "be589ea6-7ed8-4bdd-e86b-594b0862b8a9"
      },
      "outputs": [
        {
          "data": {
            "text/html": [
              "<style>#sk-container-id-1 {color: black;background-color: white;}#sk-container-id-1 pre{padding: 0;}#sk-container-id-1 div.sk-toggleable {background-color: white;}#sk-container-id-1 label.sk-toggleable__label {cursor: pointer;display: block;width: 100%;margin-bottom: 0;padding: 0.3em;box-sizing: border-box;text-align: center;}#sk-container-id-1 label.sk-toggleable__label-arrow:before {content: \"▸\";float: left;margin-right: 0.25em;color: #696969;}#sk-container-id-1 label.sk-toggleable__label-arrow:hover:before {color: black;}#sk-container-id-1 div.sk-estimator:hover label.sk-toggleable__label-arrow:before {color: black;}#sk-container-id-1 div.sk-toggleable__content {max-height: 0;max-width: 0;overflow: hidden;text-align: left;background-color: #f0f8ff;}#sk-container-id-1 div.sk-toggleable__content pre {margin: 0.2em;color: black;border-radius: 0.25em;background-color: #f0f8ff;}#sk-container-id-1 input.sk-toggleable__control:checked~div.sk-toggleable__content {max-height: 200px;max-width: 100%;overflow: auto;}#sk-container-id-1 input.sk-toggleable__control:checked~label.sk-toggleable__label-arrow:before {content: \"▾\";}#sk-container-id-1 div.sk-estimator input.sk-toggleable__control:checked~label.sk-toggleable__label {background-color: #d4ebff;}#sk-container-id-1 div.sk-label input.sk-toggleable__control:checked~label.sk-toggleable__label {background-color: #d4ebff;}#sk-container-id-1 input.sk-hidden--visually {border: 0;clip: rect(1px 1px 1px 1px);clip: rect(1px, 1px, 1px, 1px);height: 1px;margin: -1px;overflow: hidden;padding: 0;position: absolute;width: 1px;}#sk-container-id-1 div.sk-estimator {font-family: monospace;background-color: #f0f8ff;border: 1px dotted black;border-radius: 0.25em;box-sizing: border-box;margin-bottom: 0.5em;}#sk-container-id-1 div.sk-estimator:hover {background-color: #d4ebff;}#sk-container-id-1 div.sk-parallel-item::after {content: \"\";width: 100%;border-bottom: 1px solid gray;flex-grow: 1;}#sk-container-id-1 div.sk-label:hover label.sk-toggleable__label {background-color: #d4ebff;}#sk-container-id-1 div.sk-serial::before {content: \"\";position: absolute;border-left: 1px solid gray;box-sizing: border-box;top: 0;bottom: 0;left: 50%;z-index: 0;}#sk-container-id-1 div.sk-serial {display: flex;flex-direction: column;align-items: center;background-color: white;padding-right: 0.2em;padding-left: 0.2em;position: relative;}#sk-container-id-1 div.sk-item {position: relative;z-index: 1;}#sk-container-id-1 div.sk-parallel {display: flex;align-items: stretch;justify-content: center;background-color: white;position: relative;}#sk-container-id-1 div.sk-item::before, #sk-container-id-1 div.sk-parallel-item::before {content: \"\";position: absolute;border-left: 1px solid gray;box-sizing: border-box;top: 0;bottom: 0;left: 50%;z-index: -1;}#sk-container-id-1 div.sk-parallel-item {display: flex;flex-direction: column;z-index: 1;position: relative;background-color: white;}#sk-container-id-1 div.sk-parallel-item:first-child::after {align-self: flex-end;width: 50%;}#sk-container-id-1 div.sk-parallel-item:last-child::after {align-self: flex-start;width: 50%;}#sk-container-id-1 div.sk-parallel-item:only-child::after {width: 0;}#sk-container-id-1 div.sk-dashed-wrapped {border: 1px dashed gray;margin: 0 0.4em 0.5em 0.4em;box-sizing: border-box;padding-bottom: 0.4em;background-color: white;}#sk-container-id-1 div.sk-label label {font-family: monospace;font-weight: bold;display: inline-block;line-height: 1.2em;}#sk-container-id-1 div.sk-label-container {text-align: center;}#sk-container-id-1 div.sk-container {/* jupyter's `normalize.less` sets `[hidden] { display: none; }` but bootstrap.min.css set `[hidden] { display: none !important; }` so we also need the `!important` here to be able to override the default hidden behavior on the sphinx rendered scikit-learn.org. See: https://github.com/scikit-learn/scikit-learn/issues/21755 */display: inline-block !important;position: relative;}#sk-container-id-1 div.sk-text-repr-fallback {display: none;}</style><div id=\"sk-container-id-1\" class=\"sk-top-container\"><div class=\"sk-text-repr-fallback\"><pre>DictVectorizer(dtype=&lt;class &#x27;numpy.float32&#x27;&gt;, sparse=False)</pre><b>In a Jupyter environment, please rerun this cell to show the HTML representation or trust the notebook. <br />On GitHub, the HTML representation is unable to render, please try loading this page with nbviewer.org.</b></div><div class=\"sk-container\" hidden><div class=\"sk-item\"><div class=\"sk-estimator sk-toggleable\"><input class=\"sk-toggleable__control sk-hidden--visually\" id=\"sk-estimator-id-1\" type=\"checkbox\" checked><label for=\"sk-estimator-id-1\" class=\"sk-toggleable__label sk-toggleable__label-arrow\">DictVectorizer</label><div class=\"sk-toggleable__content\"><pre>DictVectorizer(dtype=&lt;class &#x27;numpy.float32&#x27;&gt;, sparse=False)</pre></div></div></div></div></div>"
            ],
            "text/plain": [
              "DictVectorizer(dtype=<class 'numpy.float32'>, sparse=False)"
            ]
          },
          "execution_count": 29,
          "metadata": {},
          "output_type": "execute_result"
        }
      ],
      "source": [
        "from sklearn.feature_extraction import DictVectorizer\n",
        "\n",
        "# we only consider top-1k most frequent companies to minimize memory usage\n",
        "top_companies, top_counts = zip(*Counter(data['Company']).most_common(1000))\n",
        "recognized_companies = set(top_companies)\n",
        "data[\"Company\"] = data[\"Company\"].apply(lambda comp: comp if comp in recognized_companies else \"Other\")\n",
        "\n",
        "categorical_vectorizer = DictVectorizer(dtype=np.float32, sparse=False)\n",
        "categorical_vectorizer.fit(data[categorical_columns].apply(dict, axis=1))"
      ]
    },
    {
      "cell_type": "markdown",
      "metadata": {
        "id": "Gxxmvxc3aHIV"
      },
      "source": [
        "### The deep learning part\n",
        "\n",
        "Once we've learned to tokenize the data, let's design a machine learning experiment.\n",
        "\n",
        "As before, we won't focus too much on validation, opting for a simple train-test split.\n",
        "\n",
        "__To be completely rigorous,__ we've comitted a small crime here: we used the whole data for tokenization and vocabulary building. A more strict way would be to do that part on training set only. You may want to do that and measure the magnitude of changes."
      ]
    },
    {
      "cell_type": "code",
      "execution_count": null,
      "metadata": {
        "colab": {
          "base_uri": "https://localhost:8080/"
        },
        "id": "Y1FD0kLjaHIV",
        "outputId": "ea498e5b-c185-430d-9ae5-1042b274ee5e"
      },
      "outputs": [
        {
          "name": "stdout",
          "output_type": "stream",
          "text": [
            "Train size =  195814\n",
            "Validation size =  48954\n"
          ]
        }
      ],
      "source": [
        "from sklearn.model_selection import train_test_split\n",
        "\n",
        "data_train, data_val = train_test_split(data, test_size=0.2, random_state=42)\n",
        "data_train.index = range(len(data_train))\n",
        "data_val.index = range(len(data_val))\n",
        "\n",
        "print(\"Train size = \", len(data_train))\n",
        "print(\"Validation size = \", len(data_val))"
      ]
    },
    {
      "cell_type": "code",
      "execution_count": null,
      "metadata": {
        "id": "sDpcQarBaHIV"
      },
      "outputs": [],
      "source": [
        "import torch\n",
        "import torch.nn as nn\n",
        "import torch.nn.functional as F\n",
        "\n",
        "device = 'cuda' if torch.cuda.is_available() else 'cpu'\n",
        "\n",
        "def to_tensors(batch, device):\n",
        "    batch_tensors = dict()\n",
        "    for key, arr in batch.items():\n",
        "        if key in [\"FullDescription\", \"Title\"]:\n",
        "            batch_tensors[key] = torch.tensor(arr, device=device, dtype=torch.int64)\n",
        "        else:\n",
        "            batch_tensors[key] = torch.tensor(arr, device=device)\n",
        "    return batch_tensors\n",
        "\n",
        "\n",
        "def make_batch(data, max_len=None, word_dropout=0, device=device):\n",
        "    \"\"\"\n",
        "    Creates a keras-friendly dict from the batch data.\n",
        "    :param word_dropout: replaces token index with UNK_IX with this probability\n",
        "    :returns: a dict with {'title' : int64[batch, title_max_len]\n",
        "    \"\"\"\n",
        "    batch = {}\n",
        "    batch[\"Title\"] = as_matrix(data[\"Title\"].values, max_len)\n",
        "    batch[\"FullDescription\"] = as_matrix(data[\"FullDescription\"].values, max_len)\n",
        "    batch['Categorical'] = categorical_vectorizer.transform(data[categorical_columns].apply(dict, axis=1))\n",
        "\n",
        "    '''\n",
        "    Word dropout is a technique used in natural language processing to randomly replace words in the input with a special token (such as <UNK>)\n",
        "    to improve robustness and prevent overfitting\n",
        "    '''\n",
        "    if word_dropout != 0:\n",
        "        batch[\"FullDescription\"] = apply_word_dropout(batch[\"FullDescription\"], 1. - word_dropout)\n",
        "\n",
        "    if TARGET_COLUMN in data.columns:\n",
        "        batch[TARGET_COLUMN] = data[TARGET_COLUMN].values\n",
        "\n",
        "    return to_tensors(batch, device)\n",
        "\n",
        "def apply_word_dropout(matrix, keep_prop, replace_with=UNK_IX, pad_ix=PAD_IX,):\n",
        "    dropout_mask = np.random.choice(2, np.shape(matrix), p=[keep_prop, 1 - keep_prop])\n",
        "    dropout_mask &= matrix != pad_ix\n",
        "    return np.choose(dropout_mask, [matrix, np.full_like(matrix, replace_with)])"
      ]
    },
    {
      "cell_type": "code",
      "execution_count": null,
      "metadata": {
        "colab": {
          "base_uri": "https://localhost:8080/",
          "height": 337
        },
        "id": "cuMtGrL4IBbc",
        "outputId": "fea6311a-ca70-464d-8aee-f841decbd79b"
      },
      "outputs": [
        {
          "data": {
            "application/vnd.google.colaboratory.intrinsic+json": {
              "summary": "{\n  \"name\": \"data_train[:3]\",\n  \"rows\": 3,\n  \"fields\": [\n    {\n      \"column\": \"Id\",\n      \"properties\": {\n        \"dtype\": \"number\",\n        \"std\": 2164066,\n        \"min\": 68364211,\n        \"max\": 72450873,\n        \"num_unique_values\": 3,\n        \"samples\": [\n          69173058,\n          72450873,\n          68364211\n        ],\n        \"semantic_type\": \"\",\n        \"description\": \"\"\n      }\n    },\n    {\n      \"column\": \"Title\",\n      \"properties\": {\n        \"dtype\": \"string\",\n        \"num_unique_values\": 3,\n        \"samples\": [\n          \"senior support worker\",\n          \"statistical / mathematical modeller in pharmaceutical biosciences\",\n          \"emc team leader ( def stan )\"\n        ],\n        \"semantic_type\": \"\",\n        \"description\": \"\"\n      }\n    },\n    {\n      \"column\": \"FullDescription\",\n      \"properties\": {\n        \"dtype\": \"string\",\n        \"num_unique_values\": 3,\n        \"samples\": [\n          \"senior support worker wanted a senior support worker is wanted for a residential service in wiveliscombe , somerset , for residents with learning difficulties , physical disabilities , acquired brain injury and nuerological problems . the ideal candidate will have either an nvq ****/**** with at least a years experience within this field , preferably at a senior level . the senior support worker will have to be able to compile and implement care plans , as well as arrange individuals daily outings and encourage residents to take an active role in all aspects of daily living and ensure the appropriate level of individual care and support is identified . the successful candidate will be offered a salary of between **** and **** per hour over **** hours a week in a shift pattern , and there is ample holiday and childcare vouchers as well as life assurance on offer . this job was originally posted as www . totaljobs . com / jobseeking / seniorsupportworker_job ****\",\n          \"statistical / mathematical modeller in pharmaceutical biosciences ref : **** based cheshire excellent remuneration and benefits our client is seeking a talented ph . d . qualified mathematical / statistical modeller to participate in the development of cutting edge models for application in the pharmaceutical , agrochemical and chemical industries . the position will entail making significant contributions to several projects in simulation modelling and high content screening . the primary requirements are a strong background in statistics or mathematics , a desire to work in a pharmaceutical / biological modelling environment , adaptability and a good team ethic . job purpose the position is primarily involved with providing rigorous mathematical and statistical support for research and development projects being performed at the company \\u2019 s uk and usa sites . these projects include : ( pbpk and pbpk / pd models ) of novel chemicals from appropriate in vitro adme , receptorbinding and high content screening data generated during drug and chemical discovery . \\u2022 the development of novel methods for predicting toxicity of drugs and other chemicals from high content screening ( hcs ) data and from predicted in vivo exposure . the jobholder will work closely with simulation modellers , research assistants , laboratory staff and computer programmers to develop and deploy new models . the jobholder will be expected to provide both intellectual and handson programming input to the model development process . skills and competencies candidates for this position should have good skills in mathematics and / or statistics . a ph . d . is not essential , but demonstrable experience of research and development to a similar or higher standard is necessary . candidates need not have a pharmacology / biosciences background , but this would be an advantage . we particularly welcome applicants with knowledge of pattern recognition , machine learning , identifiability analysis , information theory , numerical analysis or curve fitting . due to the wideranging remit of the position , candidates with strengths in a subset of these skills will be considered , and training provided to supplement with the additional skills required . the position entails working in a team software development environment and will require considerable programming work . candidates should have good programming skills in a relevant numeric programming environment ( e . g . r , python / numpy / scipy , matlab ). experience of formal software development methods would be an advantage , but training will be given to a successful candidate lacking this experience . good communication skills ( written and oral ) are essential . experience of drug discovery or development would also be an advantage . aptitude applicants must be adaptable , being able to contribute to the various strands of research and development being performed within the company . the successful candidate will have the confidence to work on their own initiative , whilst being able to work as an integral part of a multidisciplinary team . being a firstclass team worker is an essential requirement . development opportunities our client develops and deploys a unique range of in silico and in vitro services and products to more than **** customers worldwide working in drug discovery and development , agrochemistry and neutraceuticals . within this dynamic commercial and research environment , the successful applicant will have the opportunity to develop their scientific knowledge to cover this large and expanding range of services provided by the company in experimental adme screening , in vitro toxicology and software systems for the prediction of pharmacokinetics , pharmacodynamics and drug safety in vivo . it is also expected that they will be required to act in a consultative manner for our customers on specific clientdriven projects . training will be available to complement existing skills with any additional expertise required for successful execution of the jobholder \\u2019 s accountabilities . they expect that the jobholder will be able to enhance their publication record by contributing to publications in highquality journals , and by presentation of original work at relevant scientific conferences . the position is based in cheshire within easy reach of manchester . an excellent remuneration package is on offer , combined with the opportunity to work on challenging development projects in a unique environment . salary : ******** k to apply , send your cv to andy cuthbert on acscisearch . com quoting ref : **** this job was originally posted as www . totaljobs . com / jobseeking / statisticalmathematicalmodellerinpharmaceuticalbiosciences_job ****\",\n          \"the opportunity my client is currently seeking a team leader electromagnetic compatibility military testing to look after the test and certification of a wide range of products and services . they are a leading organisation that specialise in product compliance solutions in a wide range of industries . the role to develop a team of engineers capable of undertaking emc testing against military standards promote the brand through the military industry maintain and update current ukas schedule for military standards conduct formal and informal training sessions project management of large jobs even when others are working on them provide accurate financial information for your area attend sales visits at customer sites as required assist in the formulation of sales and marketing strategies supervise all lab audits including ukas and noncompliance rectifications for military the team responsible for ( emc ) certification of military products as per national and international requirements . product evaluation as per ul , en iec standards for ce marking the person experience of conducting test work to def stan **** experience of emc testing and project management hnc in electronics / engineering as a minimum , experience of sixsigma and process methodologies would be a bonus ability to travel the rewards in return you will receive a competitive salary and bonus scheme together with ongoing training in industry developments . they also promote a culture where motivated customeroriented employees can flourish , experience professional fulfilment and reach their highest potential .\"\n        ],\n        \"semantic_type\": \"\",\n        \"description\": \"\"\n      }\n    },\n    {\n      \"column\": \"LocationRaw\",\n      \"properties\": {\n        \"dtype\": \"string\",\n        \"num_unique_values\": 3,\n        \"samples\": [\n          \"Taunton, Somerset Somerset South West\",\n          \"North West\",\n          \"Surrey\"\n        ],\n        \"semantic_type\": \"\",\n        \"description\": \"\"\n      }\n    },\n    {\n      \"column\": \"LocationNormalized\",\n      \"properties\": {\n        \"dtype\": \"string\",\n        \"num_unique_values\": 3,\n        \"samples\": [\n          \"Taunton\",\n          \"North West London\",\n          \"Surrey\"\n        ],\n        \"semantic_type\": \"\",\n        \"description\": \"\"\n      }\n    },\n    {\n      \"column\": \"ContractType\",\n      \"properties\": {\n        \"dtype\": \"object\",\n        \"num_unique_values\": 1,\n        \"samples\": [\n          \"NaN\"\n        ],\n        \"semantic_type\": \"\",\n        \"description\": \"\"\n      }\n    },\n    {\n      \"column\": \"ContractTime\",\n      \"properties\": {\n        \"dtype\": \"category\",\n        \"num_unique_values\": 1,\n        \"samples\": [\n          \"permanent\"\n        ],\n        \"semantic_type\": \"\",\n        \"description\": \"\"\n      }\n    },\n    {\n      \"column\": \"Company\",\n      \"properties\": {\n        \"dtype\": \"category\",\n        \"num_unique_values\": 1,\n        \"samples\": [\n          \"Other\"\n        ],\n        \"semantic_type\": \"\",\n        \"description\": \"\"\n      }\n    },\n    {\n      \"column\": \"Category\",\n      \"properties\": {\n        \"dtype\": \"string\",\n        \"num_unique_values\": 3,\n        \"samples\": [\n          \"Healthcare & Nursing Jobs\"\n        ],\n        \"semantic_type\": \"\",\n        \"description\": \"\"\n      }\n    },\n    {\n      \"column\": \"SalaryRaw\",\n      \"properties\": {\n        \"dtype\": \"string\",\n        \"num_unique_values\": 3,\n        \"samples\": [\n          \"15931 - 17082 per annum\"\n        ],\n        \"semantic_type\": \"\",\n        \"description\": \"\"\n      }\n    },\n    {\n      \"column\": \"SalaryNormalized\",\n      \"properties\": {\n        \"dtype\": \"number\",\n        \"std\": 14456,\n        \"min\": 16506,\n        \"max\": 45000,\n        \"num_unique_values\": 3,\n        \"samples\": [\n          16506\n        ],\n        \"semantic_type\": \"\",\n        \"description\": \"\"\n      }\n    },\n    {\n      \"column\": \"SourceName\",\n      \"properties\": {\n        \"dtype\": \"string\",\n        \"num_unique_values\": 2,\n        \"samples\": [\n          \"justengineers.net\"\n        ],\n        \"semantic_type\": \"\",\n        \"description\": \"\"\n      }\n    },\n    {\n      \"column\": \"Log1pSalary\",\n      \"properties\": {\n        \"dtype\": \"float32\",\n        \"num_unique_values\": 3,\n        \"samples\": [\n          9.711540222167969\n        ],\n        \"semantic_type\": \"\",\n        \"description\": \"\"\n      }\n    }\n  ]\n}",
              "type": "dataframe"
            },
            "text/html": [
              "\n",
              "  <div id=\"df-654a74ee-b6a1-4283-992e-3a482d2ee953\" class=\"colab-df-container\">\n",
              "    <div>\n",
              "<style scoped>\n",
              "    .dataframe tbody tr th:only-of-type {\n",
              "        vertical-align: middle;\n",
              "    }\n",
              "\n",
              "    .dataframe tbody tr th {\n",
              "        vertical-align: top;\n",
              "    }\n",
              "\n",
              "    .dataframe thead th {\n",
              "        text-align: right;\n",
              "    }\n",
              "</style>\n",
              "<table border=\"1\" class=\"dataframe\">\n",
              "  <thead>\n",
              "    <tr style=\"text-align: right;\">\n",
              "      <th></th>\n",
              "      <th>Id</th>\n",
              "      <th>Title</th>\n",
              "      <th>FullDescription</th>\n",
              "      <th>LocationRaw</th>\n",
              "      <th>LocationNormalized</th>\n",
              "      <th>ContractType</th>\n",
              "      <th>ContractTime</th>\n",
              "      <th>Company</th>\n",
              "      <th>Category</th>\n",
              "      <th>SalaryRaw</th>\n",
              "      <th>SalaryNormalized</th>\n",
              "      <th>SourceName</th>\n",
              "      <th>Log1pSalary</th>\n",
              "    </tr>\n",
              "  </thead>\n",
              "  <tbody>\n",
              "    <tr>\n",
              "      <th>0</th>\n",
              "      <td>69173058</td>\n",
              "      <td>senior support worker</td>\n",
              "      <td>senior support worker wanted a senior support ...</td>\n",
              "      <td>Taunton, Somerset Somerset South West</td>\n",
              "      <td>Taunton</td>\n",
              "      <td>NaN</td>\n",
              "      <td>permanent</td>\n",
              "      <td>Other</td>\n",
              "      <td>Healthcare &amp; Nursing Jobs</td>\n",
              "      <td>15931 - 17082 per annum</td>\n",
              "      <td>16506</td>\n",
              "      <td>totaljobs.com</td>\n",
              "      <td>9.711540</td>\n",
              "    </tr>\n",
              "    <tr>\n",
              "      <th>1</th>\n",
              "      <td>72450873</td>\n",
              "      <td>statistical / mathematical modeller in pharmac...</td>\n",
              "      <td>statistical / mathematical modeller in pharmac...</td>\n",
              "      <td>North West</td>\n",
              "      <td>North West London</td>\n",
              "      <td>NaN</td>\n",
              "      <td>permanent</td>\n",
              "      <td>Other</td>\n",
              "      <td>Scientific &amp; QA Jobs</td>\n",
              "      <td>From 30,000 to 40,000 per annum 30-40K</td>\n",
              "      <td>35000</td>\n",
              "      <td>totaljobs.com</td>\n",
              "      <td>10.463132</td>\n",
              "    </tr>\n",
              "    <tr>\n",
              "      <th>2</th>\n",
              "      <td>68364211</td>\n",
              "      <td>emc team leader ( def stan )</td>\n",
              "      <td>the opportunity my client is currently seeking...</td>\n",
              "      <td>Surrey</td>\n",
              "      <td>Surrey</td>\n",
              "      <td>NaN</td>\n",
              "      <td>permanent</td>\n",
              "      <td>Other</td>\n",
              "      <td>Engineering Jobs</td>\n",
              "      <td>45k + Bonus + Pension</td>\n",
              "      <td>45000</td>\n",
              "      <td>justengineers.net</td>\n",
              "      <td>10.714440</td>\n",
              "    </tr>\n",
              "  </tbody>\n",
              "</table>\n",
              "</div>\n",
              "    <div class=\"colab-df-buttons\">\n",
              "\n",
              "  <div class=\"colab-df-container\">\n",
              "    <button class=\"colab-df-convert\" onclick=\"convertToInteractive('df-654a74ee-b6a1-4283-992e-3a482d2ee953')\"\n",
              "            title=\"Convert this dataframe to an interactive table.\"\n",
              "            style=\"display:none;\">\n",
              "\n",
              "  <svg xmlns=\"http://www.w3.org/2000/svg\" height=\"24px\" viewBox=\"0 -960 960 960\">\n",
              "    <path d=\"M120-120v-720h720v720H120Zm60-500h600v-160H180v160Zm220 220h160v-160H400v160Zm0 220h160v-160H400v160ZM180-400h160v-160H180v160Zm440 0h160v-160H620v160ZM180-180h160v-160H180v160Zm440 0h160v-160H620v160Z\"/>\n",
              "  </svg>\n",
              "    </button>\n",
              "\n",
              "  <style>\n",
              "    .colab-df-container {\n",
              "      display:flex;\n",
              "      gap: 12px;\n",
              "    }\n",
              "\n",
              "    .colab-df-convert {\n",
              "      background-color: #E8F0FE;\n",
              "      border: none;\n",
              "      border-radius: 50%;\n",
              "      cursor: pointer;\n",
              "      display: none;\n",
              "      fill: #1967D2;\n",
              "      height: 32px;\n",
              "      padding: 0 0 0 0;\n",
              "      width: 32px;\n",
              "    }\n",
              "\n",
              "    .colab-df-convert:hover {\n",
              "      background-color: #E2EBFA;\n",
              "      box-shadow: 0px 1px 2px rgba(60, 64, 67, 0.3), 0px 1px 3px 1px rgba(60, 64, 67, 0.15);\n",
              "      fill: #174EA6;\n",
              "    }\n",
              "\n",
              "    .colab-df-buttons div {\n",
              "      margin-bottom: 4px;\n",
              "    }\n",
              "\n",
              "    [theme=dark] .colab-df-convert {\n",
              "      background-color: #3B4455;\n",
              "      fill: #D2E3FC;\n",
              "    }\n",
              "\n",
              "    [theme=dark] .colab-df-convert:hover {\n",
              "      background-color: #434B5C;\n",
              "      box-shadow: 0px 1px 3px 1px rgba(0, 0, 0, 0.15);\n",
              "      filter: drop-shadow(0px 1px 2px rgba(0, 0, 0, 0.3));\n",
              "      fill: #FFFFFF;\n",
              "    }\n",
              "  </style>\n",
              "\n",
              "    <script>\n",
              "      const buttonEl =\n",
              "        document.querySelector('#df-654a74ee-b6a1-4283-992e-3a482d2ee953 button.colab-df-convert');\n",
              "      buttonEl.style.display =\n",
              "        google.colab.kernel.accessAllowed ? 'block' : 'none';\n",
              "\n",
              "      async function convertToInteractive(key) {\n",
              "        const element = document.querySelector('#df-654a74ee-b6a1-4283-992e-3a482d2ee953');\n",
              "        const dataTable =\n",
              "          await google.colab.kernel.invokeFunction('convertToInteractive',\n",
              "                                                    [key], {});\n",
              "        if (!dataTable) return;\n",
              "\n",
              "        const docLinkHtml = 'Like what you see? Visit the ' +\n",
              "          '<a target=\"_blank\" href=https://colab.research.google.com/notebooks/data_table.ipynb>data table notebook</a>'\n",
              "          + ' to learn more about interactive tables.';\n",
              "        element.innerHTML = '';\n",
              "        dataTable['output_type'] = 'display_data';\n",
              "        await google.colab.output.renderOutput(dataTable, element);\n",
              "        const docLink = document.createElement('div');\n",
              "        docLink.innerHTML = docLinkHtml;\n",
              "        element.appendChild(docLink);\n",
              "      }\n",
              "    </script>\n",
              "  </div>\n",
              "\n",
              "\n",
              "<div id=\"df-f991ac86-6d81-494c-8c5d-a0288d01b651\">\n",
              "  <button class=\"colab-df-quickchart\" onclick=\"quickchart('df-f991ac86-6d81-494c-8c5d-a0288d01b651')\"\n",
              "            title=\"Suggest charts\"\n",
              "            style=\"display:none;\">\n",
              "\n",
              "<svg xmlns=\"http://www.w3.org/2000/svg\" height=\"24px\"viewBox=\"0 0 24 24\"\n",
              "     width=\"24px\">\n",
              "    <g>\n",
              "        <path d=\"M19 3H5c-1.1 0-2 .9-2 2v14c0 1.1.9 2 2 2h14c1.1 0 2-.9 2-2V5c0-1.1-.9-2-2-2zM9 17H7v-7h2v7zm4 0h-2V7h2v10zm4 0h-2v-4h2v4z\"/>\n",
              "    </g>\n",
              "</svg>\n",
              "  </button>\n",
              "\n",
              "<style>\n",
              "  .colab-df-quickchart {\n",
              "      --bg-color: #E8F0FE;\n",
              "      --fill-color: #1967D2;\n",
              "      --hover-bg-color: #E2EBFA;\n",
              "      --hover-fill-color: #174EA6;\n",
              "      --disabled-fill-color: #AAA;\n",
              "      --disabled-bg-color: #DDD;\n",
              "  }\n",
              "\n",
              "  [theme=dark] .colab-df-quickchart {\n",
              "      --bg-color: #3B4455;\n",
              "      --fill-color: #D2E3FC;\n",
              "      --hover-bg-color: #434B5C;\n",
              "      --hover-fill-color: #FFFFFF;\n",
              "      --disabled-bg-color: #3B4455;\n",
              "      --disabled-fill-color: #666;\n",
              "  }\n",
              "\n",
              "  .colab-df-quickchart {\n",
              "    background-color: var(--bg-color);\n",
              "    border: none;\n",
              "    border-radius: 50%;\n",
              "    cursor: pointer;\n",
              "    display: none;\n",
              "    fill: var(--fill-color);\n",
              "    height: 32px;\n",
              "    padding: 0;\n",
              "    width: 32px;\n",
              "  }\n",
              "\n",
              "  .colab-df-quickchart:hover {\n",
              "    background-color: var(--hover-bg-color);\n",
              "    box-shadow: 0 1px 2px rgba(60, 64, 67, 0.3), 0 1px 3px 1px rgba(60, 64, 67, 0.15);\n",
              "    fill: var(--button-hover-fill-color);\n",
              "  }\n",
              "\n",
              "  .colab-df-quickchart-complete:disabled,\n",
              "  .colab-df-quickchart-complete:disabled:hover {\n",
              "    background-color: var(--disabled-bg-color);\n",
              "    fill: var(--disabled-fill-color);\n",
              "    box-shadow: none;\n",
              "  }\n",
              "\n",
              "  .colab-df-spinner {\n",
              "    border: 2px solid var(--fill-color);\n",
              "    border-color: transparent;\n",
              "    border-bottom-color: var(--fill-color);\n",
              "    animation:\n",
              "      spin 1s steps(1) infinite;\n",
              "  }\n",
              "\n",
              "  @keyframes spin {\n",
              "    0% {\n",
              "      border-color: transparent;\n",
              "      border-bottom-color: var(--fill-color);\n",
              "      border-left-color: var(--fill-color);\n",
              "    }\n",
              "    20% {\n",
              "      border-color: transparent;\n",
              "      border-left-color: var(--fill-color);\n",
              "      border-top-color: var(--fill-color);\n",
              "    }\n",
              "    30% {\n",
              "      border-color: transparent;\n",
              "      border-left-color: var(--fill-color);\n",
              "      border-top-color: var(--fill-color);\n",
              "      border-right-color: var(--fill-color);\n",
              "    }\n",
              "    40% {\n",
              "      border-color: transparent;\n",
              "      border-right-color: var(--fill-color);\n",
              "      border-top-color: var(--fill-color);\n",
              "    }\n",
              "    60% {\n",
              "      border-color: transparent;\n",
              "      border-right-color: var(--fill-color);\n",
              "    }\n",
              "    80% {\n",
              "      border-color: transparent;\n",
              "      border-right-color: var(--fill-color);\n",
              "      border-bottom-color: var(--fill-color);\n",
              "    }\n",
              "    90% {\n",
              "      border-color: transparent;\n",
              "      border-bottom-color: var(--fill-color);\n",
              "    }\n",
              "  }\n",
              "</style>\n",
              "\n",
              "  <script>\n",
              "    async function quickchart(key) {\n",
              "      const quickchartButtonEl =\n",
              "        document.querySelector('#' + key + ' button');\n",
              "      quickchartButtonEl.disabled = true;  // To prevent multiple clicks.\n",
              "      quickchartButtonEl.classList.add('colab-df-spinner');\n",
              "      try {\n",
              "        const charts = await google.colab.kernel.invokeFunction(\n",
              "            'suggestCharts', [key], {});\n",
              "      } catch (error) {\n",
              "        console.error('Error during call to suggestCharts:', error);\n",
              "      }\n",
              "      quickchartButtonEl.classList.remove('colab-df-spinner');\n",
              "      quickchartButtonEl.classList.add('colab-df-quickchart-complete');\n",
              "    }\n",
              "    (() => {\n",
              "      let quickchartButtonEl =\n",
              "        document.querySelector('#df-f991ac86-6d81-494c-8c5d-a0288d01b651 button');\n",
              "      quickchartButtonEl.style.display =\n",
              "        google.colab.kernel.accessAllowed ? 'block' : 'none';\n",
              "    })();\n",
              "  </script>\n",
              "</div>\n",
              "    </div>\n",
              "  </div>\n"
            ],
            "text/plain": [
              "         Id                                              Title  \\\n",
              "0  69173058                              senior support worker   \n",
              "1  72450873  statistical / mathematical modeller in pharmac...   \n",
              "2  68364211                       emc team leader ( def stan )   \n",
              "\n",
              "                                     FullDescription  \\\n",
              "0  senior support worker wanted a senior support ...   \n",
              "1  statistical / mathematical modeller in pharmac...   \n",
              "2  the opportunity my client is currently seeking...   \n",
              "\n",
              "                             LocationRaw LocationNormalized ContractType  \\\n",
              "0  Taunton, Somerset Somerset South West            Taunton          NaN   \n",
              "1                             North West  North West London          NaN   \n",
              "2                                 Surrey             Surrey          NaN   \n",
              "\n",
              "  ContractTime Company                   Category  \\\n",
              "0    permanent   Other  Healthcare & Nursing Jobs   \n",
              "1    permanent   Other       Scientific & QA Jobs   \n",
              "2    permanent   Other           Engineering Jobs   \n",
              "\n",
              "                                SalaryRaw  SalaryNormalized  \\\n",
              "0                 15931 - 17082 per annum             16506   \n",
              "1  From 30,000 to 40,000 per annum 30-40K             35000   \n",
              "2                   45k + Bonus + Pension             45000   \n",
              "\n",
              "          SourceName  Log1pSalary  \n",
              "0      totaljobs.com     9.711540  \n",
              "1      totaljobs.com    10.463132  \n",
              "2  justengineers.net    10.714440  "
            ]
          },
          "execution_count": 32,
          "metadata": {},
          "output_type": "execute_result"
        }
      ],
      "source": [
        "data_train[:3]"
      ]
    },
    {
      "cell_type": "code",
      "execution_count": null,
      "metadata": {
        "colab": {
          "base_uri": "https://localhost:8080/"
        },
        "id": "a0r5w8qqaHIW",
        "outputId": "cd452928-9ab6-45fb-d1c7-a97e87cccc39",
        "scrolled": true
      },
      "outputs": [
        {
          "data": {
            "text/plain": [
              "{'Title': tensor([[27645, 29893, 33674,     1,     1,     1,     1],\n",
              "         [29239,   197, 19175, 20042, 15554, 23162,  4051],\n",
              "         [10609, 30412, 17746,    33,  8705, 29157,    65]], device='cuda:0'),\n",
              " 'FullDescription': tensor([[27645, 29893, 33674, 32939,   982, 27645, 29893, 33674, 16451, 32939],\n",
              "         [29239,   197, 19175, 20042, 15554, 23162,  4051, 25511,   907,    82],\n",
              "         [30746, 21956, 20601,  6409, 16451,  8165, 27493,   982, 30412, 17746]],\n",
              "        device='cuda:0'),\n",
              " 'Categorical': tensor([[0., 0., 0.,  ..., 0., 0., 0.],\n",
              "         [0., 0., 0.,  ..., 0., 0., 0.],\n",
              "         [0., 0., 0.,  ..., 0., 0., 0.]], device='cuda:0'),\n",
              " 'Log1pSalary': tensor([ 9.7115, 10.4631, 10.7144], device='cuda:0')}"
            ]
          },
          "execution_count": 33,
          "metadata": {},
          "output_type": "execute_result"
        }
      ],
      "source": [
        "make_batch(data_train[:3], max_len=10)"
      ]
    },
    {
      "cell_type": "markdown",
      "metadata": {
        "id": "J0k0Mnx8aHIW"
      },
      "source": [
        "#### Architecture\n",
        "\n",
        "Our basic model consists of three branches:\n",
        "* Title encoder\n",
        "* Description encoder\n",
        "* Categorical features encoder\n",
        "\n",
        "We will then feed all 3 branches into one common network that predicts salary.\n",
        "\n",
        "![scheme](https://github.com/yandexdataschool/nlp_course/raw/master/resources/w2_conv_arch.png)"
      ]
    },
    {
      "cell_type": "markdown",
      "metadata": {
        "id": "2j4WPkkBqJRa"
      },
      "source": [
        "### Little part about Embedding layer"
      ]
    },
    {
      "cell_type": "markdown",
      "metadata": {
        "id": "hTOI1bg0_-GH"
      },
      "source": [
        "#### General\n",
        "`nn.Embedding(5, 2)` $-$ let's say that we have vocabulary of 5 words\n",
        "\n",
        "\n",
        "*   `nn.Embedding` is a table with embeddings for those 5 vectors (each vector of size 2)\n",
        "*   for each token with number i corresponding vector with such number is taken from the table\n",
        "*   then those parameters are fine-tuned"
      ]
    },
    {
      "cell_type": "code",
      "execution_count": null,
      "metadata": {
        "id": "i8Hx97IGpvh0"
      },
      "outputs": [],
      "source": [
        "emb = nn.Embedding(5, 2)    # can train using this method"
      ]
    },
    {
      "cell_type": "code",
      "execution_count": null,
      "metadata": {
        "colab": {
          "base_uri": "https://localhost:8080/"
        },
        "id": "8VMmGG0Kp1RG",
        "outputId": "0608c74a-ec7b-4b46-b2ca-7729e94ad58d"
      },
      "outputs": [
        {
          "data": {
            "text/plain": [
              "Parameter containing:\n",
              "tensor([[-0.1200,  0.4242],\n",
              "        [-0.7719,  1.2051],\n",
              "        [-0.6794, -0.8478],\n",
              "        [ 0.1848, -0.6176],\n",
              "        [-0.7493,  0.2073]], requires_grad=True)"
            ]
          },
          "execution_count": 35,
          "metadata": {},
          "output_type": "execute_result"
        }
      ],
      "source": [
        "emb.weight"
      ]
    },
    {
      "cell_type": "code",
      "execution_count": null,
      "metadata": {
        "colab": {
          "base_uri": "https://localhost:8080/"
        },
        "id": "r2UfjthspvsI",
        "outputId": "c6d0acd4-af8a-4e9c-ed67-3677a1fecc29"
      },
      "outputs": [
        {
          "data": {
            "text/plain": [
              "tensor([[-0.1200,  0.4242],\n",
              "        [-0.6794, -0.8478],\n",
              "        [-0.7719,  1.2051]], grad_fn=<EmbeddingBackward0>)"
            ]
          },
          "execution_count": 36,
          "metadata": {},
          "output_type": "execute_result"
        }
      ],
      "source": [
        "emb(torch.tensor([0, 2, 1]))"
      ]
    },
    {
      "cell_type": "markdown",
      "metadata": {
        "id": "f2ydR45xAAsZ"
      },
      "source": [
        "#### Our Case"
      ]
    },
    {
      "cell_type": "code",
      "execution_count": null,
      "metadata": {
        "id": "xKXqFWyr8clH"
      },
      "outputs": [],
      "source": [
        "emb = torch.nn.Embedding(34_000, 32)            # 34_000 samples, 32 dim"
      ]
    },
    {
      "cell_type": "code",
      "execution_count": null,
      "metadata": {
        "colab": {
          "base_uri": "https://localhost:8080/"
        },
        "id": "JcHEL4qkAcre",
        "outputId": "685cef1c-e1b1-4a8d-f771-7657f3e1f919"
      },
      "outputs": [
        {
          "data": {
            "text/plain": [
              "tensor([[27645, 29893, 33674,     1,     1,     1,     1],\n",
              "        [29239,   197, 19175, 20042, 15554, 23162,  4051],\n",
              "        [10609, 30412, 17746,    33,  8705, 29157,    65]])"
            ]
          },
          "execution_count": 38,
          "metadata": {},
          "output_type": "execute_result"
        }
      ],
      "source": [
        "piece = make_batch(data_train[:3], max_len=10, device='cpu')\n",
        "piece[\"Title\"]"
      ]
    },
    {
      "cell_type": "code",
      "execution_count": null,
      "metadata": {
        "colab": {
          "base_uri": "https://localhost:8080/"
        },
        "id": "HvjRhTZOVqbK",
        "outputId": "46f0b397-cfcd-4753-80d3-f65e0575d390"
      },
      "outputs": [
        {
          "data": {
            "text/plain": [
              "torch.Size([3, 7, 32])"
            ]
          },
          "execution_count": 39,
          "metadata": {},
          "output_type": "execute_result"
        }
      ],
      "source": [
        "emb(piece[\"Title\"]).shape"
      ]
    },
    {
      "cell_type": "code",
      "execution_count": null,
      "metadata": {
        "colab": {
          "base_uri": "https://localhost:8080/"
        },
        "id": "JlHr94ivjEbo",
        "outputId": "743a93ec-e056-4398-a0ac-7ebb87fc59e1"
      },
      "outputs": [
        {
          "data": {
            "text/plain": [
              "tensor([[ 1.5068e-01, -2.0209e+00, -2.7310e-01, -3.4801e-01,  8.9040e-01,\n",
              "          9.8963e-01, -6.0834e-01,  6.4623e-01, -3.9155e-01,  1.2940e+00,\n",
              "         -7.5606e-01, -5.9852e-01, -1.4822e+00,  3.0404e-01,  6.1407e-01,\n",
              "         -2.1535e-01, -1.1904e+00,  6.8016e-01, -1.5398e+00,  1.0223e+00,\n",
              "         -5.6138e-01, -2.0170e+00,  2.3591e+00, -1.3662e+00, -1.3339e+00,\n",
              "          3.5948e-02, -2.0804e+00,  8.5171e-02, -5.0390e-01, -6.2759e-01,\n",
              "         -3.7239e-01, -2.2305e+00],\n",
              "        [-1.5801e-01, -2.8288e-02,  3.0334e-01,  2.9082e-01, -7.2184e-01,\n",
              "         -1.0388e+00,  1.0530e+00,  1.6274e-01, -1.2029e+00,  2.2532e-01,\n",
              "          3.2910e-01, -4.3561e-01,  1.7429e-01,  6.9288e-01,  2.7607e-01,\n",
              "          1.0550e+00, -1.4394e+00, -9.4421e-01,  6.0288e-01,  1.1451e-01,\n",
              "         -6.7836e-01, -1.4311e+00,  1.4549e+00, -3.8101e-01,  4.5395e-01,\n",
              "         -5.4702e-01,  1.1596e-01, -1.9486e-01, -6.5759e-01, -8.8772e-01,\n",
              "         -1.4339e-01, -2.1123e-01],\n",
              "        [ 2.2447e+00, -2.3989e-01, -1.4731e+00, -1.8042e-01, -1.6255e+00,\n",
              "         -1.1932e+00,  1.1622e+00,  5.9003e-01, -5.3286e-01,  1.3209e+00,\n",
              "          3.4956e-02,  6.7887e-01,  5.3733e-01, -6.8134e-01, -1.6386e+00,\n",
              "          2.4426e-01, -5.5533e-01,  1.0733e+00,  6.3693e-01, -1.3910e-01,\n",
              "          1.3767e+00,  1.6871e+00, -1.0644e-01,  5.3085e-01,  6.7907e-01,\n",
              "         -3.6396e-01, -8.8164e-01, -4.2734e-04, -1.4687e-01, -5.0805e-01,\n",
              "          2.5824e-02,  2.3880e-01],\n",
              "        [-1.1583e+00, -1.0631e+00, -1.0068e+00,  6.5504e-01,  6.5711e-01,\n",
              "          2.0465e+00, -2.0564e+00, -2.6538e+00,  1.7014e-01,  2.5627e-01,\n",
              "         -2.0800e+00,  4.4983e-01, -1.9345e-01,  1.2459e+00, -4.3840e-01,\n",
              "         -9.9589e-01,  5.8510e-01, -5.5866e-02, -4.3620e-01, -7.6528e-01,\n",
              "          5.5670e-01, -1.4790e+00, -1.5091e+00, -4.6551e-02, -8.0922e-01,\n",
              "          1.0533e+00,  6.1899e-01,  1.0443e+00, -6.2104e-01, -1.4245e-01,\n",
              "         -6.9926e-01, -6.1873e-01],\n",
              "        [-1.1583e+00, -1.0631e+00, -1.0068e+00,  6.5504e-01,  6.5711e-01,\n",
              "          2.0465e+00, -2.0564e+00, -2.6538e+00,  1.7014e-01,  2.5627e-01,\n",
              "         -2.0800e+00,  4.4983e-01, -1.9345e-01,  1.2459e+00, -4.3840e-01,\n",
              "         -9.9589e-01,  5.8510e-01, -5.5866e-02, -4.3620e-01, -7.6528e-01,\n",
              "          5.5670e-01, -1.4790e+00, -1.5091e+00, -4.6551e-02, -8.0922e-01,\n",
              "          1.0533e+00,  6.1899e-01,  1.0443e+00, -6.2104e-01, -1.4245e-01,\n",
              "         -6.9926e-01, -6.1873e-01],\n",
              "        [-1.1583e+00, -1.0631e+00, -1.0068e+00,  6.5504e-01,  6.5711e-01,\n",
              "          2.0465e+00, -2.0564e+00, -2.6538e+00,  1.7014e-01,  2.5627e-01,\n",
              "         -2.0800e+00,  4.4983e-01, -1.9345e-01,  1.2459e+00, -4.3840e-01,\n",
              "         -9.9589e-01,  5.8510e-01, -5.5866e-02, -4.3620e-01, -7.6528e-01,\n",
              "          5.5670e-01, -1.4790e+00, -1.5091e+00, -4.6551e-02, -8.0922e-01,\n",
              "          1.0533e+00,  6.1899e-01,  1.0443e+00, -6.2104e-01, -1.4245e-01,\n",
              "         -6.9926e-01, -6.1873e-01],\n",
              "        [-1.1583e+00, -1.0631e+00, -1.0068e+00,  6.5504e-01,  6.5711e-01,\n",
              "          2.0465e+00, -2.0564e+00, -2.6538e+00,  1.7014e-01,  2.5627e-01,\n",
              "         -2.0800e+00,  4.4983e-01, -1.9345e-01,  1.2459e+00, -4.3840e-01,\n",
              "         -9.9589e-01,  5.8510e-01, -5.5866e-02, -4.3620e-01, -7.6528e-01,\n",
              "          5.5670e-01, -1.4790e+00, -1.5091e+00, -4.6551e-02, -8.0922e-01,\n",
              "          1.0533e+00,  6.1899e-01,  1.0443e+00, -6.2104e-01, -1.4245e-01,\n",
              "         -6.9926e-01, -6.1873e-01]], grad_fn=<SelectBackward0>)"
            ]
          },
          "execution_count": 40,
          "metadata": {},
          "output_type": "execute_result"
        }
      ],
      "source": [
        "emb(piece[\"Title\"])[0]  # 3 = batch_size"
      ]
    },
    {
      "cell_type": "markdown",
      "metadata": {
        "id": "mIsrow0Did4J"
      },
      "source": [
        "#### Convolution and MaxPool"
      ]
    },
    {
      "cell_type": "code",
      "execution_count": null,
      "metadata": {
        "id": "jhRKdi4_AfRs"
      },
      "outputs": [],
      "source": [
        "# want to manipulate with dimension of vector 32 -> 64\n",
        "# so, torch.nn.Conv1d expects tensor as [3, 32, 7]\n",
        "conv = torch.nn.Conv1d(32, 64, kernel_size=3)"
      ]
    },
    {
      "cell_type": "code",
      "execution_count": null,
      "metadata": {
        "colab": {
          "base_uri": "https://localhost:8080/"
        },
        "id": "ZwAOywSKkD6X",
        "outputId": "9b1b23da-5784-4314-ecd1-09ce42a5e9ee"
      },
      "outputs": [
        {
          "data": {
            "text/plain": [
              "torch.Size([64, 32, 3])"
            ]
          },
          "execution_count": 42,
          "metadata": {},
          "output_type": "execute_result"
        }
      ],
      "source": [
        "conv.weight.shape"
      ]
    },
    {
      "cell_type": "code",
      "execution_count": null,
      "metadata": {
        "colab": {
          "base_uri": "https://localhost:8080/"
        },
        "id": "JHvnqv9W8cn4",
        "outputId": "98f400cb-89de-4bde-a824-8160c1016d69"
      },
      "outputs": [
        {
          "data": {
            "text/plain": [
              "torch.Size([3, 32, 7])"
            ]
          },
          "execution_count": 43,
          "metadata": {},
          "output_type": "execute_result"
        }
      ],
      "source": [
        "embs = emb(piece[\"Title\"]).transpose(1, 2)\n",
        "embs.shape"
      ]
    },
    {
      "cell_type": "code",
      "execution_count": null,
      "metadata": {
        "colab": {
          "base_uri": "https://localhost:8080/"
        },
        "id": "JtbWKfxV9GKj",
        "outputId": "32ffcbcb-061b-45c2-f87f-b6f20413a4c3"
      },
      "outputs": [
        {
          "data": {
            "text/plain": [
              "torch.Size([3, 64, 5])"
            ]
          },
          "execution_count": 44,
          "metadata": {},
          "output_type": "execute_result"
        }
      ],
      "source": [
        "conv_outs = conv(embs)    # number of trigrams (because we chose kernel_size=3)\n",
        "conv_outs.shape"
      ]
    },
    {
      "cell_type": "markdown",
      "metadata": {
        "id": "VZ8RdiOPCcmp"
      },
      "source": [
        "#### Global Max Pooling\n",
        "\n",
        "<br>\n",
        "\n",
        "![image.png](data:image/png;base64,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)"
      ]
    },
    {
      "cell_type": "code",
      "execution_count": null,
      "metadata": {
        "colab": {
          "base_uri": "https://localhost:8080/"
        },
        "id": "ny4rr4_zCeWr",
        "outputId": "4218438d-a54b-4fda-85c3-58073d0a670f"
      },
      "outputs": [
        {
          "data": {
            "text/plain": [
              "torch.Size([3, 64])"
            ]
          },
          "execution_count": 45,
          "metadata": {},
          "output_type": "execute_result"
        }
      ],
      "source": [
        "max_pool = torch.max(conv_outs, dim=-1).values\n",
        "max_pool.shape"
      ]
    },
    {
      "cell_type": "markdown",
      "metadata": {
        "id": "HU5aQ2CFqNW8"
      },
      "source": [
        "### **Neural Network**"
      ]
    },
    {
      "cell_type": "code",
      "execution_count": null,
      "metadata": {
        "id": "RpdDCNE2McpD"
      },
      "outputs": [],
      "source": [
        "import torch.nn as nn"
      ]
    },
    {
      "cell_type": "code",
      "execution_count": null,
      "metadata": {
        "id": "1cHFHvcJaHIW"
      },
      "outputs": [],
      "source": [
        "class SalaryPredictor(nn.Module):   # Inherit from nn.Module\n",
        "    def __init__(self, n_tokens=len(tokens), n_cat_features=len(categorical_vectorizer.vocabulary_), hid_size=64):\n",
        "        super().__init__()\n",
        "        self.emb = nn.Embedding(n_tokens, 32)\n",
        "        self.conv = nn.Conv1d(32, hid_size, kernel_size=3)\n",
        "        self.fc = nn.Linear(n_cat_features, n_cat_features)\n",
        "        self.model = nn.Sequential(\n",
        "            nn.Linear(n_cat_features+128, 1024),\n",
        "            nn.ReLU(),\n",
        "            nn.Linear(1024, 512),\n",
        "            nn.ReLU(),\n",
        "            nn.Linear(512, 128),\n",
        "            nn.ReLU(),\n",
        "            nn.Linear(128, 64),\n",
        "            nn.ReLU(),\n",
        "            nn.Linear(64, 1)\n",
        "        )\n",
        "\n",
        "    def forward(self, batch):\n",
        "        emb_text_columns = torch.cat([torch.max(self.conv(self.emb(batch[column]).transpose(1, 2)), dim=-1).values for column in text_columns], axis=1)\n",
        "        emb_categorical = self.fc(batch['Categorical'])\n",
        "        input = torch.cat((emb_text_columns, emb_categorical), axis=1)\n",
        "        output = self.model(input).reshape(1, -1)[0]\n",
        "        return output"
      ]
    },
    {
      "cell_type": "markdown",
      "metadata": {
        "id": "1P6EcIaQHTvY"
      },
      "source": [
        "better to train **separate** conv for Title and Description:\n",
        "\n",
        "```\n",
        "title_enc = TitleEncoder()\n",
        "descr_enc = DescripEncoder()\n",
        "descr_enc.emd = title_enc.emb    # shared emb params between two encoders\n",
        "```\n",
        "\n"
      ]
    },
    {
      "cell_type": "code",
      "execution_count": null,
      "metadata": {
        "id": "0JkMuyL-aHIX"
      },
      "outputs": [],
      "source": [
        "model = SalaryPredictor().to(device)\n",
        "batch = make_batch(data_train[:100], device=device)\n",
        "criterion = nn.MSELoss()\n",
        "\n",
        "dummy_pred = model(batch)\n",
        "dummy_loss = criterion(dummy_pred, batch[TARGET_COLUMN])\n",
        "assert dummy_pred.shape == torch.Size([100])\n",
        "assert len(torch.unique(dummy_pred)) > 20, \"model returns suspiciously few unique outputs. Check your initialization\"\n",
        "assert dummy_loss.ndim == 0 and 0. <= dummy_loss <= 250., \"make sure you minimize MSE\""
      ]
    },
    {
      "cell_type": "markdown",
      "metadata": {
        "id": "wwkFTStwaHIX"
      },
      "source": [
        "#### Training and evaluation\n",
        "\n",
        "As usual, we gonna feed our monster with random minibatches of data.\n",
        "\n",
        "As we train, we want to monitor not only loss function, which is computed in log-space, but also the actual error measured in dollars."
      ]
    },
    {
      "cell_type": "code",
      "execution_count": null,
      "metadata": {
        "id": "dEktTTCQaHIc"
      },
      "outputs": [],
      "source": [
        "def iterate_minibatches(data, batch_size=256, shuffle=True, cycle=False, device=device, **kwargs):\n",
        "    \"\"\" iterates minibatches of data in random order \"\"\"\n",
        "    while True:\n",
        "        indices = np.arange(len(data))\n",
        "        if shuffle:\n",
        "            indices = np.random.permutation(indices)\n",
        "\n",
        "        for start in range(0, len(indices), batch_size):\n",
        "            batch = make_batch(data.iloc[indices[start : start + batch_size]], device=device, **kwargs)\n",
        "            yield batch\n",
        "\n",
        "        if not cycle: break"
      ]
    },
    {
      "cell_type": "markdown",
      "metadata": {
        "id": "z_XD02MhaHIc"
      },
      "source": [
        "### Model training\n",
        "\n",
        "We can now fit our model the usual minibatch way. The interesting part is that we train on an infinite stream of minibatches, produced by `iterate_minibatches` function."
      ]
    },
    {
      "cell_type": "code",
      "execution_count": null,
      "metadata": {
        "id": "0I-JwJ5KaHIc"
      },
      "outputs": [],
      "source": [
        "from tqdm.auto import tqdm\n",
        "\n",
        "BATCH_SIZE = 16\n",
        "EPOCHS = 5"
      ]
    },
    {
      "cell_type": "code",
      "execution_count": null,
      "metadata": {
        "id": "NKsxfLXbaHId"
      },
      "outputs": [],
      "source": [
        "def print_metrics(model, data, batch_size=BATCH_SIZE, name=\"\", device=torch.device('cpu'), **kw):\n",
        "    squared_error = abs_error = num_samples = 0.0\n",
        "    model.eval()\n",
        "    with torch.no_grad():\n",
        "        for batch in iterate_minibatches(data, batch_size=batch_size, shuffle=False, device=device, **kw):\n",
        "            batch_pred = model(batch)\n",
        "            squared_error += torch.sum(torch.square(batch_pred - batch[TARGET_COLUMN]))\n",
        "            abs_error += torch.sum(torch.abs(batch_pred - batch[TARGET_COLUMN]))\n",
        "            num_samples += len(batch_pred)\n",
        "    mse = squared_error.detach().cpu().numpy() / num_samples\n",
        "    mae = abs_error.detach().cpu().numpy() / num_samples\n",
        "    print(\"%s results:\" % (name or \"\"))\n",
        "    print(\"Mean square error: %.5f\" % mse)\n",
        "    print(\"Mean absolute error: %.5f\" % mae)\n",
        "    return mse, mae"
      ]
    },
    {
      "cell_type": "code",
      "execution_count": 143,
      "metadata": {
        "colab": {
          "base_uri": "https://localhost:8080/",
          "height": 524,
          "referenced_widgets": [
            "aaeb3990309c4daa9151a6e9f481b669",
            "f250fe524e664baa8b5a26c409e4b033",
            "466901a3b5f54d1da32a3586ca3c7b91",
            "84f713b98f094b3784406410b1b78dcc",
            "628c17c56b61447a8f920b547f97deff",
            "0ba395c63abf4bffa3095173c7d4158d",
            "2b6514a9ffcf4261a820d4c87769c434",
            "d3a573e47a194e93bce78e57df1a2877",
            "a346618a2d8644c7a3143f4e03098900",
            "16362bb8ea584bc7bb67d599df6ba243",
            "7e4824be20284818bf54562ad743b984",
            "d9444483171d4f7e981d4a1b78df113d",
            "c5edf9fb7b2049ccb36c29083eec4e73",
            "f2e03be3dded4d76b1af2f9223a1c2d4",
            "f07076da2d57493d906814f9249b5c97",
            "70bcde04ef154f9693b1d5ce12db7dc9",
            "5c1ddfc6e15944309bcd8ceacf0b5625",
            "3038e09200804d7db9ace3c98907ee2d",
            "c0f1b5ceae2d46a58dd4530acc80feb3",
            "a381fcf163eb49e1b99612cf78b2aa38",
            "9415fb7b7741408e8e3ad8b73a08d963",
            "fb4f49ae1413409695f937cda9818088",
            "68d74d941e42471aaaec6bd2759f656b",
            "c2b71a27c7b3436c9c04ed1be53bd1e3",
            "fbcd40c01b0848f2808166b35c2a77b1",
            "5e4f82e43b804f748cdca713144cdcc1",
            "399a3ff228074561a2f9792515641b6d",
            "e0bb2af055c34eb4a4c33704fd24004e",
            "0d182090113748518ed0da591a8750fd",
            "e44c2e7b548c4716b5d0a7e0c18596c1",
            "8c94cc1207a04c98838c7449d3c0d956",
            "55a3e70f889b4833b71e0ae22e8f42e9",
            "8b7a5a2ad9e04d97ae0f2d14d000971e",
            "2ce5e461d2bd429eaf0f79dced0fbc39",
            "f5715f04b50d4368b6ac755650acc7bb",
            "a677ed0cc7fb4c65b20887a77d0abe68",
            "d4da1b45685e43cf85678a62c5167724",
            "ca99a8a7bd6f4fb0b5dde863cccb84b3",
            "355bc07f90cc4a1aa4f00a50a36a4bd8",
            "e002ac39d98146e6818dd103c752753a",
            "a3af9f65fb074681a5db88ae956f37da",
            "ae930dcf85c84ae38c898f9284d68fe1",
            "4e952a0b340648e6b7b4f5cc4292fbc9",
            "d5fbec0b84974ff493d1c6020d0aed52",
            "894d8c8e8c114f21abd1e7502ee5686a",
            "837cd891db7d4a778845132f36c3a2d2",
            "71b57bafa7e342a6bef82b15c52c4a70",
            "ecddacc9a28b403b86f5288f1dac0449",
            "377599acd4e54747add28b00da304d94",
            "b8094840fade4f21baa95f85d0c0d657",
            "4613b7a96fc44a638fbcaeaaec7b2fae",
            "9441a658053b49abb3d69331b722dc9b",
            "84a3f7b2c2a144158a3a68851ed94635",
            "022c19130fbd4fc8b9618f4600111a5b",
            "9ce66d94a788413288c5dc00c2ad42c1"
          ]
        },
        "id": "UXgICscDaHId",
        "outputId": "f72f93a0-1733-44aa-b8cd-ec0e8ace0dd2"
      },
      "outputs": [
        {
          "output_type": "stream",
          "name": "stdout",
          "text": [
            "epoch: 0\n"
          ]
        },
        {
          "output_type": "display_data",
          "data": {
            "text/plain": [
              "  0%|          | 0/12238 [00:00<?, ?it/s]"
            ],
            "application/vnd.jupyter.widget-view+json": {
              "version_major": 2,
              "version_minor": 0,
              "model_id": "aaeb3990309c4daa9151a6e9f481b669"
            }
          },
          "metadata": {}
        },
        {
          "output_type": "stream",
          "name": "stdout",
          "text": [
            " results:\n",
            "Mean square error: 0.15765\n",
            "Mean absolute error: 0.30461\n",
            "epoch: 1\n"
          ]
        },
        {
          "output_type": "display_data",
          "data": {
            "text/plain": [
              "  0%|          | 0/12238 [00:00<?, ?it/s]"
            ],
            "application/vnd.jupyter.widget-view+json": {
              "version_major": 2,
              "version_minor": 0,
              "model_id": "d9444483171d4f7e981d4a1b78df113d"
            }
          },
          "metadata": {}
        },
        {
          "output_type": "stream",
          "name": "stdout",
          "text": [
            " results:\n",
            "Mean square error: 0.12994\n",
            "Mean absolute error: 0.27929\n",
            "epoch: 2\n"
          ]
        },
        {
          "output_type": "display_data",
          "data": {
            "text/plain": [
              "  0%|          | 0/12238 [00:00<?, ?it/s]"
            ],
            "application/vnd.jupyter.widget-view+json": {
              "version_major": 2,
              "version_minor": 0,
              "model_id": "68d74d941e42471aaaec6bd2759f656b"
            }
          },
          "metadata": {}
        },
        {
          "output_type": "stream",
          "name": "stdout",
          "text": [
            " results:\n",
            "Mean square error: 0.11473\n",
            "Mean absolute error: 0.25846\n",
            "epoch: 3\n"
          ]
        },
        {
          "output_type": "display_data",
          "data": {
            "text/plain": [
              "  0%|          | 0/12238 [00:00<?, ?it/s]"
            ],
            "application/vnd.jupyter.widget-view+json": {
              "version_major": 2,
              "version_minor": 0,
              "model_id": "2ce5e461d2bd429eaf0f79dced0fbc39"
            }
          },
          "metadata": {}
        },
        {
          "output_type": "stream",
          "name": "stdout",
          "text": [
            " results:\n",
            "Mean square error: 0.11758\n",
            "Mean absolute error: 0.26461\n",
            "epoch: 4\n"
          ]
        },
        {
          "output_type": "display_data",
          "data": {
            "text/plain": [
              "  0%|          | 0/12238 [00:00<?, ?it/s]"
            ],
            "application/vnd.jupyter.widget-view+json": {
              "version_major": 2,
              "version_minor": 0,
              "model_id": "894d8c8e8c114f21abd1e7502ee5686a"
            }
          },
          "metadata": {}
        },
        {
          "output_type": "stream",
          "name": "stdout",
          "text": [
            " results:\n",
            "Mean square error: 0.10564\n",
            "Mean absolute error: 0.24612\n"
          ]
        }
      ],
      "source": [
        "model = SalaryPredictor().to(device)\n",
        "criterion = nn.MSELoss(reduction='sum')\n",
        "optimizer = torch.optim.SGD(model.parameters(), lr=1e-4)\n",
        "\n",
        "for epoch in range(EPOCHS):\n",
        "    print(f\"epoch: {epoch}\")\n",
        "    model.train()\n",
        "    for i, batch in tqdm(enumerate(\n",
        "            iterate_minibatches(data_train, batch_size=BATCH_SIZE, device=device)),\n",
        "            total=len(data_train) // BATCH_SIZE\n",
        "        ):\n",
        "        pred = model(batch)\n",
        "        loss = criterion(pred, batch[TARGET_COLUMN])\n",
        "        optimizer.zero_grad()\n",
        "        loss.backward()\n",
        "        optimizer.step()\n",
        "\n",
        "    print_metrics(model, data_val, device=device)"
      ]
    },
    {
      "cell_type": "markdown",
      "metadata": {
        "id": "aPNXQhLiaHId"
      },
      "source": [
        "### Bonus part: explaining model predictions\n",
        "\n",
        "It's usually a good idea to understand how your model works before you let it make actual decisions. It's simple for linear models: just see which words learned positive or negative weights. However, its much harder for neural networks that learn complex nonlinear dependencies.\n",
        "\n",
        "There are, however, some ways to look inside the black box:\n",
        "* Seeing how model responds to input perturbations\n",
        "* Finding inputs that maximize/minimize activation of some chosen neurons (_read more [on distill.pub](https://distill.pub/2018/building-blocks/)_)\n",
        "* Building local linear approximations to your neural network: [article](https://arxiv.org/abs/1602.04938), [eli5 library](https://github.com/TeamHG-Memex/eli5/tree/master/eli5/formatters)\n",
        "\n",
        "Today we gonna try the first method just because it's the simplest one."
      ]
    },
    {
      "cell_type": "code",
      "execution_count": 144,
      "metadata": {
        "id": "MFrGt6q0aHId"
      },
      "outputs": [],
      "source": [
        "def explain(model, sample, col_name='Title'):\n",
        "    \"\"\" Computes the effect each word had on model predictions \"\"\"\n",
        "    sample = dict(sample)\n",
        "    sample_col_tokens = [tokens[token_to_id.get(tok, 0)] for tok in sample[col_name].split()]\n",
        "    data_drop_one_token = pd.DataFrame([sample] * (len(sample_col_tokens) + 1))\n",
        "\n",
        "    for drop_i in range(len(sample_col_tokens)):\n",
        "        data_drop_one_token.loc[drop_i, col_name] = ' '.join(UNK if i == drop_i else tok\n",
        "                                                   for i, tok in enumerate(sample_col_tokens))\n",
        "\n",
        "    *predictions_drop_one_token, baseline_pred = model(make_batch(data_drop_one_token, device=device)).detach().cpu()\n",
        "    diffs = baseline_pred - torch.Tensor(predictions_drop_one_token)\n",
        "    return list(zip(sample_col_tokens, diffs))"
      ]
    },
    {
      "cell_type": "code",
      "execution_count": 145,
      "metadata": {
        "id": "MvSwbanMaHId"
      },
      "outputs": [],
      "source": [
        "from IPython.display import HTML, display_html\n",
        "\n",
        "\n",
        "def draw_html(tokens_and_weights, cmap=plt.get_cmap(\"bwr\"), display=True,\n",
        "              token_template=\"\"\"<span style=\"background-color: {color_hex}\">{token}</span>\"\"\",\n",
        "              font_style=\"font-size:14px;\"\n",
        "             ):\n",
        "\n",
        "    def get_color_hex(weight):\n",
        "        rgba = cmap(1. / (1 + np.exp(float(weight))), bytes=True)\n",
        "        return '#%02X%02X%02X' % rgba[:3]\n",
        "\n",
        "    tokens_html = [\n",
        "        token_template.format(token=token, color_hex=get_color_hex(weight))\n",
        "        for token, weight in tokens_and_weights\n",
        "    ]\n",
        "\n",
        "\n",
        "    raw_html = \"\"\"<p style=\"{}\">{}</p>\"\"\".format(font_style, ' '.join(tokens_html))\n",
        "    if display:\n",
        "        display_html(HTML(raw_html))\n",
        "\n",
        "    return raw_html\n"
      ]
    },
    {
      "cell_type": "code",
      "execution_count": 146,
      "metadata": {
        "colab": {
          "base_uri": "https://localhost:8080/",
          "height": 233
        },
        "id": "EefcN9_8aHId",
        "outputId": "f42358ae-5a6e-4828-cb6f-3525f72b99b7"
      },
      "outputs": [
        {
          "output_type": "display_data",
          "data": {
            "text/html": [
              "<p style=\"font-size:20px;\"><span style=\"background-color: #FFF4F4\">sales</span> <span style=\"background-color: #FFDCDC\">specialist</span> <span style=\"background-color: #FFE2E2\">iv</span> <span style=\"background-color: #CCCCFF\">access</span> <span style=\"background-color: #C8C8FF\">and</span> <span style=\"background-color: #F8F8FF\">infusion</span></p>"
            ]
          },
          "metadata": {}
        },
        {
          "output_type": "display_data",
          "data": {
            "text/html": [
              "<p style=\"font-size:14px;\"><span style=\"background-color: #FFFEFE\">sales</span> <span style=\"background-color: #EEEEFF\">representative</span> <span style=\"background-color: #DEDEFF\">medical</span> <span style=\"background-color: #E8E8FF\">sales</span> <span style=\"background-color: #FFFEFE\">iv</span> <span style=\"background-color: #FFFEFE\">access</span> <span style=\"background-color: #FCFCFF\">and</span> <span style=\"background-color: #FFFEFE\">infusion</span> <span style=\"background-color: #FEFEFF\">an</span> <span style=\"background-color: #F3F3FF\">opportunity</span> <span style=\"background-color: #FFFEFE\">to</span> <span style=\"background-color: #FFF0F0\">work</span> <span style=\"background-color: #DCDCFF\">for</span> <span style=\"background-color: #F3F3FF\">the</span> <span style=\"background-color: #FFFEFE\">industry</span> <span style=\"background-color: #FFFEFE\">leading</span> <span style=\"background-color: #FFEEEE\">manufacturer</span> <span style=\"background-color: #FFF0F0\">of</span> <span style=\"background-color: #FFF6F6\">iv</span> <span style=\"background-color: #FEFEFF\">access</span> <span style=\"background-color: #FFFEFE\">and</span> <span style=\"background-color: #FFFEFE\">infusion</span> <span style=\"background-color: #FFFEFE\">solutions</span> <span style=\"background-color: #FFFAFA\">.</span> <span style=\"background-color: #FFECEC\">formally</span> <span style=\"background-color: #FFFAFA\">recognised</span> <span style=\"background-color: #FFFEFE\">as</span> <span style=\"background-color: #FFFEFE\">the</span> <span style=\"background-color: #FFD6D6\">number</span> <span style=\"background-color: #FFEEEE\">****</span> <span style=\"background-color: #FFFEFE\">company</span> <span style=\"background-color: #FEFEFF\">in</span> <span style=\"background-color: #FFFEFE\">this</span> <span style=\"background-color: #FFFEFE\">market</span> <span style=\"background-color: #FFF4F4\">space</span> <span style=\"background-color: #FFFEFE\">,</span> <span style=\"background-color: #EAEAFF\">our</span> <span style=\"background-color: #EAEAFF\">client</span> <span style=\"background-color: #EAEAFF\">are</span> <span style=\"background-color: #FFFEFE\">an</span> <span style=\"background-color: #FFFEFE\">ethical</span> <span style=\"background-color: #FFFEFE\">and</span> <span style=\"background-color: #FFFEFE\">dynamic</span> <span style=\"background-color: #FEFEFF\">organisation</span> <span style=\"background-color: #FAFAFF\">absolutely</span> <span style=\"background-color: #FFBCBC\">committed</span> <span style=\"background-color: #F2F2FF\">to</span> <span style=\"background-color: #F2F2FF\">the</span> <span style=\"background-color: #F6F6FF\">advancement</span> <span style=\"background-color: #FFFCFC\">of</span> <span style=\"background-color: #FFFCFC\">innovative</span> <span style=\"background-color: #FFFCFC\">technologies</span> <span style=\"background-color: #FFFEFE\">.</span> <span style=\"background-color: #FFFEFE\">job</span> <span style=\"background-color: #FFFEFE\">title</span> <span style=\"background-color: #FFFEFE\">:</span> <span style=\"background-color: #FFFEFE\">sales</span> <span style=\"background-color: #FFF4F4\">specialist</span> <span style=\"background-color: #FFFEFE\">iv</span> <span style=\"background-color: #FFFEFE\">access</span> <span style=\"background-color: #FFFEFE\">and</span> <span style=\"background-color: #FFFEFE\">infusion</span> <span style=\"background-color: #FFFEFE\">selling</span> <span style=\"background-color: #FFFEFE\">:</span> <span style=\"background-color: #FFFEFE\">medication</span> <span style=\"background-color: #FFC8C8\">delivery</span> <span style=\"background-color: #FCFCFF\">solutions</span> <span style=\"background-color: #FCFCFF\">selling</span> <span style=\"background-color: #FFD0D0\">to</span> <span style=\"background-color: #FFA6A6\">:</span> <span style=\"background-color: #FFC3C3\">iv</span> <span style=\"background-color: #FFF6F6\">teams</span> <span style=\"background-color: #FFFCFC\">,</span> <span style=\"background-color: #FFFEFE\">infection</span> <span style=\"background-color: #E6E6FF\">control</span> <span style=\"background-color: #E8E8FF\">,</span> <span style=\"background-color: #E6E6FF\">lead</span> <span style=\"background-color: #FFFEFE\">intensive</span> <span style=\"background-color: #FFFEFE\">care</span> <span style=\"background-color: #E8E8FF\">nurse</span> <span style=\"background-color: #FFFEFE\">specialists</span> <span style=\"background-color: #FFFAFA\">,</span> <span style=\"background-color: #FFF6F6\">ward</span> <span style=\"background-color: #FCFCFF\">managers</span> <span style=\"background-color: #FFF4F4\">territory</span> <span style=\"background-color: #FCFCFF\">:</span> <span style=\"background-color: #F6F6FF\">east</span> <span style=\"background-color: #FFFEFE\">midlands</span> <span style=\"background-color: #FFFEFE\">location</span> <span style=\"background-color: #FFFEFE\">:</span> <span style=\"background-color: #FFFAFA\">east</span> <span style=\"background-color: #FFFEFE\">midlands</span> <span style=\"background-color: #FFFAFA\">package</span> <span style=\"background-color: #FFFEFE\">:</span> <span style=\"background-color: #FFFEFE\">basic</span> <span style=\"background-color: #FFFEFE\">:</span> <span style=\"background-color: #FFFCFC\">****</span> <span style=\"background-color: #FFFEFE\">k</span> <span style=\"background-color: #FFFEFE\">****</span> <span style=\"background-color: #FFFEFE\">k</span> <span style=\"background-color: #FFFEFE\">,</span> <span style=\"background-color: #FFF6F6\">uncapped</span> <span style=\"background-color: #F8F8FF\">bonus</span> <span style=\"background-color: #F8F8FF\">in</span> <span style=\"background-color: #FFDEDE\">addition</span> <span style=\"background-color: #FFFEFE\">,</span> <span style=\"background-color: #FFF4F4\">full</span> <span style=\"background-color: #FFFEFE\">corporate</span> <span style=\"background-color: #FFF8F8\">benefits</span> <span style=\"background-color: #FFFEFE\">company</span> <span style=\"background-color: #FFFEFE\">information</span> <span style=\"background-color: #FFFEFE\">hugely</span> <span style=\"background-color: #FFFEFE\">ethical</span> <span style=\"background-color: #FAFAFF\">and</span> <span style=\"background-color: #FCFCFF\">professional</span> <span style=\"background-color: #FAFAFF\">global</span> <span style=\"background-color: #FFFEFE\">organisation</span> <span style=\"background-color: #FFF8F8\">extremely</span> <span style=\"background-color: #FCFCFF\">well</span> <span style=\"background-color: #FEFEFF\">established</span> <span style=\"background-color: #F8F8FF\">in</span> <span style=\"background-color: #FFFEFE\">the</span> <span style=\"background-color: #FFFEFE\">uk</span> <span style=\"background-color: #FFFCFC\">the</span> <span style=\"background-color: #FFFEFE\">market</span> <span style=\"background-color: #FFFEFE\">leader</span> <span style=\"background-color: #FFFEFE\">across</span> <span style=\"background-color: #FFF8F8\">all</span> <span style=\"background-color: #FFFCFC\">of</span> <span style=\"background-color: #FFFEFE\">their</span> <span style=\"background-color: #FFF6F6\">core</span> <span style=\"background-color: #FFFEFE\">business</span> <span style=\"background-color: #FFF6F6\">areas</span> <span style=\"background-color: #FFF8F8\">focus</span> <span style=\"background-color: #FFFEFE\">on</span> <span style=\"background-color: #FFFEFE\">providing</span> <span style=\"background-color: #F6F6FF\">cutting</span> <span style=\"background-color: #FFCACA\">edge</span> <span style=\"background-color: #FEFEFF\">solutions</span> <span style=\"background-color: #FFFEFE\">along</span> <span style=\"background-color: #FFFEFE\">with</span> <span style=\"background-color: #D8D8FF\">outstanding</span> <span style=\"background-color: #FFE4E4\">service</span> <span style=\"background-color: #ECECFF\">and</span> <span style=\"background-color: #FFFEFE\">support</span> <span style=\"background-color: #FFFEFE\">a</span> <span style=\"background-color: #FFECEC\">business</span> <span style=\"background-color: #FFF6F6\">that</span> <span style=\"background-color: #FCFCFF\">retain</span> <span style=\"background-color: #FFE8E8\">talented</span> <span style=\"background-color: #FFF4F4\">personnel</span> <span style=\"background-color: #FFDEDE\">by</span> <span style=\"background-color: #FFF0F0\">offering</span> <span style=\"background-color: #FFF0F0\">a</span> <span style=\"background-color: #FEFEFF\">strong</span> <span style=\"background-color: #FEFEFF\">platform</span> <span style=\"background-color: #F6F6FF\">for</span> <span style=\"background-color: #FFC3C3\">career</span> <span style=\"background-color: #FCFCFF\">development</span> <span style=\"background-color: #FFEAEA\">sales</span> <span style=\"background-color: #FFF4F4\">specialist</span> <span style=\"background-color: #FFFEFE\">iv</span> <span style=\"background-color: #FFFEFE\">access</span> <span style=\"background-color: #FFFEFE\">and</span> <span style=\"background-color: #FFFEFE\">infusion</span> <span style=\"background-color: #FFF0F0\">you</span> <span style=\"background-color: #FFF0F0\">must</span> <span style=\"background-color: #FFF0F0\">have</span> <span style=\"background-color: #FFFEFE\">/</span> <span style=\"background-color: #FFEAEA\">be</span> <span style=\"background-color: #FFFEFE\">the</span> <span style=\"background-color: #FFFEFE\">following</span> <span style=\"background-color: #FFFEFE\">at</span> <span style=\"background-color: #FFFEFE\">least</span> <span style=\"background-color: #FFFEFE\">2</span> <span style=\"background-color: #FFFEFE\">years</span> <span style=\"background-color: #FFFEFE\">medical</span> <span style=\"background-color: #FFFEFE\">device</span> <span style=\"background-color: #FFEAEA\">sales</span> <span style=\"background-color: #FAFAFF\">experience</span> <span style=\"background-color: #F0F0FF\">.</span> <span style=\"background-color: #FFFEFE\">candidates</span> <span style=\"background-color: #FFFEFE\">who</span> <span style=\"background-color: #FFFEFE\">have</span> <span style=\"background-color: #FFFEFE\">sold</span> <span style=\"background-color: #FFF4F4\">disposables</span> <span style=\"background-color: #FFFEFE\">/</span> <span style=\"background-color: #FAFAFF\">consumables</span> <span style=\"background-color: #F8F8FF\">or</span> <span style=\"background-color: #FEFEFF\">similar</span> <span style=\"background-color: #FEFEFF\">into</span> <span style=\"background-color: #FFFAFA\">hospitals</span> <span style=\"background-color: #FFFEFE\">would</span> <span style=\"background-color: #FFFAFA\">be</span> <span style=\"background-color: #FFFEFE\">of</span> <span style=\"background-color: #FFFCFC\">particular</span> <span style=\"background-color: #FFFEFE\">interest</span> <span style=\"background-color: #FFFEFE\">.</span> <span style=\"background-color: #FFFEFE\">candidates</span> <span style=\"background-color: #FFFEFE\">must</span> <span style=\"background-color: #FFFEFE\">have</span> <span style=\"background-color: #FFFEFE\">sold</span> <span style=\"background-color: #FFFEFE\">into</span> <span style=\"background-color: #FEFEFF\">hospitals</span> <span style=\"background-color: #FEFEFF\">demonstrable</span> <span style=\"background-color: #FEFEFF\">performance</span> <span style=\"background-color: #FFFEFE\">and</span> <span style=\"background-color: #DCDCFF\">achievements</span> <span style=\"background-color: #EEEEFF\">so</span> <span style=\"background-color: #E0E0FF\">far</span> <span style=\"background-color: #FFF4F4\">personable</span> <span style=\"background-color: #FFFEFE\">,</span> <span style=\"background-color: #FFF4F4\">adaptable</span> <span style=\"background-color: #FFFEFE\">and</span> <span style=\"background-color: #FFFEFE\">willing</span> <span style=\"background-color: #FFFEFE\">to</span> <span style=\"background-color: #FFFEFE\">learn</span> <span style=\"background-color: #FFFEFE\">keen</span> <span style=\"background-color: #FFFEFE\">and</span> <span style=\"background-color: #FFFEFE\">eager</span> <span style=\"background-color: #FFFEFE\">to</span> <span style=\"background-color: #FFF8F8\">be</span> <span style=\"background-color: #FFFEFE\">a</span> <span style=\"background-color: #FFFEFE\">success</span> <span style=\"background-color: #FFFEFE\">candidates</span> <span style=\"background-color: #FFFEFE\">must</span> <span style=\"background-color: #FFFEFE\">have</span> <span style=\"background-color: #F8F8FF\">a</span> <span style=\"background-color: #F6F6FF\">degree</span> <span style=\"background-color: #F6F6FF\">or</span> <span style=\"background-color: #FFFEFE\">at</span> <span style=\"background-color: #FFFEFE\">least</span> <span style=\"background-color: #FFFEFE\">be</span> <span style=\"background-color: #FFFEFE\">able</span> <span style=\"background-color: #E8E8FF\">to</span> <span style=\"background-color: #E2E2FF\">show</span> <span style=\"background-color: #FF9A9A\">a</span> <span style=\"background-color: #FFFEFE\">strong</span> <span style=\"background-color: #FFFEFE\">ability</span> <span style=\"background-color: #FAFAFF\">to</span> <span style=\"background-color: #FCFCFF\">learn</span> <span style=\"background-color: #FCFCFF\">role</span> <span style=\"background-color: #FFFEFE\">information</span> <span style=\"background-color: #FFFEFE\">managing</span> <span style=\"background-color: #FFFEFE\">the</span> <span style=\"background-color: #FFF4F4\">east</span> <span style=\"background-color: #FFC8C8\">midlands</span> <span style=\"background-color: #FFFCFC\">region</span> <span style=\"background-color: #F8F8FF\">selling</span> <span style=\"background-color: #FFFEFE\">across</span> <span style=\"background-color: #FFF6F6\">the</span> <span style=\"background-color: #FFFEFE\">company</span> <span style=\"background-color: #FFFCFC\">'</span> <span style=\"background-color: #FFD6D6\">s</span> <span style=\"background-color: #FFFAFA\">range</span> <span style=\"background-color: #FFFEFE\">of</span> <span style=\"background-color: #FFFEFE\">iv</span> <span style=\"background-color: #FFFEFE\">and</span> <span style=\"background-color: #FFFEFE\">infusion</span> <span style=\"background-color: #FFFEFE\">solutions</span> <span style=\"background-color: #FEFEFF\">portfolio</span> <span style=\"background-color: #FEFEFF\">selling</span> <span style=\"background-color: #FFF8F8\">into</span> <span style=\"background-color: #FFFEFE\">lead</span> <span style=\"background-color: #FFFEFE\">intensive</span> <span style=\"background-color: #FFFEFE\">care</span> <span style=\"background-color: #E8E8FF\">nurse</span> <span style=\"background-color: #FFFEFE\">specialists</span> <span style=\"background-color: #FFFAFA\">,</span> <span style=\"background-color: #FFF6F6\">ward</span> <span style=\"background-color: #FFFCFC\">managers</span> <span style=\"background-color: #FFE2E2\">,</span> <span style=\"background-color: #EAEAFF\">iv</span> <span style=\"background-color: #E8E8FF\">teams</span> <span style=\"background-color: #FFFCFC\">,</span> <span style=\"background-color: #FFFEFE\">infection</span> <span style=\"background-color: #F0F0FF\">control</span> <span style=\"background-color: #9898FF\">teams</span> <span style=\"background-color: #9898FF\">,</span> <span style=\"background-color: #FFFEFE\">procurement</span> <span style=\"background-color: #FFFEFE\">sales</span> <span style=\"background-color: #FFF4F4\">specialist</span> <span style=\"background-color: #FFFEFE\">iv</span> <span style=\"background-color: #FFFEFE\">access</span> <span style=\"background-color: #FFFEFE\">and</span> <span style=\"background-color: #FFFEFE\">infusion</span> <span style=\"background-color: #FFFEFE\">candidates</span> <span style=\"background-color: #FEFEFF\">must</span> <span style=\"background-color: #F8F8FF\">be</span> <span style=\"background-color: #F8F8FF\">eligible</span> <span style=\"background-color: #FFF8F8\">to</span> <span style=\"background-color: #FFFEFE\">work</span> <span style=\"background-color: #CCCCFF\">and</span> <span style=\"background-color: #FAFAFF\">live</span> <span style=\"background-color: #FFF8F8\">in</span> <span style=\"background-color: #FFFEFE\">the</span> <span style=\"background-color: #FFFEFE\">uk</span> <span style=\"background-color: #DCDCFF\">.</span> <span style=\"background-color: #CECEFF\">please</span> <span style=\"background-color: #D6D6FF\">contact</span> <span style=\"background-color: #FFFEFE\">allan</span> <span style=\"background-color: #FFFEFE\">waller</span> <span style=\"background-color: #FFFEFE\">on</span> <span style=\"background-color: #FFFEFE\">****</span> <span style=\"background-color: #FFFEFE\">****</span> <span style=\"background-color: #FFFEFE\">****</span> <span style=\"background-color: #FFFEFE\">or</span> <span style=\"background-color: #FFF2F2\">please</span> <span style=\"background-color: #FCFCFF\">hit</span> <span style=\"background-color: #FFFEFE\">the</span> <span style=\"background-color: #FFFEFE\">apply</span> <span style=\"background-color: #FFFEFE\">button</span> <span style=\"background-color: #FFFEFE\">.</span> <span style=\"background-color: #FFFEFE\">this</span> <span style=\"background-color: #FFFEFE\">job</span> <span style=\"background-color: #FFFEFE\">was</span> <span style=\"background-color: #FFFEFE\">originally</span> <span style=\"background-color: #FFFEFE\">posted</span> <span style=\"background-color: #FFFEFE\">as</span> <span style=\"background-color: #FFFEFE\">www</span> <span style=\"background-color: #FFFEFE\">.</span> <span style=\"background-color: #FFD8D8\">salestarget</span> <span style=\"background-color: #FFFEFE\">.</span> <span style=\"background-color: #FFD8D8\">co</span> <span style=\"background-color: #FFFEFE\">.</span> <span style=\"background-color: #FFFEFE\">uk</span> <span style=\"background-color: #FFFEFE\">/</span> <span style=\"background-color: #FFFEFE\">jobseeking</span> <span style=\"background-color: #FFFEFE\">/</span> <span style=\"background-color: #FFFEFE\">UNK</span> <span style=\"background-color: #FFFEFE\">****</span></p>"
            ]
          },
          "metadata": {}
        }
      ],
      "source": [
        "i = 36605\n",
        "tokens_and_weights = explain(model, data.loc[i], \"Title\")\n",
        "draw_html([(tok, weight * 5) for tok, weight in tokens_and_weights], font_style='font-size:20px;');\n",
        "\n",
        "tokens_and_weights = explain(model, data.loc[i], \"FullDescription\")\n",
        "draw_html([(tok, weight * 10) for tok, weight in tokens_and_weights]);"
      ]
    },
    {
      "cell_type": "code",
      "execution_count": 150,
      "metadata": {
        "colab": {
          "base_uri": "https://localhost:8080/",
          "height": 268
        },
        "id": "kEx8auw0aHId",
        "outputId": "62656b6e-ad07-4bb5-db7d-576ef7b230b6"
      },
      "outputs": [
        {
          "output_type": "display_data",
          "data": {
            "text/html": [
              "<p style=\"font-size:20px;\"><span style=\"background-color: #ECECFF\">film</span> <span style=\"background-color: #C6C6FF\">game</span> <span style=\"background-color: #EAEAFF\">sales</span> <span style=\"background-color: #FFF2F2\">assistant</span> <span style=\"background-color: #F8F8FF\">/</span> <span style=\"background-color: #CECEFF\">sales</span> <span style=\"background-color: #F0F0FF\">advisor</span></p>"
            ]
          },
          "metadata": {}
        },
        {
          "output_type": "display_data",
          "data": {
            "text/html": [
              "<p style=\"font-size:14px;\"><span style=\"background-color: #FAFAFF\">film</span> <span style=\"background-color: #FFDEDE\">game</span> <span style=\"background-color: #FAFAFF\">sales</span> <span style=\"background-color: #FFFEFE\">assistant</span> <span style=\"background-color: #FFFEFE\">/</span> <span style=\"background-color: #FCFCFF\">sales</span> <span style=\"background-color: #FFFEFE\">advisor</span> <span style=\"background-color: #FEFEFF\">:</span> <span style=\"background-color: #FFFEFE\">media</span> <span style=\"background-color: #FFFEFE\">/</span> <span style=\"background-color: #FFFAFA\">film</span> <span style=\"background-color: #FFFEFE\">/</span> <span style=\"background-color: #FFFEFE\">game</span> <span style=\"background-color: #FFFEFE\">sales</span> <span style=\"background-color: #FFFEFE\">UNK</span> <span style=\"background-color: #FFE2E2\">,</span> <span style=\"background-color: #FFFCFC\">nottinghamshire</span> <span style=\"background-color: #FFFEFE\">unique</span> <span style=\"background-color: #FFF6F6\">client</span> <span style=\"background-color: #FFFEFE\">solutions</span> <span style=\"background-color: #FFFEFE\">is</span> <span style=\"background-color: #EEEEFF\">a</span> <span style=\"background-color: #EEEEFF\">marketing</span> <span style=\"background-color: #EEEEFF\">and</span> <span style=\"background-color: #FEFEFF\">sales</span> <span style=\"background-color: #FFFAFA\">company</span> <span style=\"background-color: #FCFCFF\">that</span> <span style=\"background-color: #FFFAFA\">helps</span> <span style=\"background-color: #FFECEC\">companies</span> <span style=\"background-color: #FFFAFA\">increase</span> <span style=\"background-color: #FFE6E6\">their</span> <span style=\"background-color: #F6F6FF\">market</span> <span style=\"background-color: #FFFEFE\">share</span> <span style=\"background-color: #FFDCDC\">and</span> <span style=\"background-color: #FCFCFF\">brand</span> <span style=\"background-color: #FFFEFE\">awareness</span> <span style=\"background-color: #FFFEFE\">throughout</span> <span style=\"background-color: #FFFAFA\">the</span> <span style=\"background-color: #FFF4F4\">yorkshire</span> <span style=\"background-color: #FFF8F8\">nottinghamshire</span> <span style=\"background-color: #FFFEFE\">regions</span> <span style=\"background-color: #FFBEBE\">.</span> <span style=\"background-color: #FFFAFA\">we</span> <span style=\"background-color: #FFFAFA\">recently</span> <span style=\"background-color: #FFF4F4\">started</span> <span style=\"background-color: #DCDCFF\">a</span> <span style=\"background-color: #DADAFF\">campaign</span> <span style=\"background-color: #D8D8FF\">for</span> <span style=\"background-color: #FFFEFE\">lovefilm</span> <span style=\"background-color: #FAFAFF\">and</span> <span style=\"background-color: #F8F8FF\">we</span> <span style=\"background-color: #FAFAFF\">need</span> <span style=\"background-color: #FFFEFE\">to</span> <span style=\"background-color: #FFFEFE\">grow</span> <span style=\"background-color: #FFFEFE\">quickly</span> <span style=\"background-color: #FFFEFE\">to</span> <span style=\"background-color: #FAFAFF\">keep</span> <span style=\"background-color: #FAFAFF\">up</span> <span style=\"background-color: #FFFCFC\">with</span> <span style=\"background-color: #FFFEFE\">their</span> <span style=\"background-color: #FFFEFE\">demand</span> <span style=\"background-color: #FFFEFE\">.</span> <span style=\"background-color: #FFFEFE\">we</span> <span style=\"background-color: #FFFEFE\">re</span> <span style=\"background-color: #FFFEFE\">looking</span> <span style=\"background-color: #FFFEFE\">to</span> <span style=\"background-color: #FFFEFE\">branch</span> <span style=\"background-color: #FFFEFE\">out</span> <span style=\"background-color: #FFF8F8\">into</span> <span style=\"background-color: #FFFEFE\">new</span> <span style=\"background-color: #FFFEFE\">markets</span> <span style=\"background-color: #FFFEFE\">before</span> <span style=\"background-color: #FFFEFE\">the</span> <span style=\"background-color: #FFCCCC\">end</span> <span style=\"background-color: #F8F8FF\">of</span> <span style=\"background-color: #FFEAEA\">the</span> <span style=\"background-color: #FFFEFE\">year</span> <span style=\"background-color: #FFFEFE\">,</span> <span style=\"background-color: #FFFEFE\">and</span> <span style=\"background-color: #FFFEFE\">we</span> <span style=\"background-color: #FFFEFE\">re</span> <span style=\"background-color: #FFFEFE\">currently</span> <span style=\"background-color: #FFFEFE\">planning</span> <span style=\"background-color: #FFF6F6\">our</span> <span style=\"background-color: #FFFEFE\">expansion</span> <span style=\"background-color: #FFFEFE\">to</span> <span style=\"background-color: #FFFEFE\">the</span> <span style=\"background-color: #FFFEFE\">netherlands</span> <span style=\"background-color: #FFEEEE\">in</span> <span style=\"background-color: #FFFEFE\">early</span> <span style=\"background-color: #FFFEFE\">2013</span> <span style=\"background-color: #FFFEFE\">,</span> <span style=\"background-color: #FFFEFE\">so</span> <span style=\"background-color: #FEFEFF\">there</span> <span style=\"background-color: #FFFEFE\">will</span> <span style=\"background-color: #FFFEFE\">be</span> <span style=\"background-color: #FFF4F4\">growth</span> <span style=\"background-color: #FFFEFE\">and</span> <span style=\"background-color: #F8F8FF\">travel</span> <span style=\"background-color: #F8F8FF\">opportunities</span> <span style=\"background-color: #FFE8E8\">too</span> <span style=\"background-color: #FFF2F2\">we</span> <span style=\"background-color: #FFFEFE\">currently</span> <span style=\"background-color: #FFFEFE\">have</span> <span style=\"background-color: #FFFEFE\">multiple</span> <span style=\"background-color: #FFFEFE\">openings</span> <span style=\"background-color: #FFFEFE\">in</span> <span style=\"background-color: #FFFEFE\">nottingham</span> <span style=\"background-color: #FFFEFE\">for</span> <span style=\"background-color: #FFFCFC\">people</span> <span style=\"background-color: #FFFEFE\">with</span> <span style=\"background-color: #FFFEFE\">above</span> <span style=\"background-color: #FFFEFE\">average</span> <span style=\"background-color: #FFFEFE\">sales</span> <span style=\"background-color: #FFFEFE\">or</span> <span style=\"background-color: #FFFEFE\">customer</span> <span style=\"background-color: #FFFEFE\">service</span> <span style=\"background-color: #FFFEFE\">skills</span> <span style=\"background-color: #FFDADA\">that</span> <span style=\"background-color: #FFC8C8\">are</span> <span style=\"background-color: #FFDCDC\">interested</span> <span style=\"background-color: #FFFCFC\">in</span> <span style=\"background-color: #FEFEFF\">:</span> <span style=\"background-color: #F3F3FF\">marketing</span> <span style=\"background-color: #F3F3FF\">/</span> <span style=\"background-color: #F3F3FF\">brand</span> <span style=\"background-color: #FFFEFE\">management</span> <span style=\"background-color: #FFFCFC\">sales</span> <span style=\"background-color: #FEFEFF\">/</span> <span style=\"background-color: #FFF8F8\">account</span> <span style=\"background-color: #FEFEFF\">management</span> <span style=\"background-color: #FFF4F4\">customer</span> <span style=\"background-color: #FFF2F2\">service</span> <span style=\"background-color: #FFFEFE\">/</span> <span style=\"background-color: #FFE4E4\">client</span> <span style=\"background-color: #FAFAFF\">relations</span> <span style=\"background-color: #FEFEFF\">business</span> <span style=\"background-color: #FFF0F0\">development</span> <span style=\"background-color: #F2F2FF\">/</span> <span style=\"background-color: #DEDEFF\">management</span> <span style=\"background-color: #E6E6FF\">we</span> <span style=\"background-color: #FFFAFA\">acquire</span> <span style=\"background-color: #FFFEFE\">new</span> <span style=\"background-color: #FFFEFE\">customers</span> <span style=\"background-color: #FFF6F6\">for</span> <span style=\"background-color: #EEEEFF\">our</span> <span style=\"background-color: #F6F6FF\">client</span> <span style=\"background-color: #EAEAFF\">by</span> <span style=\"background-color: #F0F0FF\">meeting</span> <span style=\"background-color: #F0F0FF\">potential</span> <span style=\"background-color: #FFFEFE\">customers</span> <span style=\"background-color: #FEFEFF\">facetoface</span> <span style=\"background-color: #FEFEFF\">where</span> <span style=\"background-color: #FFEAEA\">they</span> <span style=\"background-color: #FFE2E2\">live</span> <span style=\"background-color: #FFE8E8\">so</span> <span style=\"background-color: #FFFEFE\">we</span> <span style=\"background-color: #FFFEFE\">can</span> <span style=\"background-color: #FFFEFE\">keep</span> <span style=\"background-color: #F2F2FF\">track</span> <span style=\"background-color: #F2F2FF\">of</span> <span style=\"background-color: #F6F6FF\">geographic</span> <span style=\"background-color: #FFFEFE\">and</span> <span style=\"background-color: #F6F6FF\">demographic</span> <span style=\"background-color: #FFF4F4\">statistics</span> <span style=\"background-color: #EEEEFF\">for</span> <span style=\"background-color: #FFFEFE\">our</span> <span style=\"background-color: #FFFEFE\">client</span> <span style=\"background-color: #FFFEFE\">.</span> <span style=\"background-color: #FFF0F0\">no</span> <span style=\"background-color: #FFE0E0\">sales</span> <span style=\"background-color: #FFF0F0\">experience</span> <span style=\"background-color: #FFFEFE\">is</span> <span style=\"background-color: #ECECFF\">required</span> <span style=\"background-color: #FFF4F4\">because</span> <span style=\"background-color: #ECECFF\">we</span> <span style=\"background-color: #FFFEFE\">offer</span> <span style=\"background-color: #FFFEFE\">daily</span> <span style=\"background-color: #FFFEFE\">producttraining</span> <span style=\"background-color: #FFFEFE\">workshops</span> <span style=\"background-color: #FFFEFE\">.</span> <span style=\"background-color: #FFF6F6\">previous</span> <span style=\"background-color: #FFFEFE\">experience</span> <span style=\"background-color: #FFFEFE\">involving</span> <span style=\"background-color: #FFFEFE\">customer</span> <span style=\"background-color: #FFFEFE\">interaction</span> <span style=\"background-color: #FFCCCC\">(</span> <span style=\"background-color: #FFF0F0\">such</span> <span style=\"background-color: #FFFEFE\">as</span> <span style=\"background-color: #FFFEFE\">retail</span> <span style=\"background-color: #FEFEFF\">sales</span> <span style=\"background-color: #FFECEC\">,</span> <span style=\"background-color: #FFECEC\">customer</span> <span style=\"background-color: #FFECEC\">service</span> <span style=\"background-color: #FFE8E8\">,</span> <span style=\"background-color: #FFFEFE\">waiting</span> <span style=\"background-color: #FFFEFE\">,</span> <span style=\"background-color: #FFFEFE\">bar</span> <span style=\"background-color: #FFFEFE\">work</span> <span style=\"background-color: #D8D8FF\">,</span> <span style=\"background-color: #FFFEFE\">etc</span> <span style=\"background-color: #FFFEFE\">.)</span> <span style=\"background-color: #FFFEFE\">can</span> <span style=\"background-color: #FFFCFC\">be</span> <span style=\"background-color: #FFFEFE\">beneficial</span> <span style=\"background-color: #FFE0E0\">,</span> <span style=\"background-color: #FFE2E2\">but</span> <span style=\"background-color: #FFFEFE\">we</span> <span style=\"background-color: #FFFEFE\">'</span> <span style=\"background-color: #FFF6F6\">re</span> <span style=\"background-color: #FFFEFE\">simply</span> <span style=\"background-color: #FFF2F2\">looking</span> <span style=\"background-color: #FFFEFE\">for</span> <span style=\"background-color: #F2F2FF\">people</span> <span style=\"background-color: #FFFCFC\">that</span> <span style=\"background-color: #FFFCFC\">:</span> <span style=\"background-color: #FFFCFC\">are</span> <span style=\"background-color: #FFFEFE\">over</span> <span style=\"background-color: #FFFEFE\">18</span> <span style=\"background-color: #FFFEFE\">years</span> <span style=\"background-color: #FFFEFE\">of</span> <span style=\"background-color: #FFE4E4\">age</span> <span style=\"background-color: #FEFEFF\">and</span> <span style=\"background-color: #FEFEFF\">eligible</span> <span style=\"background-color: #FFECEC\">to</span> <span style=\"background-color: #FFECEC\">work</span> <span style=\"background-color: #E0E0FF\">in</span> <span style=\"background-color: #FEFEFF\">the</span> <span style=\"background-color: #F6F6FF\">uk</span> <span style=\"background-color: #F6F6FF\">can</span> <span style=\"background-color: #FFF8F8\">commute</span> <span style=\"background-color: #FFFEFE\">to</span> <span style=\"background-color: #FFFEFE\">nottingham</span> <span style=\"background-color: #FEFEFF\">city</span> <span style=\"background-color: #FFFEFE\">centre</span> <span style=\"background-color: #FFFEFE\">each</span> <span style=\"background-color: #FFFEFE\">day</span> <span style=\"background-color: #FFFEFE\">are</span> <span style=\"background-color: #FFF8F8\">driven</span> <span style=\"background-color: #FFE0E0\">to</span> <span style=\"background-color: #FFFEFE\">achieve</span> <span style=\"background-color: #FFFEFE\">success</span> <span style=\"background-color: #FFFEFE\">and</span> <span style=\"background-color: #FFFEFE\">willing</span> <span style=\"background-color: #FFFEFE\">to</span> <span style=\"background-color: #FFEEEE\">work</span> <span style=\"background-color: #DCDCFF\">hard</span> <span style=\"background-color: #E8E8FF\">have</span> <span style=\"background-color: #FFFEFE\">a</span> <span style=\"background-color: #FFFEFE\">positive</span> <span style=\"background-color: #FFFEFE\">attitude</span> <span style=\"background-color: #FFEEEE\">and</span> <span style=\"background-color: #FFFCFC\">enjoy</span> <span style=\"background-color: #FFFEFE\">speaking</span> <span style=\"background-color: #FFFEFE\">with</span> <span style=\"background-color: #FFFEFE\">customers</span> <span style=\"background-color: #FFF6F6\">want</span> <span style=\"background-color: #FFFEFE\">an</span> <span style=\"background-color: #FFFEFE\">opportunity</span> <span style=\"background-color: #FFFEFE\">to</span> <span style=\"background-color: #FFFEFE\">grow</span> <span style=\"background-color: #FFFEFE\">personally</span> <span style=\"background-color: #FFE2E2\">and</span> <span style=\"background-color: #FFFEFE\">professionally</span> <span style=\"background-color: #FFC6C6\">in</span> <span style=\"background-color: #FFD8D8\">an</span> <span style=\"background-color: #F6F6FF\">effort</span> <span style=\"background-color: #F8F8FF\">to</span> <span style=\"background-color: #FEFEFF\">find</span> <span style=\"background-color: #FFFEFE\">the</span> <span style=\"background-color: #FFFEFE\">right</span> <span style=\"background-color: #FFFEFE\">people</span> <span style=\"background-color: #FFFEFE\">to</span> <span style=\"background-color: #FEFEFF\">represent</span> <span style=\"background-color: #FFEAEA\">our</span> <span style=\"background-color: #FFFCFC\">clients</span> <span style=\"background-color: #FFFEFE\">and</span> <span style=\"background-color: #FFFEFE\">help</span> <span style=\"background-color: #FAFAFF\">expand</span> <span style=\"background-color: #FAFAFF\">our</span> <span style=\"background-color: #FFFAFA\">industry</span> <span style=\"background-color: #FFFEFE\">,</span> <span style=\"background-color: #FFFCFC\">we</span> <span style=\"background-color: #FFFEFE\">routinely</span> <span style=\"background-color: #FFFEFE\">invite</span> <span style=\"background-color: #FFFEFE\">people</span> <span style=\"background-color: #FFFEFE\">to</span> <span style=\"background-color: #FFFEFE\">spend</span> <span style=\"background-color: #FFFEFE\">a</span> <span style=\"background-color: #FFFEFE\">full</span> <span style=\"background-color: #FFFEFE\">day</span> <span style=\"background-color: #FFD2D2\">in</span> <span style=\"background-color: #FFFEFE\">the</span> <span style=\"background-color: #FEFEFF\">field</span> <span style=\"background-color: #FEFEFF\">observing</span> <span style=\"background-color: #FFFEFE\">our</span> <span style=\"background-color: #FFFEFE\">operations</span> <span style=\"background-color: #FFFEFE\">.</span> <span style=\"background-color: #FFFEFE\">the</span> <span style=\"background-color: #FEFEFF\">day</span> <span style=\"background-color: #FFFCFC\">is</span> <span style=\"background-color: #FEFEFF\">designed</span> <span style=\"background-color: #FFFEFE\">to</span> <span style=\"background-color: #FFFEFE\">help</span> <span style=\"background-color: #FFFEFE\">the</span> <span style=\"background-color: #FFFEFE\">decisionmaking</span> <span style=\"background-color: #FFFEFE\">process</span> <span style=\"background-color: #FFFEFE\">and</span> <span style=\"background-color: #FFFEFE\">participants</span> <span style=\"background-color: #FFFEFE\">do</span> <span style=\"background-color: #FFFEFE\">not</span> <span style=\"background-color: #E2E2FF\">receive</span> <span style=\"background-color: #F0F0FF\">compensation</span> <span style=\"background-color: #E3E3FF\">,</span> <span style=\"background-color: #FFF8F8\">but</span> <span style=\"background-color: #FFFEFE\">they</span> <span style=\"background-color: #FFF2F2\">get</span> <span style=\"background-color: #FFE4E4\">a</span> <span style=\"background-color: #FFFAFA\">chance</span> <span style=\"background-color: #FFFCFC\">to</span> <span style=\"background-color: #FFFEFE\">see</span> <span style=\"background-color: #FFFEFE\">if</span> <span style=\"background-color: #FFF2F2\">the</span> <span style=\"background-color: #FFFEFE\">opening</span> <span style=\"background-color: #FFFEFE\">is</span> <span style=\"background-color: #FFE8E8\">best</span> <span style=\"background-color: #FFFEFE\">for</span> <span style=\"background-color: #FEFEFF\">them</span> <span style=\"background-color: #FFFEFE\">.</span> <span style=\"background-color: #FFFEFE\">we</span> <span style=\"background-color: #FFFEFE\">operate</span> <span style=\"background-color: #FFD8D8\">in</span> <span style=\"background-color: #FFFEFE\">a</span> <span style=\"background-color: #F6F6FF\">performancebased</span> <span style=\"background-color: #FFFEFE\">industry</span> <span style=\"background-color: #FFFEFE\">and</span> <span style=\"background-color: #FFFEFE\">therefore</span> <span style=\"background-color: #FFFAFA\">growth</span> <span style=\"background-color: #FAFAFF\">opportunities</span> <span style=\"background-color: #FAFAFF\">and</span> <span style=\"background-color: #FFFEFE\">individual</span> <span style=\"background-color: #FFFEFE\">earnings</span> <span style=\"background-color: #FFFEFE\">will</span> <span style=\"background-color: #FFD2D2\">also</span> <span style=\"background-color: #FFE0E0\">be</span> <span style=\"background-color: #FFDEDE\">resultbased</span> <span style=\"background-color: #FFFCFC\">.</span> <span style=\"background-color: #FFFCFC\">please</span> <span style=\"background-color: #FFFCFC\">send</span> <span style=\"background-color: #FFECEC\">your</span> <span style=\"background-color: #FFFCFC\">cv</span> <span style=\"background-color: #FFFEFE\">through</span> <span style=\"background-color: #FFFEFE\">the</span> <span style=\"background-color: #FEFEFF\">online</span> <span style=\"background-color: #FFF6F6\">application</span> <span style=\"background-color: #F3F3FF\">process</span> <span style=\"background-color: #F3F3FF\">for</span> <span style=\"background-color: #FFFEFE\">consideration</span> <span style=\"background-color: #FFFEFE\">.</span> <span style=\"background-color: #FFFEFE\">if</span> <span style=\"background-color: #FFEAEA\">your</span> <span style=\"background-color: #FCFCFF\">cv</span> <span style=\"background-color: #FCFCFF\">is</span> <span style=\"background-color: #F8F8FF\">successful</span> <span style=\"background-color: #F8F8FF\">,</span> <span style=\"background-color: #FFE4E4\">we</span> <span style=\"background-color: #FFFEFE\">will</span> <span style=\"background-color: #FFFEFE\">notify</span> <span style=\"background-color: #FFFAFA\">you</span> <span style=\"background-color: #FFFAFA\">straight</span> <span style=\"background-color: #FCFCFF\">away</span> <span style=\"background-color: #FFCECE\">via</span> <span style=\"background-color: #FFEAEA\">email</span> <span style=\"background-color: #FFC6C6\">or</span> <span style=\"background-color: #FFFEFE\">phone</span> <span style=\"background-color: #FFF6F6\">,</span> <span style=\"background-color: #FFFEFE\">so</span> <span style=\"background-color: #FEFEFF\">please</span> <span style=\"background-color: #FFFCFC\">be</span> <span style=\"background-color: #FFFEFE\">sure</span> <span style=\"background-color: #FFFEFE\">your</span> <span style=\"background-color: #FFFEFE\">contact</span> <span style=\"background-color: #FFF6F6\">details</span> <span style=\"background-color: #F3F3FF\">are</span> <span style=\"background-color: #FFFEFE\">provided</span> <span style=\"background-color: #FFEEEE\">.</span> <span style=\"background-color: #E8E8FF\">thanks</span> <span style=\"background-color: #C3C3FF\">for</span> <span style=\"background-color: #D2D2FF\">your</span> <span style=\"background-color: #FEFEFF\">interest</span> <span style=\"background-color: #FEFEFF\">in</span> <span style=\"background-color: #FFFEFE\">unique</span> <span style=\"background-color: #FFF6F6\">client</span> <span style=\"background-color: #FFFEFE\">solutions</span> <span style=\"background-color: #FFFEFE\">.</span> <span style=\"background-color: #FEFEFF\">we</span> <span style=\"background-color: #FFFCFC\">look</span> <span style=\"background-color: #FFE8E8\">forward</span> <span style=\"background-color: #FFFEFE\">to</span> <span style=\"background-color: #FFFEFE\">hearing</span> <span style=\"background-color: #FFFEFE\">from</span> <span style=\"background-color: #FFFEFE\">you</span></p>"
            ]
          },
          "metadata": {}
        }
      ],
      "source": [
        "i = 11177\n",
        "tokens_and_weights = explain(model, data.loc[i], \"Title\")\n",
        "draw_html([(tok, weight * 5) for tok, weight in tokens_and_weights], font_style='font-size:20px;');\n",
        "\n",
        "tokens_and_weights = explain(model, data.loc[i], \"FullDescription\")\n",
        "draw_html([(tok, weight * 10) for tok, weight in tokens_and_weights]);"
      ]
    },
    {
      "cell_type": "code",
      "execution_count": 148,
      "metadata": {
        "colab": {
          "base_uri": "https://localhost:8080/",
          "height": 303
        },
        "id": "V_1WsNdMaHIe",
        "outputId": "87d29f52-7698-4052-b832-449b49f42161"
      },
      "outputs": [
        {
          "output_type": "stream",
          "name": "stdout",
          "text": [
            "Index: 194497\n",
            "Salary (gbp): tensor([35117.5938])\n"
          ]
        },
        {
          "output_type": "display_data",
          "data": {
            "text/html": [
              "<p style=\"font-size:20px;\"><span style=\"background-color: #FAFAFF\">net</span> <span style=\"background-color: #FAFAFF\">developer</span> <span style=\"background-color: #FFE2E2\">/</span> <span style=\"background-color: #FFC6C6\">c</span> <span style=\"background-color: #FFF8F8\">developer</span> <span style=\"background-color: #A3A3FF\">renowned</span> <span style=\"background-color: #E2E2FF\">online</span> <span style=\"background-color: #FFFAFA\">retailer</span> <span style=\"background-color: #FFF8F8\">perm</span> <span style=\"background-color: #FFEEEE\">london</span> <span style=\"background-color: #F2F2FF\">,</span> <span style=\"background-color: #F3F3FF\">****</span> <span style=\"background-color: #F8F8FF\">k</span> <span style=\"background-color: #E2E2FF\">****</span> <span style=\"background-color: #FFFCFC\">k</span></p>"
            ]
          },
          "metadata": {}
        },
        {
          "output_type": "display_data",
          "data": {
            "text/html": [
              "<p style=\"font-size:14px;\"><span style=\"background-color: #FFF2F2\">.</span> <span style=\"background-color: #FFFEFE\">net</span> <span style=\"background-color: #FFE6E6\">developer</span> <span style=\"background-color: #FFFEFE\">/</span> <span style=\"background-color: #FFFEFE\">c</span> <span style=\"background-color: #FEFEFF\">developer</span> <span style=\"background-color: #FFF0F0\">my</span> <span style=\"background-color: #FFFEFE\">client</span> <span style=\"background-color: #FFFEFE\">a</span> <span style=\"background-color: #FEFEFF\">very</span> <span style=\"background-color: #FFCCCC\">successful</span> <span style=\"background-color: #FFEEEE\">online</span> <span style=\"background-color: #FFF4F4\">retailer</span> <span style=\"background-color: #F8F8FF\">,</span> <span style=\"background-color: #FFFEFE\">is</span> <span style=\"background-color: #FFFEFE\">looking</span> <span style=\"background-color: #FFFEFE\">for</span> <span style=\"background-color: #FFFEFE\">a</span> <span style=\"background-color: #FFF2F2\">.</span> <span style=\"background-color: #FFFEFE\">net</span> <span style=\"background-color: #FFE6E6\">developer</span> <span style=\"background-color: #FFFEFE\">/</span> <span style=\"background-color: #FFFEFE\">c</span> <span style=\"background-color: #FFFEFE\">developer</span> <span style=\"background-color: #FFF6F6\">who</span> <span style=\"background-color: #FFDEDE\">is</span> <span style=\"background-color: #FFFCFC\">passionate</span> <span style=\"background-color: #F3F3FF\">about</span> <span style=\"background-color: #F3F3FF\">delivering</span> <span style=\"background-color: #FCFCFF\">successful</span> <span style=\"background-color: #FFFEFE\">it</span> <span style=\"background-color: #FFFEFE\">solutions</span> <span style=\"background-color: #FFFEFE\">and</span> <span style=\"background-color: #FFFEFE\">keen</span> <span style=\"background-color: #FFFEFE\">to</span> <span style=\"background-color: #EEEEFF\">cut</span> <span style=\"background-color: #EEEEFF\">their</span> <span style=\"background-color: #F2F2FF\">teeth</span> <span style=\"background-color: #FFFEFE\">in</span> <span style=\"background-color: #E3E3FF\">a</span> <span style=\"background-color: #E3E3FF\">large</span> <span style=\"background-color: #FFEAEA\">software</span> <span style=\"background-color: #FFFEFE\">development</span> <span style=\"background-color: #FFFEFE\">team</span> <span style=\"background-color: #FFFEFE\">.</span> <span style=\"background-color: #FEFEFF\">this</span> <span style=\"background-color: #FFFEFE\">is</span> <span style=\"background-color: #FFFAFA\">a</span> <span style=\"background-color: #FFFEFE\">great</span> <span style=\"background-color: #FFFEFE\">opportunity</span> <span style=\"background-color: #FFFEFE\">to</span> <span style=\"background-color: #FEFEFF\">join</span> <span style=\"background-color: #FFF2F2\">a</span> <span style=\"background-color: #FFFEFE\">growing</span> <span style=\"background-color: #FFF4F4\">and</span> <span style=\"background-color: #FFFEFE\">vibrant</span> <span style=\"background-color: #FFFEFE\">team</span> <span style=\"background-color: #FFFEFE\">in</span> <span style=\"background-color: #F8F8FF\">the</span> <span style=\"background-color: #F8F8FF\">fastpaced</span> <span style=\"background-color: #F3F3FF\">world</span> <span style=\"background-color: #FCFCFF\">of</span> <span style=\"background-color: #FFFCFC\">retail</span> <span style=\"background-color: #FFFEFE\">and</span> <span style=\"background-color: #FFFAFA\">ecommerce</span> <span style=\"background-color: #FCFCFF\">.</span> <span style=\"background-color: #FCFCFF\">experience</span> <span style=\"background-color: #FFFCFC\">as</span> <span style=\"background-color: #FFFEFE\">a</span> <span style=\"background-color: #FFF2F2\">.</span> <span style=\"background-color: #FFFEFE\">net</span> <span style=\"background-color: #FFE6E6\">developer</span> <span style=\"background-color: #FFFEFE\">/</span> <span style=\"background-color: #FFFEFE\">c</span> <span style=\"background-color: #FFFEFE\">developer</span> <span style=\"background-color: #FFF2F2\">experience</span> <span style=\"background-color: #FFFEFE\">in</span> <span style=\"background-color: #FFFEFE\">developing</span> <span style=\"background-color: #FFE2E2\">applications</span> <span style=\"background-color: #FCFCFF\">using</span> <span style=\"background-color: #FCFCFF\">microsoft</span> <span style=\"background-color: #FFD8D8\">.</span> <span style=\"background-color: #FFFEFE\">net</span> <span style=\"background-color: #FFF2F2\">is</span> <span style=\"background-color: #FFF2F2\">essential</span> <span style=\"background-color: #FFF6F6\">proven</span> <span style=\"background-color: #FEFEFF\">track</span> <span style=\"background-color: #FFFEFE\">record</span> <span style=\"background-color: #FFFEFE\">of</span> <span style=\"background-color: #FFFEFE\">commercial</span> <span style=\"background-color: #FFDEDE\">software</span> <span style=\"background-color: #FAFAFF\">development</span> <span style=\"background-color: #FFE2E2\">experience</span> <span style=\"background-color: #FEFEFF\">using</span> <span style=\"background-color: #FFFEFE\">microsoft</span> <span style=\"background-color: #FFDCDC\">.</span> <span style=\"background-color: #FFFEFE\">net</span> <span style=\"background-color: #FFE6E6\">and</span> <span style=\"background-color: #FFFEFE\">/</span> <span style=\"background-color: #FFFEFE\">c</span> <span style=\"background-color: #FFEEEE\">.</span> <span style=\"background-color: #FFE2E2\">net</span> <span style=\"background-color: #FFF2F2\">/</span> <span style=\"background-color: #FFFEFE\">asp</span> <span style=\"background-color: #FFF2F2\">.</span> <span style=\"background-color: #FFFEFE\">net</span> <span style=\"background-color: #FFEAEA\">knowledge</span> <span style=\"background-color: #FFDCDC\">of</span> <span style=\"background-color: #DEDEFF\">object</span> <span style=\"background-color: #E0E0FF\">orientated</span> <span style=\"background-color: #FFFEFE\">analysis</span> <span style=\"background-color: #FFFEFE\">and</span> <span style=\"background-color: #FFFEFE\">design</span> <span style=\"background-color: #FFDEDE\">,</span> <span style=\"background-color: #FFFEFE\">uml</span> <span style=\"background-color: #E2E2FF\">and</span> <span style=\"background-color: #BEBEFF\">design</span> <span style=\"background-color: #C0C0FF\">patterns</span> <span style=\"background-color: #FFFEFE\">.</span> <span style=\"background-color: #F0F0FF\">proven</span> <span style=\"background-color: #FFFEFE\">track</span> <span style=\"background-color: #FFFEFE\">record</span> <span style=\"background-color: #FFFCFC\">of</span> <span style=\"background-color: #FFF8F8\">commercial</span> <span style=\"background-color: #FFFEFE\">experience</span> <span style=\"background-color: #FFF8F8\">using</span> <span style=\"background-color: #FFFEFE\">sql</span> <span style=\"background-color: #FFFEFE\">server</span> <span style=\"background-color: #FFFEFE\">and</span> <span style=\"background-color: #FFFEFE\">tsql</span> <span style=\"background-color: #FFE6E6\">a</span> <span style=\"background-color: #FFFEFE\">good</span> <span style=\"background-color: #FF9696\">understanding</span> <span style=\"background-color: #E3E3FF\">of</span> <span style=\"background-color: #FFE2E2\">the</span> <span style=\"background-color: #FFFCFC\">principles</span> <span style=\"background-color: #C8C8FF\">of</span> <span style=\"background-color: #F3F3FF\">database</span> <span style=\"background-color: #D8D8FF\">design</span> <span style=\"background-color: #FAFAFF\">and</span> <span style=\"background-color: #FAFAFF\">the</span> <span style=\"background-color: #FFFEFE\">associated</span> <span style=\"background-color: #FCFCFF\">challenges</span> <span style=\"background-color: #F6F6FF\">.</span> <span style=\"background-color: #FFFEFE\">competent</span> <span style=\"background-color: #FFFEFE\">in</span> <span style=\"background-color: #FFFEFE\">the</span> <span style=\"background-color: #FFE0E0\">use</span> <span style=\"background-color: #FAFAFF\">of</span> <span style=\"background-color: #FAFAFF\">ms</span> <span style=\"background-color: #FFEEEE\">word</span> <span style=\"background-color: #FFE8E8\">,</span> <span style=\"background-color: #FFF2F2\">ms</span> <span style=\"background-color: #FFEEEE\">excel</span> <span style=\"background-color: #FFFCFC\">and</span> <span style=\"background-color: #FFFAFA\">visio</span> <span style=\"background-color: #FFF2F2\">.</span> <span style=\"background-color: #FFF0F0\">microsoft</span> <span style=\"background-color: #FFE2E2\">mvc</span> <span style=\"background-color: #FFF2F2\">experience</span> <span style=\"background-color: #FFFEFE\">is</span> <span style=\"background-color: #FFFEFE\">highly</span> <span style=\"background-color: #FFFCFC\">desirable</span> <span style=\"background-color: #FFFCFC\">asp</span> <span style=\"background-color: #FFD8D8\">.</span> <span style=\"background-color: #FFEEEE\">net</span> <span style=\"background-color: #FFF2F2\">experience</span> <span style=\"background-color: #FFF8F8\">responsibilities</span> <span style=\"background-color: #CCCCFF\">and</span> <span style=\"background-color: #FFD0D0\">duties</span> <span style=\"background-color: #C8C8FF\">as</span> <span style=\"background-color: #FFF6F6\">a</span> <span style=\"background-color: #FFF2F2\">.</span> <span style=\"background-color: #FFFEFE\">net</span> <span style=\"background-color: #FFE6E6\">developer</span> <span style=\"background-color: #FFFEFE\">/</span> <span style=\"background-color: #FFFEFE\">c</span> <span style=\"background-color: #FFFEFE\">developer</span> <span style=\"background-color: #FFFEFE\">interpret</span> <span style=\"background-color: #FFFAFA\">written</span> <span style=\"background-color: #FFFAFA\">business</span> <span style=\"background-color: #FEFEFF\">requirements</span> <span style=\"background-color: #FFFEFE\">and</span> <span style=\"background-color: #FFFEFE\">specification</span> <span style=\"background-color: #FFFEFE\">documents</span> <span style=\"background-color: #FFFEFE\">.</span> <span style=\"background-color: #FFFEFE\">perform</span> <span style=\"background-color: #FFFEFE\">coding</span> <span style=\"background-color: #FFFCFC\">specifications</span> <span style=\"background-color: #FFFCFC\">.</span> <span style=\"background-color: #FFFCFC\">investigate</span> <span style=\"background-color: #FFFEFE\">,</span> <span style=\"background-color: #FFFEFE\">analyse</span> <span style=\"background-color: #FFFEFE\">and</span> <span style=\"background-color: #FFFEFE\">document</span> <span style=\"background-color: #FFEAEA\">reported</span> <span style=\"background-color: #FFFEFE\">system</span> <span style=\"background-color: #FFFEFE\">defects</span> <span style=\"background-color: #FCFCFF\">perform</span> <span style=\"background-color: #FCFCFF\">maintenance</span> <span style=\"background-color: #FCFCFF\">programming</span> <span style=\"background-color: #FFFEFE\">and</span> <span style=\"background-color: #FFFAFA\">correction</span> <span style=\"background-color: #FFFEFE\">of</span> <span style=\"background-color: #FFEAEA\">identified</span> <span style=\"background-color: #FFFEFE\">system</span> <span style=\"background-color: #FFFEFE\">defects</span> <span style=\"background-color: #FFFCFC\">create</span> <span style=\"background-color: #FFFEFE\">,</span> <span style=\"background-color: #FFFEFE\">document</span> <span style=\"background-color: #FFFEFE\">,</span> <span style=\"background-color: #FFFEFE\">and</span> <span style=\"background-color: #FFFCFC\">implement</span> <span style=\"background-color: #FFFEFE\">unit</span> <span style=\"background-color: #FFFEFE\">test</span> <span style=\"background-color: #FFFAFA\">plans</span> <span style=\"background-color: #FFCCCC\">,</span> <span style=\"background-color: #FFFEFE\">scripts</span> <span style=\"background-color: #FAFAFF\">,</span> <span style=\"background-color: #FFF4F4\">and</span> <span style=\"background-color: #FFE0E0\">test</span> <span style=\"background-color: #FFDEDE\">harnesses</span> <span style=\"background-color: #FFE0E0\">.</span> <span style=\"background-color: #FFF8F8\">create</span> <span style=\"background-color: #FFECEC\">and</span> <span style=\"background-color: #FEFEFF\">maintain</span> <span style=\"background-color: #FFFEFE\">technical</span> <span style=\"background-color: #E8E8FF\">documentation</span> <span style=\"background-color: #FFFEFE\">.</span> <span style=\"background-color: #FFFEFE\">engage</span> <span style=\"background-color: #FFFEFE\">in</span> <span style=\"background-color: #FFFEFE\">all</span> <span style=\"background-color: #FFBEBE\">aspects</span> <span style=\"background-color: #FFD0D0\">of</span> <span style=\"background-color: #FFE6E6\">the</span> <span style=\"background-color: #FFFEFE\">software</span> <span style=\"background-color: #FFFEFE\">development</span> <span style=\"background-color: #FFFEFE\">lifecycle</span> <span style=\"background-color: #FFFEFE\">in</span> <span style=\"background-color: #FFFEFE\">accordance</span> <span style=\"background-color: #FFCECE\">with</span> <span style=\"background-color: #FFFEFE\">commercial</span> <span style=\"background-color: #FFFAFA\">requirements</span> <span style=\"background-color: #FFFEFE\">and</span> <span style=\"background-color: #FFC3C3\">organisational</span> <span style=\"background-color: #FFFEFE\">standards</span> <span style=\"background-color: #FFFEFE\">.</span> <span style=\"background-color: #FFF8F8\">establish</span> <span style=\"background-color: #FFE6E6\">and</span> <span style=\"background-color: #FEFEFF\">maintain</span> <span style=\"background-color: #FEFEFF\">detailed</span> <span style=\"background-color: #F2F2FF\">knowledge</span> <span style=\"background-color: #FFF4F4\">of</span> <span style=\"background-color: #FFE8E8\">business</span> <span style=\"background-color: #FFE6E6\">processes</span> <span style=\"background-color: #FFFEFE\">and</span> <span style=\"background-color: #FFFEFE\">associated</span> <span style=\"background-color: #FFFEFE\">software</span> <span style=\"background-color: #FFFEFE\">applications</span> <span style=\"background-color: #FFFEFE\">(</span> <span style=\"background-color: #F0F0FF\">including</span> <span style=\"background-color: #FFFEFE\">those</span> <span style=\"background-color: #FCFCFF\">supplied</span> <span style=\"background-color: #FCFCFF\">by</span> <span style=\"background-color: #FFE6E6\">third</span> <span style=\"background-color: #FEFEFF\">parties</span> <span style=\"background-color: #FEFEFF\">),</span> <span style=\"background-color: #FAFAFF\">tools</span> <span style=\"background-color: #FFEEEE\">,</span> <span style=\"background-color: #FFFEFE\">data</span> <span style=\"background-color: #FFF8F8\">feeds</span> <span style=\"background-color: #FFF8F8\">and</span> <span style=\"background-color: #FFFEFE\">application</span> <span style=\"background-color: #FFFEFE\">interfaces</span> <span style=\"background-color: #FFFEFE\">.</span> <span style=\"background-color: #FFDADA\">perform</span> <span style=\"background-color: #FFF2F2\">project</span> <span style=\"background-color: #FFE2E2\">estimation</span> <span style=\"background-color: #FFE2E2\">,</span> <span style=\"background-color: #FFFEFE\">proofofconcept</span> <span style=\"background-color: #FFFEFE\">,</span> <span style=\"background-color: #FFFAFA\">testing</span> <span style=\"background-color: #FFFAFA\">,</span> <span style=\"background-color: #FFFCFC\">training</span> <span style=\"background-color: #FFFEFE\">,</span> <span style=\"background-color: #FFFAFA\">product</span> <span style=\"background-color: #FFFEFE\">rollout</span> <span style=\"background-color: #FFFEFE\">,</span> <span style=\"background-color: #FFFEFE\">and</span> <span style=\"background-color: #F8F8FF\">production</span> <span style=\"background-color: #FFFAFA\">support</span> <span style=\"background-color: #FFFEFE\">.</span> <span style=\"background-color: #FEFEFF\">report</span> <span style=\"background-color: #FFF6F6\">on</span> <span style=\"background-color: #FFFAFA\">progress</span> <span style=\"background-color: #FFFEFE\">and</span> <span style=\"background-color: #FFFEFE\">status</span> <span style=\"background-color: #FFEAEA\">as</span> <span style=\"background-color: #F3F3FF\">required</span> <span style=\"background-color: #FFFEFE\">to</span> <span style=\"background-color: #F3F3FF\">management</span> <span style=\"background-color: #FFFEFE\">and</span> <span style=\"background-color: #FFFEFE\">support</span> <span style=\"background-color: #FFE8E8\">maintenance</span> <span style=\"background-color: #FFFEFE\">of</span> <span style=\"background-color: #FFFEFE\">project</span> <span style=\"background-color: #FFFEFE\">plans</span> <span style=\"background-color: #FFFEFE\">.</span> <span style=\"background-color: #FFFEFE\">ensure</span> <span style=\"background-color: #FFFEFE\">project</span> <span style=\"background-color: #FFFEFE\">artifacts</span> <span style=\"background-color: #FFEAEA\">are</span> <span style=\"background-color: #FFFEFE\">complete</span> <span style=\"background-color: #FFFEFE\">and</span> <span style=\"background-color: #FFFEFE\">comprehensive</span> <span style=\"background-color: #FFFEFE\">,</span> <span style=\"background-color: #FFFEFE\">adhering</span> <span style=\"background-color: #FFFEFE\">to</span> <span style=\"background-color: #FFFEFE\">standards</span> <span style=\"background-color: #FFFEFE\">and</span> <span style=\"background-color: #A3A3FF\">guidelines</span> <span style=\"background-color: #ACACFF\">for</span> <span style=\"background-color: #B2B2FF\">project</span> <span style=\"background-color: #FFFCFC\">management</span> <span style=\"background-color: #FFF8F8\">and</span> <span style=\"background-color: #FFFEFE\">delivery</span> <span style=\"background-color: #FFFEFE\">.</span> <span style=\"background-color: #FFFEFE\">good</span> <span style=\"background-color: #FFFEFE\">experience</span> <span style=\"background-color: #FFFEFE\">in</span> <span style=\"background-color: #FFFEFE\">asp</span> <span style=\"background-color: #FFFAFA\">.</span> <span style=\"background-color: #FFFEFE\">net</span> <span style=\"background-color: #FFE0E0\">this</span> <span style=\"background-color: #FFFEFE\">is</span> <span style=\"background-color: #FFFAFA\">a</span> <span style=\"background-color: #FFFEFE\">great</span> <span style=\"background-color: #FFFEFE\">opportunity</span> <span style=\"background-color: #FFFEFE\">for</span> <span style=\"background-color: #FFFEFE\">a</span> <span style=\"background-color: #FFF2F2\">.</span> <span style=\"background-color: #FFFEFE\">net</span> <span style=\"background-color: #FFE6E6\">developer</span> <span style=\"background-color: #FFFEFE\">/</span> <span style=\"background-color: #FFFEFE\">c</span> <span style=\"background-color: #FFFEFE\">developer</span> <span style=\"background-color: #FFFEFE\">to</span> <span style=\"background-color: #FEFEFF\">join</span> <span style=\"background-color: #FFFEFE\">a</span> <span style=\"background-color: #FFDEDE\">company</span> <span style=\"background-color: #FFF6F6\">passionate</span> <span style=\"background-color: #FEFEFF\">about</span> <span style=\"background-color: #F6F6FF\">technology</span> <span style=\"background-color: #EEEEFF\">.</span> <span style=\"background-color: #FAFAFF\">asp</span> <span style=\"background-color: #FFF4F4\">.</span> <span style=\"background-color: #FFF2F2\">net</span> <span style=\"background-color: #FFF2F2\">/</span> <span style=\"background-color: #FEFEFF\">c</span> <span style=\"background-color: #FEFEFF\">/</span> <span style=\"background-color: #FFFEFE\">sql</span> <span style=\"background-color: #FFF0F0\">.</span> <span style=\"background-color: #FFFEFE\">net</span> <span style=\"background-color: #FFE6E6\">developer</span> <span style=\"background-color: #FFFEFE\">/</span> <span style=\"background-color: #FFFEFE\">c</span> <span style=\"background-color: #FFF0F0\">developer</span> <span style=\"background-color: #FFFEFE\">click</span> <span style=\"background-color: #FFFEFE\">on</span> <span style=\"background-color: #F6F6FF\">the</span> <span style=\"background-color: #FFFEFE\">apply</span> <span style=\"background-color: #FFFCFC\">button</span> <span style=\"background-color: #FFFEFE\">to</span> <span style=\"background-color: #FFFEFE\">take</span> <span style=\"background-color: #FFFEFE\">advantage</span> <span style=\"background-color: #FFFEFE\">of</span> <span style=\"background-color: #FFFEFE\">this</span> <span style=\"background-color: #FCFCFF\">opportunity</span> <span style=\"background-color: #FCFCFF\">and</span> <span style=\"background-color: #FCFCFF\">for</span> <span style=\"background-color: #FFFEFE\">the</span> <span style=\"background-color: #FFFEFE\">next</span> <span style=\"background-color: #FFFCFC\">step</span> <span style=\"background-color: #FFFAFA\">in</span> <span style=\"background-color: #FCFCFF\">your</span> <span style=\"background-color: #FFFEFE\">career</span> <span style=\"background-color: #FFFEFE\">.</span></p>"
            ]
          },
          "metadata": {}
        }
      ],
      "source": [
        "i = np.random.randint(len(data))\n",
        "print(\"Index:\", i)\n",
        "print(\"Salary (gbp):\", np.expm1(model(make_batch(data.iloc[i: i+1], device=device)).detach().cpu()))\n",
        "\n",
        "tokens_and_weights = explain(model, data.loc[i], \"Title\")\n",
        "draw_html([(tok, weight * 5) for tok, weight in tokens_and_weights], font_style='font-size:20px;');\n",
        "\n",
        "tokens_and_weights = explain(model, data.loc[i], \"FullDescription\")\n",
        "draw_html([(tok, weight * 10) for tok, weight in tokens_and_weights]);"
      ]
    },
    {
      "cell_type": "markdown",
      "metadata": {
        "id": "vtyOdittaHIe"
      },
      "source": [
        "__Terrible start-up idea #1962:__ make a tool that automaticaly rephrases your job description (or CV) to meet salary expectations :)"
      ]
    }
  ],
  "metadata": {
    "accelerator": "GPU",
    "colab": {
      "gpuType": "T4",
      "provenance": []
    },
    "kernelspec": {
      "display_name": "Python 3",
      "name": "python3"
    },
    "language_info": {
      "codemirror_mode": {
        "name": "ipython",
        "version": 3
      },
      "file_extension": ".py",
      "mimetype": "text/x-python",
      "name": "python",
      "nbconvert_exporter": "python",
      "pygments_lexer": "ipython3",
      "version": "3.8.8"
    },
    "widgets": {
      "application/vnd.jupyter.widget-state+json": {
        "aaeb3990309c4daa9151a6e9f481b669": {
          "model_module": "@jupyter-widgets/controls",
          "model_name": "HBoxModel",
          "model_module_version": "1.5.0",
          "state": {
            "_dom_classes": [],
            "_model_module": "@jupyter-widgets/controls",
            "_model_module_version": "1.5.0",
            "_model_name": "HBoxModel",
            "_view_count": null,
            "_view_module": "@jupyter-widgets/controls",
            "_view_module_version": "1.5.0",
            "_view_name": "HBoxView",
            "box_style": "",
            "children": [
              "IPY_MODEL_f250fe524e664baa8b5a26c409e4b033",
              "IPY_MODEL_466901a3b5f54d1da32a3586ca3c7b91",
              "IPY_MODEL_84f713b98f094b3784406410b1b78dcc"
            ],
            "layout": "IPY_MODEL_628c17c56b61447a8f920b547f97deff"
          }
        },
        "f250fe524e664baa8b5a26c409e4b033": {
          "model_module": "@jupyter-widgets/controls",
          "model_name": "HTMLModel",
          "model_module_version": "1.5.0",
          "state": {
            "_dom_classes": [],
            "_model_module": "@jupyter-widgets/controls",
            "_model_module_version": "1.5.0",
            "_model_name": "HTMLModel",
            "_view_count": null,
            "_view_module": "@jupyter-widgets/controls",
            "_view_module_version": "1.5.0",
            "_view_name": "HTMLView",
            "description": "",
            "description_tooltip": null,
            "layout": "IPY_MODEL_0ba395c63abf4bffa3095173c7d4158d",
            "placeholder": "​",
            "style": "IPY_MODEL_2b6514a9ffcf4261a820d4c87769c434",
            "value": ""
          }
        },
        "466901a3b5f54d1da32a3586ca3c7b91": {
          "model_module": "@jupyter-widgets/controls",
          "model_name": "FloatProgressModel",
          "model_module_version": "1.5.0",
          "state": {
            "_dom_classes": [],
            "_model_module": "@jupyter-widgets/controls",
            "_model_module_version": "1.5.0",
            "_model_name": "FloatProgressModel",
            "_view_count": null,
            "_view_module": "@jupyter-widgets/controls",
            "_view_module_version": "1.5.0",
            "_view_name": "ProgressView",
            "bar_style": "success",
            "description": "",
            "description_tooltip": null,
            "layout": "IPY_MODEL_d3a573e47a194e93bce78e57df1a2877",
            "max": 12238,
            "min": 0,
            "orientation": "horizontal",
            "style": "IPY_MODEL_a346618a2d8644c7a3143f4e03098900",
            "value": 12238
          }
        },
        "84f713b98f094b3784406410b1b78dcc": {
          "model_module": "@jupyter-widgets/controls",
          "model_name": "HTMLModel",
          "model_module_version": "1.5.0",
          "state": {
            "_dom_classes": [],
            "_model_module": "@jupyter-widgets/controls",
            "_model_module_version": "1.5.0",
            "_model_name": "HTMLModel",
            "_view_count": null,
            "_view_module": "@jupyter-widgets/controls",
            "_view_module_version": "1.5.0",
            "_view_name": "HTMLView",
            "description": "",
            "description_tooltip": null,
            "layout": "IPY_MODEL_16362bb8ea584bc7bb67d599df6ba243",
            "placeholder": "​",
            "style": "IPY_MODEL_7e4824be20284818bf54562ad743b984",
            "value": " 12239/? [02:07&lt;00:00, 124.84it/s]"
          }
        },
        "628c17c56b61447a8f920b547f97deff": {
          "model_module": "@jupyter-widgets/base",
          "model_name": "LayoutModel",
          "model_module_version": "1.2.0",
          "state": {
            "_model_module": "@jupyter-widgets/base",
            "_model_module_version": "1.2.0",
            "_model_name": "LayoutModel",
            "_view_count": null,
            "_view_module": "@jupyter-widgets/base",
            "_view_module_version": "1.2.0",
            "_view_name": "LayoutView",
            "align_content": null,
            "align_items": null,
            "align_self": null,
            "border": null,
            "bottom": null,
            "display": null,
            "flex": null,
            "flex_flow": null,
            "grid_area": null,
            "grid_auto_columns": null,
            "grid_auto_flow": null,
            "grid_auto_rows": null,
            "grid_column": null,
            "grid_gap": null,
            "grid_row": null,
            "grid_template_areas": null,
            "grid_template_columns": null,
            "grid_template_rows": null,
            "height": null,
            "justify_content": null,
            "justify_items": null,
            "left": null,
            "margin": null,
            "max_height": null,
            "max_width": null,
            "min_height": null,
            "min_width": null,
            "object_fit": null,
            "object_position": null,
            "order": null,
            "overflow": null,
            "overflow_x": null,
            "overflow_y": null,
            "padding": null,
            "right": null,
            "top": null,
            "visibility": null,
            "width": null
          }
        },
        "0ba395c63abf4bffa3095173c7d4158d": {
          "model_module": "@jupyter-widgets/base",
          "model_name": "LayoutModel",
          "model_module_version": "1.2.0",
          "state": {
            "_model_module": "@jupyter-widgets/base",
            "_model_module_version": "1.2.0",
            "_model_name": "LayoutModel",
            "_view_count": null,
            "_view_module": "@jupyter-widgets/base",
            "_view_module_version": "1.2.0",
            "_view_name": "LayoutView",
            "align_content": null,
            "align_items": null,
            "align_self": null,
            "border": null,
            "bottom": null,
            "display": null,
            "flex": null,
            "flex_flow": null,
            "grid_area": null,
            "grid_auto_columns": null,
            "grid_auto_flow": null,
            "grid_auto_rows": null,
            "grid_column": null,
            "grid_gap": null,
            "grid_row": null,
            "grid_template_areas": null,
            "grid_template_columns": null,
            "grid_template_rows": null,
            "height": null,
            "justify_content": null,
            "justify_items": null,
            "left": null,
            "margin": null,
            "max_height": null,
            "max_width": null,
            "min_height": null,
            "min_width": null,
            "object_fit": null,
            "object_position": null,
            "order": null,
            "overflow": null,
            "overflow_x": null,
            "overflow_y": null,
            "padding": null,
            "right": null,
            "top": null,
            "visibility": null,
            "width": null
          }
        },
        "2b6514a9ffcf4261a820d4c87769c434": {
          "model_module": "@jupyter-widgets/controls",
          "model_name": "DescriptionStyleModel",
          "model_module_version": "1.5.0",
          "state": {
            "_model_module": "@jupyter-widgets/controls",
            "_model_module_version": "1.5.0",
            "_model_name": "DescriptionStyleModel",
            "_view_count": null,
            "_view_module": "@jupyter-widgets/base",
            "_view_module_version": "1.2.0",
            "_view_name": "StyleView",
            "description_width": ""
          }
        },
        "d3a573e47a194e93bce78e57df1a2877": {
          "model_module": "@jupyter-widgets/base",
          "model_name": "LayoutModel",
          "model_module_version": "1.2.0",
          "state": {
            "_model_module": "@jupyter-widgets/base",
            "_model_module_version": "1.2.0",
            "_model_name": "LayoutModel",
            "_view_count": null,
            "_view_module": "@jupyter-widgets/base",
            "_view_module_version": "1.2.0",
            "_view_name": "LayoutView",
            "align_content": null,
            "align_items": null,
            "align_self": null,
            "border": null,
            "bottom": null,
            "display": null,
            "flex": null,
            "flex_flow": null,
            "grid_area": null,
            "grid_auto_columns": null,
            "grid_auto_flow": null,
            "grid_auto_rows": null,
            "grid_column": null,
            "grid_gap": null,
            "grid_row": null,
            "grid_template_areas": null,
            "grid_template_columns": null,
            "grid_template_rows": null,
            "height": null,
            "justify_content": null,
            "justify_items": null,
            "left": null,
            "margin": null,
            "max_height": null,
            "max_width": null,
            "min_height": null,
            "min_width": null,
            "object_fit": null,
            "object_position": null,
            "order": null,
            "overflow": null,
            "overflow_x": null,
            "overflow_y": null,
            "padding": null,
            "right": null,
            "top": null,
            "visibility": null,
            "width": null
          }
        },
        "a346618a2d8644c7a3143f4e03098900": {
          "model_module": "@jupyter-widgets/controls",
          "model_name": "ProgressStyleModel",
          "model_module_version": "1.5.0",
          "state": {
            "_model_module": "@jupyter-widgets/controls",
            "_model_module_version": "1.5.0",
            "_model_name": "ProgressStyleModel",
            "_view_count": null,
            "_view_module": "@jupyter-widgets/base",
            "_view_module_version": "1.2.0",
            "_view_name": "StyleView",
            "bar_color": null,
            "description_width": ""
          }
        },
        "16362bb8ea584bc7bb67d599df6ba243": {
          "model_module": "@jupyter-widgets/base",
          "model_name": "LayoutModel",
          "model_module_version": "1.2.0",
          "state": {
            "_model_module": "@jupyter-widgets/base",
            "_model_module_version": "1.2.0",
            "_model_name": "LayoutModel",
            "_view_count": null,
            "_view_module": "@jupyter-widgets/base",
            "_view_module_version": "1.2.0",
            "_view_name": "LayoutView",
            "align_content": null,
            "align_items": null,
            "align_self": null,
            "border": null,
            "bottom": null,
            "display": null,
            "flex": null,
            "flex_flow": null,
            "grid_area": null,
            "grid_auto_columns": null,
            "grid_auto_flow": null,
            "grid_auto_rows": null,
            "grid_column": null,
            "grid_gap": null,
            "grid_row": null,
            "grid_template_areas": null,
            "grid_template_columns": null,
            "grid_template_rows": null,
            "height": null,
            "justify_content": null,
            "justify_items": null,
            "left": null,
            "margin": null,
            "max_height": null,
            "max_width": null,
            "min_height": null,
            "min_width": null,
            "object_fit": null,
            "object_position": null,
            "order": null,
            "overflow": null,
            "overflow_x": null,
            "overflow_y": null,
            "padding": null,
            "right": null,
            "top": null,
            "visibility": null,
            "width": null
          }
        },
        "7e4824be20284818bf54562ad743b984": {
          "model_module": "@jupyter-widgets/controls",
          "model_name": "DescriptionStyleModel",
          "model_module_version": "1.5.0",
          "state": {
            "_model_module": "@jupyter-widgets/controls",
            "_model_module_version": "1.5.0",
            "_model_name": "DescriptionStyleModel",
            "_view_count": null,
            "_view_module": "@jupyter-widgets/base",
            "_view_module_version": "1.2.0",
            "_view_name": "StyleView",
            "description_width": ""
          }
        },
        "d9444483171d4f7e981d4a1b78df113d": {
          "model_module": "@jupyter-widgets/controls",
          "model_name": "HBoxModel",
          "model_module_version": "1.5.0",
          "state": {
            "_dom_classes": [],
            "_model_module": "@jupyter-widgets/controls",
            "_model_module_version": "1.5.0",
            "_model_name": "HBoxModel",
            "_view_count": null,
            "_view_module": "@jupyter-widgets/controls",
            "_view_module_version": "1.5.0",
            "_view_name": "HBoxView",
            "box_style": "",
            "children": [
              "IPY_MODEL_c5edf9fb7b2049ccb36c29083eec4e73",
              "IPY_MODEL_f2e03be3dded4d76b1af2f9223a1c2d4",
              "IPY_MODEL_f07076da2d57493d906814f9249b5c97"
            ],
            "layout": "IPY_MODEL_70bcde04ef154f9693b1d5ce12db7dc9"
          }
        },
        "c5edf9fb7b2049ccb36c29083eec4e73": {
          "model_module": "@jupyter-widgets/controls",
          "model_name": "HTMLModel",
          "model_module_version": "1.5.0",
          "state": {
            "_dom_classes": [],
            "_model_module": "@jupyter-widgets/controls",
            "_model_module_version": "1.5.0",
            "_model_name": "HTMLModel",
            "_view_count": null,
            "_view_module": "@jupyter-widgets/controls",
            "_view_module_version": "1.5.0",
            "_view_name": "HTMLView",
            "description": "",
            "description_tooltip": null,
            "layout": "IPY_MODEL_5c1ddfc6e15944309bcd8ceacf0b5625",
            "placeholder": "​",
            "style": "IPY_MODEL_3038e09200804d7db9ace3c98907ee2d",
            "value": ""
          }
        },
        "f2e03be3dded4d76b1af2f9223a1c2d4": {
          "model_module": "@jupyter-widgets/controls",
          "model_name": "FloatProgressModel",
          "model_module_version": "1.5.0",
          "state": {
            "_dom_classes": [],
            "_model_module": "@jupyter-widgets/controls",
            "_model_module_version": "1.5.0",
            "_model_name": "FloatProgressModel",
            "_view_count": null,
            "_view_module": "@jupyter-widgets/controls",
            "_view_module_version": "1.5.0",
            "_view_name": "ProgressView",
            "bar_style": "success",
            "description": "",
            "description_tooltip": null,
            "layout": "IPY_MODEL_c0f1b5ceae2d46a58dd4530acc80feb3",
            "max": 12238,
            "min": 0,
            "orientation": "horizontal",
            "style": "IPY_MODEL_a381fcf163eb49e1b99612cf78b2aa38",
            "value": 12238
          }
        },
        "f07076da2d57493d906814f9249b5c97": {
          "model_module": "@jupyter-widgets/controls",
          "model_name": "HTMLModel",
          "model_module_version": "1.5.0",
          "state": {
            "_dom_classes": [],
            "_model_module": "@jupyter-widgets/controls",
            "_model_module_version": "1.5.0",
            "_model_name": "HTMLModel",
            "_view_count": null,
            "_view_module": "@jupyter-widgets/controls",
            "_view_module_version": "1.5.0",
            "_view_name": "HTMLView",
            "description": "",
            "description_tooltip": null,
            "layout": "IPY_MODEL_9415fb7b7741408e8e3ad8b73a08d963",
            "placeholder": "​",
            "style": "IPY_MODEL_fb4f49ae1413409695f937cda9818088",
            "value": " 12239/? [01:50&lt;00:00, 118.34it/s]"
          }
        },
        "70bcde04ef154f9693b1d5ce12db7dc9": {
          "model_module": "@jupyter-widgets/base",
          "model_name": "LayoutModel",
          "model_module_version": "1.2.0",
          "state": {
            "_model_module": "@jupyter-widgets/base",
            "_model_module_version": "1.2.0",
            "_model_name": "LayoutModel",
            "_view_count": null,
            "_view_module": "@jupyter-widgets/base",
            "_view_module_version": "1.2.0",
            "_view_name": "LayoutView",
            "align_content": null,
            "align_items": null,
            "align_self": null,
            "border": null,
            "bottom": null,
            "display": null,
            "flex": null,
            "flex_flow": null,
            "grid_area": null,
            "grid_auto_columns": null,
            "grid_auto_flow": null,
            "grid_auto_rows": null,
            "grid_column": null,
            "grid_gap": null,
            "grid_row": null,
            "grid_template_areas": null,
            "grid_template_columns": null,
            "grid_template_rows": null,
            "height": null,
            "justify_content": null,
            "justify_items": null,
            "left": null,
            "margin": null,
            "max_height": null,
            "max_width": null,
            "min_height": null,
            "min_width": null,
            "object_fit": null,
            "object_position": null,
            "order": null,
            "overflow": null,
            "overflow_x": null,
            "overflow_y": null,
            "padding": null,
            "right": null,
            "top": null,
            "visibility": null,
            "width": null
          }
        },
        "5c1ddfc6e15944309bcd8ceacf0b5625": {
          "model_module": "@jupyter-widgets/base",
          "model_name": "LayoutModel",
          "model_module_version": "1.2.0",
          "state": {
            "_model_module": "@jupyter-widgets/base",
            "_model_module_version": "1.2.0",
            "_model_name": "LayoutModel",
            "_view_count": null,
            "_view_module": "@jupyter-widgets/base",
            "_view_module_version": "1.2.0",
            "_view_name": "LayoutView",
            "align_content": null,
            "align_items": null,
            "align_self": null,
            "border": null,
            "bottom": null,
            "display": null,
            "flex": null,
            "flex_flow": null,
            "grid_area": null,
            "grid_auto_columns": null,
            "grid_auto_flow": null,
            "grid_auto_rows": null,
            "grid_column": null,
            "grid_gap": null,
            "grid_row": null,
            "grid_template_areas": null,
            "grid_template_columns": null,
            "grid_template_rows": null,
            "height": null,
            "justify_content": null,
            "justify_items": null,
            "left": null,
            "margin": null,
            "max_height": null,
            "max_width": null,
            "min_height": null,
            "min_width": null,
            "object_fit": null,
            "object_position": null,
            "order": null,
            "overflow": null,
            "overflow_x": null,
            "overflow_y": null,
            "padding": null,
            "right": null,
            "top": null,
            "visibility": null,
            "width": null
          }
        },
        "3038e09200804d7db9ace3c98907ee2d": {
          "model_module": "@jupyter-widgets/controls",
          "model_name": "DescriptionStyleModel",
          "model_module_version": "1.5.0",
          "state": {
            "_model_module": "@jupyter-widgets/controls",
            "_model_module_version": "1.5.0",
            "_model_name": "DescriptionStyleModel",
            "_view_count": null,
            "_view_module": "@jupyter-widgets/base",
            "_view_module_version": "1.2.0",
            "_view_name": "StyleView",
            "description_width": ""
          }
        },
        "c0f1b5ceae2d46a58dd4530acc80feb3": {
          "model_module": "@jupyter-widgets/base",
          "model_name": "LayoutModel",
          "model_module_version": "1.2.0",
          "state": {
            "_model_module": "@jupyter-widgets/base",
            "_model_module_version": "1.2.0",
            "_model_name": "LayoutModel",
            "_view_count": null,
            "_view_module": "@jupyter-widgets/base",
            "_view_module_version": "1.2.0",
            "_view_name": "LayoutView",
            "align_content": null,
            "align_items": null,
            "align_self": null,
            "border": null,
            "bottom": null,
            "display": null,
            "flex": null,
            "flex_flow": null,
            "grid_area": null,
            "grid_auto_columns": null,
            "grid_auto_flow": null,
            "grid_auto_rows": null,
            "grid_column": null,
            "grid_gap": null,
            "grid_row": null,
            "grid_template_areas": null,
            "grid_template_columns": null,
            "grid_template_rows": null,
            "height": null,
            "justify_content": null,
            "justify_items": null,
            "left": null,
            "margin": null,
            "max_height": null,
            "max_width": null,
            "min_height": null,
            "min_width": null,
            "object_fit": null,
            "object_position": null,
            "order": null,
            "overflow": null,
            "overflow_x": null,
            "overflow_y": null,
            "padding": null,
            "right": null,
            "top": null,
            "visibility": null,
            "width": null
          }
        },
        "a381fcf163eb49e1b99612cf78b2aa38": {
          "model_module": "@jupyter-widgets/controls",
          "model_name": "ProgressStyleModel",
          "model_module_version": "1.5.0",
          "state": {
            "_model_module": "@jupyter-widgets/controls",
            "_model_module_version": "1.5.0",
            "_model_name": "ProgressStyleModel",
            "_view_count": null,
            "_view_module": "@jupyter-widgets/base",
            "_view_module_version": "1.2.0",
            "_view_name": "StyleView",
            "bar_color": null,
            "description_width": ""
          }
        },
        "9415fb7b7741408e8e3ad8b73a08d963": {
          "model_module": "@jupyter-widgets/base",
          "model_name": "LayoutModel",
          "model_module_version": "1.2.0",
          "state": {
            "_model_module": "@jupyter-widgets/base",
            "_model_module_version": "1.2.0",
            "_model_name": "LayoutModel",
            "_view_count": null,
            "_view_module": "@jupyter-widgets/base",
            "_view_module_version": "1.2.0",
            "_view_name": "LayoutView",
            "align_content": null,
            "align_items": null,
            "align_self": null,
            "border": null,
            "bottom": null,
            "display": null,
            "flex": null,
            "flex_flow": null,
            "grid_area": null,
            "grid_auto_columns": null,
            "grid_auto_flow": null,
            "grid_auto_rows": null,
            "grid_column": null,
            "grid_gap": null,
            "grid_row": null,
            "grid_template_areas": null,
            "grid_template_columns": null,
            "grid_template_rows": null,
            "height": null,
            "justify_content": null,
            "justify_items": null,
            "left": null,
            "margin": null,
            "max_height": null,
            "max_width": null,
            "min_height": null,
            "min_width": null,
            "object_fit": null,
            "object_position": null,
            "order": null,
            "overflow": null,
            "overflow_x": null,
            "overflow_y": null,
            "padding": null,
            "right": null,
            "top": null,
            "visibility": null,
            "width": null
          }
        },
        "fb4f49ae1413409695f937cda9818088": {
          "model_module": "@jupyter-widgets/controls",
          "model_name": "DescriptionStyleModel",
          "model_module_version": "1.5.0",
          "state": {
            "_model_module": "@jupyter-widgets/controls",
            "_model_module_version": "1.5.0",
            "_model_name": "DescriptionStyleModel",
            "_view_count": null,
            "_view_module": "@jupyter-widgets/base",
            "_view_module_version": "1.2.0",
            "_view_name": "StyleView",
            "description_width": ""
          }
        },
        "68d74d941e42471aaaec6bd2759f656b": {
          "model_module": "@jupyter-widgets/controls",
          "model_name": "HBoxModel",
          "model_module_version": "1.5.0",
          "state": {
            "_dom_classes": [],
            "_model_module": "@jupyter-widgets/controls",
            "_model_module_version": "1.5.0",
            "_model_name": "HBoxModel",
            "_view_count": null,
            "_view_module": "@jupyter-widgets/controls",
            "_view_module_version": "1.5.0",
            "_view_name": "HBoxView",
            "box_style": "",
            "children": [
              "IPY_MODEL_c2b71a27c7b3436c9c04ed1be53bd1e3",
              "IPY_MODEL_fbcd40c01b0848f2808166b35c2a77b1",
              "IPY_MODEL_5e4f82e43b804f748cdca713144cdcc1"
            ],
            "layout": "IPY_MODEL_399a3ff228074561a2f9792515641b6d"
          }
        },
        "c2b71a27c7b3436c9c04ed1be53bd1e3": {
          "model_module": "@jupyter-widgets/controls",
          "model_name": "HTMLModel",
          "model_module_version": "1.5.0",
          "state": {
            "_dom_classes": [],
            "_model_module": "@jupyter-widgets/controls",
            "_model_module_version": "1.5.0",
            "_model_name": "HTMLModel",
            "_view_count": null,
            "_view_module": "@jupyter-widgets/controls",
            "_view_module_version": "1.5.0",
            "_view_name": "HTMLView",
            "description": "",
            "description_tooltip": null,
            "layout": "IPY_MODEL_e0bb2af055c34eb4a4c33704fd24004e",
            "placeholder": "​",
            "style": "IPY_MODEL_0d182090113748518ed0da591a8750fd",
            "value": ""
          }
        },
        "fbcd40c01b0848f2808166b35c2a77b1": {
          "model_module": "@jupyter-widgets/controls",
          "model_name": "FloatProgressModel",
          "model_module_version": "1.5.0",
          "state": {
            "_dom_classes": [],
            "_model_module": "@jupyter-widgets/controls",
            "_model_module_version": "1.5.0",
            "_model_name": "FloatProgressModel",
            "_view_count": null,
            "_view_module": "@jupyter-widgets/controls",
            "_view_module_version": "1.5.0",
            "_view_name": "ProgressView",
            "bar_style": "success",
            "description": "",
            "description_tooltip": null,
            "layout": "IPY_MODEL_e44c2e7b548c4716b5d0a7e0c18596c1",
            "max": 12238,
            "min": 0,
            "orientation": "horizontal",
            "style": "IPY_MODEL_8c94cc1207a04c98838c7449d3c0d956",
            "value": 12238
          }
        },
        "5e4f82e43b804f748cdca713144cdcc1": {
          "model_module": "@jupyter-widgets/controls",
          "model_name": "HTMLModel",
          "model_module_version": "1.5.0",
          "state": {
            "_dom_classes": [],
            "_model_module": "@jupyter-widgets/controls",
            "_model_module_version": "1.5.0",
            "_model_name": "HTMLModel",
            "_view_count": null,
            "_view_module": "@jupyter-widgets/controls",
            "_view_module_version": "1.5.0",
            "_view_name": "HTMLView",
            "description": "",
            "description_tooltip": null,
            "layout": "IPY_MODEL_55a3e70f889b4833b71e0ae22e8f42e9",
            "placeholder": "​",
            "style": "IPY_MODEL_8b7a5a2ad9e04d97ae0f2d14d000971e",
            "value": " 12239/? [01:47&lt;00:00, 124.99it/s]"
          }
        },
        "399a3ff228074561a2f9792515641b6d": {
          "model_module": "@jupyter-widgets/base",
          "model_name": "LayoutModel",
          "model_module_version": "1.2.0",
          "state": {
            "_model_module": "@jupyter-widgets/base",
            "_model_module_version": "1.2.0",
            "_model_name": "LayoutModel",
            "_view_count": null,
            "_view_module": "@jupyter-widgets/base",
            "_view_module_version": "1.2.0",
            "_view_name": "LayoutView",
            "align_content": null,
            "align_items": null,
            "align_self": null,
            "border": null,
            "bottom": null,
            "display": null,
            "flex": null,
            "flex_flow": null,
            "grid_area": null,
            "grid_auto_columns": null,
            "grid_auto_flow": null,
            "grid_auto_rows": null,
            "grid_column": null,
            "grid_gap": null,
            "grid_row": null,
            "grid_template_areas": null,
            "grid_template_columns": null,
            "grid_template_rows": null,
            "height": null,
            "justify_content": null,
            "justify_items": null,
            "left": null,
            "margin": null,
            "max_height": null,
            "max_width": null,
            "min_height": null,
            "min_width": null,
            "object_fit": null,
            "object_position": null,
            "order": null,
            "overflow": null,
            "overflow_x": null,
            "overflow_y": null,
            "padding": null,
            "right": null,
            "top": null,
            "visibility": null,
            "width": null
          }
        },
        "e0bb2af055c34eb4a4c33704fd24004e": {
          "model_module": "@jupyter-widgets/base",
          "model_name": "LayoutModel",
          "model_module_version": "1.2.0",
          "state": {
            "_model_module": "@jupyter-widgets/base",
            "_model_module_version": "1.2.0",
            "_model_name": "LayoutModel",
            "_view_count": null,
            "_view_module": "@jupyter-widgets/base",
            "_view_module_version": "1.2.0",
            "_view_name": "LayoutView",
            "align_content": null,
            "align_items": null,
            "align_self": null,
            "border": null,
            "bottom": null,
            "display": null,
            "flex": null,
            "flex_flow": null,
            "grid_area": null,
            "grid_auto_columns": null,
            "grid_auto_flow": null,
            "grid_auto_rows": null,
            "grid_column": null,
            "grid_gap": null,
            "grid_row": null,
            "grid_template_areas": null,
            "grid_template_columns": null,
            "grid_template_rows": null,
            "height": null,
            "justify_content": null,
            "justify_items": null,
            "left": null,
            "margin": null,
            "max_height": null,
            "max_width": null,
            "min_height": null,
            "min_width": null,
            "object_fit": null,
            "object_position": null,
            "order": null,
            "overflow": null,
            "overflow_x": null,
            "overflow_y": null,
            "padding": null,
            "right": null,
            "top": null,
            "visibility": null,
            "width": null
          }
        },
        "0d182090113748518ed0da591a8750fd": {
          "model_module": "@jupyter-widgets/controls",
          "model_name": "DescriptionStyleModel",
          "model_module_version": "1.5.0",
          "state": {
            "_model_module": "@jupyter-widgets/controls",
            "_model_module_version": "1.5.0",
            "_model_name": "DescriptionStyleModel",
            "_view_count": null,
            "_view_module": "@jupyter-widgets/base",
            "_view_module_version": "1.2.0",
            "_view_name": "StyleView",
            "description_width": ""
          }
        },
        "e44c2e7b548c4716b5d0a7e0c18596c1": {
          "model_module": "@jupyter-widgets/base",
          "model_name": "LayoutModel",
          "model_module_version": "1.2.0",
          "state": {
            "_model_module": "@jupyter-widgets/base",
            "_model_module_version": "1.2.0",
            "_model_name": "LayoutModel",
            "_view_count": null,
            "_view_module": "@jupyter-widgets/base",
            "_view_module_version": "1.2.0",
            "_view_name": "LayoutView",
            "align_content": null,
            "align_items": null,
            "align_self": null,
            "border": null,
            "bottom": null,
            "display": null,
            "flex": null,
            "flex_flow": null,
            "grid_area": null,
            "grid_auto_columns": null,
            "grid_auto_flow": null,
            "grid_auto_rows": null,
            "grid_column": null,
            "grid_gap": null,
            "grid_row": null,
            "grid_template_areas": null,
            "grid_template_columns": null,
            "grid_template_rows": null,
            "height": null,
            "justify_content": null,
            "justify_items": null,
            "left": null,
            "margin": null,
            "max_height": null,
            "max_width": null,
            "min_height": null,
            "min_width": null,
            "object_fit": null,
            "object_position": null,
            "order": null,
            "overflow": null,
            "overflow_x": null,
            "overflow_y": null,
            "padding": null,
            "right": null,
            "top": null,
            "visibility": null,
            "width": null
          }
        },
        "8c94cc1207a04c98838c7449d3c0d956": {
          "model_module": "@jupyter-widgets/controls",
          "model_name": "ProgressStyleModel",
          "model_module_version": "1.5.0",
          "state": {
            "_model_module": "@jupyter-widgets/controls",
            "_model_module_version": "1.5.0",
            "_model_name": "ProgressStyleModel",
            "_view_count": null,
            "_view_module": "@jupyter-widgets/base",
            "_view_module_version": "1.2.0",
            "_view_name": "StyleView",
            "bar_color": null,
            "description_width": ""
          }
        },
        "55a3e70f889b4833b71e0ae22e8f42e9": {
          "model_module": "@jupyter-widgets/base",
          "model_name": "LayoutModel",
          "model_module_version": "1.2.0",
          "state": {
            "_model_module": "@jupyter-widgets/base",
            "_model_module_version": "1.2.0",
            "_model_name": "LayoutModel",
            "_view_count": null,
            "_view_module": "@jupyter-widgets/base",
            "_view_module_version": "1.2.0",
            "_view_name": "LayoutView",
            "align_content": null,
            "align_items": null,
            "align_self": null,
            "border": null,
            "bottom": null,
            "display": null,
            "flex": null,
            "flex_flow": null,
            "grid_area": null,
            "grid_auto_columns": null,
            "grid_auto_flow": null,
            "grid_auto_rows": null,
            "grid_column": null,
            "grid_gap": null,
            "grid_row": null,
            "grid_template_areas": null,
            "grid_template_columns": null,
            "grid_template_rows": null,
            "height": null,
            "justify_content": null,
            "justify_items": null,
            "left": null,
            "margin": null,
            "max_height": null,
            "max_width": null,
            "min_height": null,
            "min_width": null,
            "object_fit": null,
            "object_position": null,
            "order": null,
            "overflow": null,
            "overflow_x": null,
            "overflow_y": null,
            "padding": null,
            "right": null,
            "top": null,
            "visibility": null,
            "width": null
          }
        },
        "8b7a5a2ad9e04d97ae0f2d14d000971e": {
          "model_module": "@jupyter-widgets/controls",
          "model_name": "DescriptionStyleModel",
          "model_module_version": "1.5.0",
          "state": {
            "_model_module": "@jupyter-widgets/controls",
            "_model_module_version": "1.5.0",
            "_model_name": "DescriptionStyleModel",
            "_view_count": null,
            "_view_module": "@jupyter-widgets/base",
            "_view_module_version": "1.2.0",
            "_view_name": "StyleView",
            "description_width": ""
          }
        },
        "2ce5e461d2bd429eaf0f79dced0fbc39": {
          "model_module": "@jupyter-widgets/controls",
          "model_name": "HBoxModel",
          "model_module_version": "1.5.0",
          "state": {
            "_dom_classes": [],
            "_model_module": "@jupyter-widgets/controls",
            "_model_module_version": "1.5.0",
            "_model_name": "HBoxModel",
            "_view_count": null,
            "_view_module": "@jupyter-widgets/controls",
            "_view_module_version": "1.5.0",
            "_view_name": "HBoxView",
            "box_style": "",
            "children": [
              "IPY_MODEL_f5715f04b50d4368b6ac755650acc7bb",
              "IPY_MODEL_a677ed0cc7fb4c65b20887a77d0abe68",
              "IPY_MODEL_d4da1b45685e43cf85678a62c5167724"
            ],
            "layout": "IPY_MODEL_ca99a8a7bd6f4fb0b5dde863cccb84b3"
          }
        },
        "f5715f04b50d4368b6ac755650acc7bb": {
          "model_module": "@jupyter-widgets/controls",
          "model_name": "HTMLModel",
          "model_module_version": "1.5.0",
          "state": {
            "_dom_classes": [],
            "_model_module": "@jupyter-widgets/controls",
            "_model_module_version": "1.5.0",
            "_model_name": "HTMLModel",
            "_view_count": null,
            "_view_module": "@jupyter-widgets/controls",
            "_view_module_version": "1.5.0",
            "_view_name": "HTMLView",
            "description": "",
            "description_tooltip": null,
            "layout": "IPY_MODEL_355bc07f90cc4a1aa4f00a50a36a4bd8",
            "placeholder": "​",
            "style": "IPY_MODEL_e002ac39d98146e6818dd103c752753a",
            "value": ""
          }
        },
        "a677ed0cc7fb4c65b20887a77d0abe68": {
          "model_module": "@jupyter-widgets/controls",
          "model_name": "FloatProgressModel",
          "model_module_version": "1.5.0",
          "state": {
            "_dom_classes": [],
            "_model_module": "@jupyter-widgets/controls",
            "_model_module_version": "1.5.0",
            "_model_name": "FloatProgressModel",
            "_view_count": null,
            "_view_module": "@jupyter-widgets/controls",
            "_view_module_version": "1.5.0",
            "_view_name": "ProgressView",
            "bar_style": "success",
            "description": "",
            "description_tooltip": null,
            "layout": "IPY_MODEL_a3af9f65fb074681a5db88ae956f37da",
            "max": 12238,
            "min": 0,
            "orientation": "horizontal",
            "style": "IPY_MODEL_ae930dcf85c84ae38c898f9284d68fe1",
            "value": 12238
          }
        },
        "d4da1b45685e43cf85678a62c5167724": {
          "model_module": "@jupyter-widgets/controls",
          "model_name": "HTMLModel",
          "model_module_version": "1.5.0",
          "state": {
            "_dom_classes": [],
            "_model_module": "@jupyter-widgets/controls",
            "_model_module_version": "1.5.0",
            "_model_name": "HTMLModel",
            "_view_count": null,
            "_view_module": "@jupyter-widgets/controls",
            "_view_module_version": "1.5.0",
            "_view_name": "HTMLView",
            "description": "",
            "description_tooltip": null,
            "layout": "IPY_MODEL_4e952a0b340648e6b7b4f5cc4292fbc9",
            "placeholder": "​",
            "style": "IPY_MODEL_d5fbec0b84974ff493d1c6020d0aed52",
            "value": " 12239/? [01:46&lt;00:00, 113.04it/s]"
          }
        },
        "ca99a8a7bd6f4fb0b5dde863cccb84b3": {
          "model_module": "@jupyter-widgets/base",
          "model_name": "LayoutModel",
          "model_module_version": "1.2.0",
          "state": {
            "_model_module": "@jupyter-widgets/base",
            "_model_module_version": "1.2.0",
            "_model_name": "LayoutModel",
            "_view_count": null,
            "_view_module": "@jupyter-widgets/base",
            "_view_module_version": "1.2.0",
            "_view_name": "LayoutView",
            "align_content": null,
            "align_items": null,
            "align_self": null,
            "border": null,
            "bottom": null,
            "display": null,
            "flex": null,
            "flex_flow": null,
            "grid_area": null,
            "grid_auto_columns": null,
            "grid_auto_flow": null,
            "grid_auto_rows": null,
            "grid_column": null,
            "grid_gap": null,
            "grid_row": null,
            "grid_template_areas": null,
            "grid_template_columns": null,
            "grid_template_rows": null,
            "height": null,
            "justify_content": null,
            "justify_items": null,
            "left": null,
            "margin": null,
            "max_height": null,
            "max_width": null,
            "min_height": null,
            "min_width": null,
            "object_fit": null,
            "object_position": null,
            "order": null,
            "overflow": null,
            "overflow_x": null,
            "overflow_y": null,
            "padding": null,
            "right": null,
            "top": null,
            "visibility": null,
            "width": null
          }
        },
        "355bc07f90cc4a1aa4f00a50a36a4bd8": {
          "model_module": "@jupyter-widgets/base",
          "model_name": "LayoutModel",
          "model_module_version": "1.2.0",
          "state": {
            "_model_module": "@jupyter-widgets/base",
            "_model_module_version": "1.2.0",
            "_model_name": "LayoutModel",
            "_view_count": null,
            "_view_module": "@jupyter-widgets/base",
            "_view_module_version": "1.2.0",
            "_view_name": "LayoutView",
            "align_content": null,
            "align_items": null,
            "align_self": null,
            "border": null,
            "bottom": null,
            "display": null,
            "flex": null,
            "flex_flow": null,
            "grid_area": null,
            "grid_auto_columns": null,
            "grid_auto_flow": null,
            "grid_auto_rows": null,
            "grid_column": null,
            "grid_gap": null,
            "grid_row": null,
            "grid_template_areas": null,
            "grid_template_columns": null,
            "grid_template_rows": null,
            "height": null,
            "justify_content": null,
            "justify_items": null,
            "left": null,
            "margin": null,
            "max_height": null,
            "max_width": null,
            "min_height": null,
            "min_width": null,
            "object_fit": null,
            "object_position": null,
            "order": null,
            "overflow": null,
            "overflow_x": null,
            "overflow_y": null,
            "padding": null,
            "right": null,
            "top": null,
            "visibility": null,
            "width": null
          }
        },
        "e002ac39d98146e6818dd103c752753a": {
          "model_module": "@jupyter-widgets/controls",
          "model_name": "DescriptionStyleModel",
          "model_module_version": "1.5.0",
          "state": {
            "_model_module": "@jupyter-widgets/controls",
            "_model_module_version": "1.5.0",
            "_model_name": "DescriptionStyleModel",
            "_view_count": null,
            "_view_module": "@jupyter-widgets/base",
            "_view_module_version": "1.2.0",
            "_view_name": "StyleView",
            "description_width": ""
          }
        },
        "a3af9f65fb074681a5db88ae956f37da": {
          "model_module": "@jupyter-widgets/base",
          "model_name": "LayoutModel",
          "model_module_version": "1.2.0",
          "state": {
            "_model_module": "@jupyter-widgets/base",
            "_model_module_version": "1.2.0",
            "_model_name": "LayoutModel",
            "_view_count": null,
            "_view_module": "@jupyter-widgets/base",
            "_view_module_version": "1.2.0",
            "_view_name": "LayoutView",
            "align_content": null,
            "align_items": null,
            "align_self": null,
            "border": null,
            "bottom": null,
            "display": null,
            "flex": null,
            "flex_flow": null,
            "grid_area": null,
            "grid_auto_columns": null,
            "grid_auto_flow": null,
            "grid_auto_rows": null,
            "grid_column": null,
            "grid_gap": null,
            "grid_row": null,
            "grid_template_areas": null,
            "grid_template_columns": null,
            "grid_template_rows": null,
            "height": null,
            "justify_content": null,
            "justify_items": null,
            "left": null,
            "margin": null,
            "max_height": null,
            "max_width": null,
            "min_height": null,
            "min_width": null,
            "object_fit": null,
            "object_position": null,
            "order": null,
            "overflow": null,
            "overflow_x": null,
            "overflow_y": null,
            "padding": null,
            "right": null,
            "top": null,
            "visibility": null,
            "width": null
          }
        },
        "ae930dcf85c84ae38c898f9284d68fe1": {
          "model_module": "@jupyter-widgets/controls",
          "model_name": "ProgressStyleModel",
          "model_module_version": "1.5.0",
          "state": {
            "_model_module": "@jupyter-widgets/controls",
            "_model_module_version": "1.5.0",
            "_model_name": "ProgressStyleModel",
            "_view_count": null,
            "_view_module": "@jupyter-widgets/base",
            "_view_module_version": "1.2.0",
            "_view_name": "StyleView",
            "bar_color": null,
            "description_width": ""
          }
        },
        "4e952a0b340648e6b7b4f5cc4292fbc9": {
          "model_module": "@jupyter-widgets/base",
          "model_name": "LayoutModel",
          "model_module_version": "1.2.0",
          "state": {
            "_model_module": "@jupyter-widgets/base",
            "_model_module_version": "1.2.0",
            "_model_name": "LayoutModel",
            "_view_count": null,
            "_view_module": "@jupyter-widgets/base",
            "_view_module_version": "1.2.0",
            "_view_name": "LayoutView",
            "align_content": null,
            "align_items": null,
            "align_self": null,
            "border": null,
            "bottom": null,
            "display": null,
            "flex": null,
            "flex_flow": null,
            "grid_area": null,
            "grid_auto_columns": null,
            "grid_auto_flow": null,
            "grid_auto_rows": null,
            "grid_column": null,
            "grid_gap": null,
            "grid_row": null,
            "grid_template_areas": null,
            "grid_template_columns": null,
            "grid_template_rows": null,
            "height": null,
            "justify_content": null,
            "justify_items": null,
            "left": null,
            "margin": null,
            "max_height": null,
            "max_width": null,
            "min_height": null,
            "min_width": null,
            "object_fit": null,
            "object_position": null,
            "order": null,
            "overflow": null,
            "overflow_x": null,
            "overflow_y": null,
            "padding": null,
            "right": null,
            "top": null,
            "visibility": null,
            "width": null
          }
        },
        "d5fbec0b84974ff493d1c6020d0aed52": {
          "model_module": "@jupyter-widgets/controls",
          "model_name": "DescriptionStyleModel",
          "model_module_version": "1.5.0",
          "state": {
            "_model_module": "@jupyter-widgets/controls",
            "_model_module_version": "1.5.0",
            "_model_name": "DescriptionStyleModel",
            "_view_count": null,
            "_view_module": "@jupyter-widgets/base",
            "_view_module_version": "1.2.0",
            "_view_name": "StyleView",
            "description_width": ""
          }
        },
        "894d8c8e8c114f21abd1e7502ee5686a": {
          "model_module": "@jupyter-widgets/controls",
          "model_name": "HBoxModel",
          "model_module_version": "1.5.0",
          "state": {
            "_dom_classes": [],
            "_model_module": "@jupyter-widgets/controls",
            "_model_module_version": "1.5.0",
            "_model_name": "HBoxModel",
            "_view_count": null,
            "_view_module": "@jupyter-widgets/controls",
            "_view_module_version": "1.5.0",
            "_view_name": "HBoxView",
            "box_style": "",
            "children": [
              "IPY_MODEL_837cd891db7d4a778845132f36c3a2d2",
              "IPY_MODEL_71b57bafa7e342a6bef82b15c52c4a70",
              "IPY_MODEL_ecddacc9a28b403b86f5288f1dac0449"
            ],
            "layout": "IPY_MODEL_377599acd4e54747add28b00da304d94"
          }
        },
        "837cd891db7d4a778845132f36c3a2d2": {
          "model_module": "@jupyter-widgets/controls",
          "model_name": "HTMLModel",
          "model_module_version": "1.5.0",
          "state": {
            "_dom_classes": [],
            "_model_module": "@jupyter-widgets/controls",
            "_model_module_version": "1.5.0",
            "_model_name": "HTMLModel",
            "_view_count": null,
            "_view_module": "@jupyter-widgets/controls",
            "_view_module_version": "1.5.0",
            "_view_name": "HTMLView",
            "description": "",
            "description_tooltip": null,
            "layout": "IPY_MODEL_b8094840fade4f21baa95f85d0c0d657",
            "placeholder": "​",
            "style": "IPY_MODEL_4613b7a96fc44a638fbcaeaaec7b2fae",
            "value": ""
          }
        },
        "71b57bafa7e342a6bef82b15c52c4a70": {
          "model_module": "@jupyter-widgets/controls",
          "model_name": "FloatProgressModel",
          "model_module_version": "1.5.0",
          "state": {
            "_dom_classes": [],
            "_model_module": "@jupyter-widgets/controls",
            "_model_module_version": "1.5.0",
            "_model_name": "FloatProgressModel",
            "_view_count": null,
            "_view_module": "@jupyter-widgets/controls",
            "_view_module_version": "1.5.0",
            "_view_name": "ProgressView",
            "bar_style": "success",
            "description": "",
            "description_tooltip": null,
            "layout": "IPY_MODEL_9441a658053b49abb3d69331b722dc9b",
            "max": 12238,
            "min": 0,
            "orientation": "horizontal",
            "style": "IPY_MODEL_84a3f7b2c2a144158a3a68851ed94635",
            "value": 12238
          }
        },
        "ecddacc9a28b403b86f5288f1dac0449": {
          "model_module": "@jupyter-widgets/controls",
          "model_name": "HTMLModel",
          "model_module_version": "1.5.0",
          "state": {
            "_dom_classes": [],
            "_model_module": "@jupyter-widgets/controls",
            "_model_module_version": "1.5.0",
            "_model_name": "HTMLModel",
            "_view_count": null,
            "_view_module": "@jupyter-widgets/controls",
            "_view_module_version": "1.5.0",
            "_view_name": "HTMLView",
            "description": "",
            "description_tooltip": null,
            "layout": "IPY_MODEL_022c19130fbd4fc8b9618f4600111a5b",
            "placeholder": "​",
            "style": "IPY_MODEL_9ce66d94a788413288c5dc00c2ad42c1",
            "value": " 12239/? [01:51&lt;00:00, 124.16it/s]"
          }
        },
        "377599acd4e54747add28b00da304d94": {
          "model_module": "@jupyter-widgets/base",
          "model_name": "LayoutModel",
          "model_module_version": "1.2.0",
          "state": {
            "_model_module": "@jupyter-widgets/base",
            "_model_module_version": "1.2.0",
            "_model_name": "LayoutModel",
            "_view_count": null,
            "_view_module": "@jupyter-widgets/base",
            "_view_module_version": "1.2.0",
            "_view_name": "LayoutView",
            "align_content": null,
            "align_items": null,
            "align_self": null,
            "border": null,
            "bottom": null,
            "display": null,
            "flex": null,
            "flex_flow": null,
            "grid_area": null,
            "grid_auto_columns": null,
            "grid_auto_flow": null,
            "grid_auto_rows": null,
            "grid_column": null,
            "grid_gap": null,
            "grid_row": null,
            "grid_template_areas": null,
            "grid_template_columns": null,
            "grid_template_rows": null,
            "height": null,
            "justify_content": null,
            "justify_items": null,
            "left": null,
            "margin": null,
            "max_height": null,
            "max_width": null,
            "min_height": null,
            "min_width": null,
            "object_fit": null,
            "object_position": null,
            "order": null,
            "overflow": null,
            "overflow_x": null,
            "overflow_y": null,
            "padding": null,
            "right": null,
            "top": null,
            "visibility": null,
            "width": null
          }
        },
        "b8094840fade4f21baa95f85d0c0d657": {
          "model_module": "@jupyter-widgets/base",
          "model_name": "LayoutModel",
          "model_module_version": "1.2.0",
          "state": {
            "_model_module": "@jupyter-widgets/base",
            "_model_module_version": "1.2.0",
            "_model_name": "LayoutModel",
            "_view_count": null,
            "_view_module": "@jupyter-widgets/base",
            "_view_module_version": "1.2.0",
            "_view_name": "LayoutView",
            "align_content": null,
            "align_items": null,
            "align_self": null,
            "border": null,
            "bottom": null,
            "display": null,
            "flex": null,
            "flex_flow": null,
            "grid_area": null,
            "grid_auto_columns": null,
            "grid_auto_flow": null,
            "grid_auto_rows": null,
            "grid_column": null,
            "grid_gap": null,
            "grid_row": null,
            "grid_template_areas": null,
            "grid_template_columns": null,
            "grid_template_rows": null,
            "height": null,
            "justify_content": null,
            "justify_items": null,
            "left": null,
            "margin": null,
            "max_height": null,
            "max_width": null,
            "min_height": null,
            "min_width": null,
            "object_fit": null,
            "object_position": null,
            "order": null,
            "overflow": null,
            "overflow_x": null,
            "overflow_y": null,
            "padding": null,
            "right": null,
            "top": null,
            "visibility": null,
            "width": null
          }
        },
        "4613b7a96fc44a638fbcaeaaec7b2fae": {
          "model_module": "@jupyter-widgets/controls",
          "model_name": "DescriptionStyleModel",
          "model_module_version": "1.5.0",
          "state": {
            "_model_module": "@jupyter-widgets/controls",
            "_model_module_version": "1.5.0",
            "_model_name": "DescriptionStyleModel",
            "_view_count": null,
            "_view_module": "@jupyter-widgets/base",
            "_view_module_version": "1.2.0",
            "_view_name": "StyleView",
            "description_width": ""
          }
        },
        "9441a658053b49abb3d69331b722dc9b": {
          "model_module": "@jupyter-widgets/base",
          "model_name": "LayoutModel",
          "model_module_version": "1.2.0",
          "state": {
            "_model_module": "@jupyter-widgets/base",
            "_model_module_version": "1.2.0",
            "_model_name": "LayoutModel",
            "_view_count": null,
            "_view_module": "@jupyter-widgets/base",
            "_view_module_version": "1.2.0",
            "_view_name": "LayoutView",
            "align_content": null,
            "align_items": null,
            "align_self": null,
            "border": null,
            "bottom": null,
            "display": null,
            "flex": null,
            "flex_flow": null,
            "grid_area": null,
            "grid_auto_columns": null,
            "grid_auto_flow": null,
            "grid_auto_rows": null,
            "grid_column": null,
            "grid_gap": null,
            "grid_row": null,
            "grid_template_areas": null,
            "grid_template_columns": null,
            "grid_template_rows": null,
            "height": null,
            "justify_content": null,
            "justify_items": null,
            "left": null,
            "margin": null,
            "max_height": null,
            "max_width": null,
            "min_height": null,
            "min_width": null,
            "object_fit": null,
            "object_position": null,
            "order": null,
            "overflow": null,
            "overflow_x": null,
            "overflow_y": null,
            "padding": null,
            "right": null,
            "top": null,
            "visibility": null,
            "width": null
          }
        },
        "84a3f7b2c2a144158a3a68851ed94635": {
          "model_module": "@jupyter-widgets/controls",
          "model_name": "ProgressStyleModel",
          "model_module_version": "1.5.0",
          "state": {
            "_model_module": "@jupyter-widgets/controls",
            "_model_module_version": "1.5.0",
            "_model_name": "ProgressStyleModel",
            "_view_count": null,
            "_view_module": "@jupyter-widgets/base",
            "_view_module_version": "1.2.0",
            "_view_name": "StyleView",
            "bar_color": null,
            "description_width": ""
          }
        },
        "022c19130fbd4fc8b9618f4600111a5b": {
          "model_module": "@jupyter-widgets/base",
          "model_name": "LayoutModel",
          "model_module_version": "1.2.0",
          "state": {
            "_model_module": "@jupyter-widgets/base",
            "_model_module_version": "1.2.0",
            "_model_name": "LayoutModel",
            "_view_count": null,
            "_view_module": "@jupyter-widgets/base",
            "_view_module_version": "1.2.0",
            "_view_name": "LayoutView",
            "align_content": null,
            "align_items": null,
            "align_self": null,
            "border": null,
            "bottom": null,
            "display": null,
            "flex": null,
            "flex_flow": null,
            "grid_area": null,
            "grid_auto_columns": null,
            "grid_auto_flow": null,
            "grid_auto_rows": null,
            "grid_column": null,
            "grid_gap": null,
            "grid_row": null,
            "grid_template_areas": null,
            "grid_template_columns": null,
            "grid_template_rows": null,
            "height": null,
            "justify_content": null,
            "justify_items": null,
            "left": null,
            "margin": null,
            "max_height": null,
            "max_width": null,
            "min_height": null,
            "min_width": null,
            "object_fit": null,
            "object_position": null,
            "order": null,
            "overflow": null,
            "overflow_x": null,
            "overflow_y": null,
            "padding": null,
            "right": null,
            "top": null,
            "visibility": null,
            "width": null
          }
        },
        "9ce66d94a788413288c5dc00c2ad42c1": {
          "model_module": "@jupyter-widgets/controls",
          "model_name": "DescriptionStyleModel",
          "model_module_version": "1.5.0",
          "state": {
            "_model_module": "@jupyter-widgets/controls",
            "_model_module_version": "1.5.0",
            "_model_name": "DescriptionStyleModel",
            "_view_count": null,
            "_view_module": "@jupyter-widgets/base",
            "_view_module_version": "1.2.0",
            "_view_name": "StyleView",
            "description_width": ""
          }
        }
      }
    }
  },
  "nbformat": 4,
  "nbformat_minor": 0
}
